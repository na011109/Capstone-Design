{
 "cells": [
  {
   "cell_type": "code",
   "execution_count": 46,
   "metadata": {},
   "outputs": [
    {
     "name": "stderr",
     "output_type": "stream",
     "text": [
      "Batches: 100%|██████████| 1954/1954 [00:17<00:00, 113.06it/s]\n"
     ]
    }
   ],
   "source": [
    "from sentence_transformers import SentenceTransformer, util\n",
    "import os\n",
    "import csv\n",
    "\n",
    "model = SentenceTransformer('all-MiniLM-L6-v2')\n",
    "\n",
    "\n",
    "url = \"http://qim.fs.quoracdn.net/quora_duplicate_questions.tsv\"\n",
    "dataset_path = \"quora_duplicate_questions.tsv\"\n",
    "max_corpus_size = 500000\n",
    "\n",
    "\n",
    "# 샘플 dataset check 및 download\n",
    "if not os.path.exists(dataset_path):\n",
    "    util.http_get(url, dataset_path)\n",
    "\n",
    "# 집합에 unique한 문장을 추출 및 저장\n",
    "corpus_sentences = set()\n",
    "with open(dataset_path, encoding='utf8') as file:\n",
    "    reader = csv.DictReader(file, delimiter='\\t', quoting=csv.QUOTE_MINIMAL)\n",
    "    for row in reader:\n",
    "        corpus_sentences.add(row['question1'])\n",
    "        corpus_sentences.add(row['question2'])\n",
    "        if len(corpus_sentences) >= max_corpus_size:\n",
    "            break\n",
    "\n",
    "corpus_sentences = list(corpus_sentences)\n",
    "corpus_embeddings = model.encode(corpus_sentences, batch_size=256, show_progress_bar=True, convert_to_tensor=True)\n",
    "\n",
    "# 클러스터 내의 최소 문장 수 == 10, 최소 유사도 == 0.75\n",
    "clusters = util.community_detection(corpus_embeddings, min_community_size=5, threshold=0.85)\n",
    "\n",
    "# cluseter는 2차원 리스트\n",
    "# 1차원 -> 각 클러스터\n",
    "# 2차원 -> 문장 ID\n",
    "\n",
    "# for i, cluster in enumerate(clusters)\n",
    "# corpus_sentences[sentence_id]\n",
    "\n",
    "\n"
   ]
  },
  {
   "cell_type": "code",
   "execution_count": 54,
   "metadata": {},
   "outputs": [],
   "source": [
    "import random as rd\n",
    "import torch\n",
    "test = ['What is a suitable inpatient drug and alcohol rehab center near Scott County AR?']\n",
    "low_val = 0.5\n",
    "high_val = 0.5\n",
    "low_cluster = 0\n",
    "high_cluster = 0\n",
    "test_embedding = model.encode(test, convert_to_tensor=True)\n",
    "for i, cluster in enumerate(clusters):\n",
    "    rnd_sentence_id = rd.sample(cluster, 5)\n",
    "    rnd_cluster = [corpus_sentences[sentence_id] for sentence_id in rnd_sentence_id]\n",
    "    cluster_embeddings = model.encode(rnd_cluster, convert_to_tensor=True)\n",
    "    cosine_scores = util.cos_sim(test_embedding, cluster_embeddings)\n",
    "    cluster_cos_score = torch.mean(cosine_scores).item()\n",
    "    \n",
    "    if cluster_cos_score < low_val:\n",
    "        low_val = cluster_cos_score\n",
    "        low_cluster = i\n",
    "    elif cluster_cos_score > high_val:\n",
    "        high_val = cluster_cos_score\n",
    "        high_cluster = i\n",
    "\n",
    "# rd가 아니라 가장 높은 것 3개, 낮은 것 3개 추출   \n",
    "high_question_cluster = [corpus_sentences[sentence_id] for sentence_id in clusters[high_cluster]]\n",
    "low_question_cluster = [corpus_sentences[sentence_id] for sentence_id in clusters[low_cluster]]\n",
    "            \n",
    "        "
   ]
  },
  {
   "cell_type": "code",
   "execution_count": 56,
   "metadata": {},
   "outputs": [],
   "source": [
    "\n",
    "high_question_cluster_embedding = model.encode(high_question_cluster, convert_to_tensor=True)\n",
    "low_question_cluster_embedding = model.encode(low_question_cluster, convert_to_tensor=True)\n",
    "\n",
    "top3_val, top3_index = torch.topk(util.cos_sim(test_embedding,high_question_cluster_embedding), 3)\n",
    "bot3_val, bot3_index = torch.topk(-(util.cos_sim(test_embedding, low_question_cluster_embedding)), 3)\n"
   ]
  },
  {
   "cell_type": "code",
   "execution_count": 69,
   "metadata": {},
   "outputs": [
    {
     "name": "stdout",
     "output_type": "stream",
     "text": [
      "['What is a suitable inpatient drug and alcohol rehab center near Scott County AR?', 'What is a suitable inpatient drug and alcohol rehab center near Miller County AR?', 'Which is a suitable inpatient drug and alcohol rehab center near Clark County AR?']\n",
      "['Do the Chinese and Japanese actually hate each other?', 'Do the Japanese and Chinese hate each other?', 'Do Japanese really hate Chinese people?']\n"
     ]
    }
   ],
   "source": [
    "output_high_question = [high_question_cluster[i] for i in top3_index.tolist()[0]]\n",
    "output_low_question = [low_question_cluster[i] for i in bot3_index.tolist()[0]]\n",
    "print(output_high_question)\n",
    "print(output_low_question)"
   ]
  }
 ],
 "metadata": {
  "kernelspec": {
   "display_name": "cap",
   "language": "python",
   "name": "python3"
  },
  "language_info": {
   "codemirror_mode": {
    "name": "ipython",
    "version": 3
   },
   "file_extension": ".py",
   "mimetype": "text/x-python",
   "name": "python",
   "nbconvert_exporter": "python",
   "pygments_lexer": "ipython3",
   "version": "3.11.5"
  }
 },
 "nbformat": 4,
 "nbformat_minor": 2
}
