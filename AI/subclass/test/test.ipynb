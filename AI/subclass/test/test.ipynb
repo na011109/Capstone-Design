{
 "cells": [
  {
   "cell_type": "code",
   "execution_count": 14,
   "metadata": {},
   "outputs": [
    {
     "name": "stdout",
     "output_type": "stream",
     "text": [
      "c:\\Users\\lch85\\OneDrive\\바탕 화면\\ai\\model\n"
     ]
    }
   ],
   "source": [
    "import os\n",
    "current_directory = os.getcwd()\n",
    "model_directory = os.path.join(current_directory, \"model\")\n",
    "print(model_directory)"
   ]
  },
  {
   "cell_type": "code",
   "execution_count": 15,
   "metadata": {},
   "outputs": [
    {
     "name": "stderr",
     "output_type": "stream",
     "text": [
      "Found cached dataset csv (C:/Users/lch85/.cache/huggingface/datasets/CShorten___csv/CShorten--ML-ArXiv-Papers-0dcddd7fc76c9211/0.0.0/6954658bab30a358235fa864b05cf819af0e179325c740e4bc853bcc7ec513e1)\n",
      "100%|██████████| 1/1 [00:00<00:00, 199.33it/s]\n"
     ]
    }
   ],
   "source": [
    "from datasets import load_dataset\n",
    "\n",
    "dataset = load_dataset(\"CShorten/ML-ArXiv-Papers\")[\"train\"]\n",
    "\n",
    "# Extract abstracts to train on and corresponding titles\n",
    "abstracts = dataset[\"abstract\"]\n",
    "titles = dataset[\"title\"]"
   ]
  },
  {
   "cell_type": "code",
   "execution_count": 45,
   "metadata": {},
   "outputs": [
    {
     "data": {
      "text/plain": [
       "117592"
      ]
     },
     "execution_count": 45,
     "metadata": {},
     "output_type": "execute_result"
    }
   ],
   "source": [
    "len(abstracts)"
   ]
  },
  {
   "cell_type": "markdown",
   "metadata": {},
   "source": [
    "문장 분할"
   ]
  },
  {
   "cell_type": "code",
   "execution_count": 17,
   "metadata": {},
   "outputs": [
    {
     "name": "stderr",
     "output_type": "stream",
     "text": [
      "[nltk_data] Downloading package punkt to\n",
      "[nltk_data]     C:\\Users\\lch85\\AppData\\Roaming\\nltk_data...\n",
      "[nltk_data]   Package punkt is already up-to-date!\n"
     ]
    }
   ],
   "source": [
    "import nltk\n",
    "nltk.download('punkt')\n",
    "from nltk.tokenize import sent_tokenize, word_tokenize\n",
    "sentences = [sent_tokenize(abstract) for abstract in abstracts]\n",
    "sentences = [sentence for doc in sentences for sentence in doc]"
   ]
  },
  {
   "cell_type": "markdown",
   "metadata": {},
   "source": [
    "임베딩 모델"
   ]
  },
  {
   "cell_type": "code",
   "execution_count": 18,
   "metadata": {},
   "outputs": [
    {
     "name": "stdout",
     "output_type": "stream",
     "text": [
      "Using GPU\n"
     ]
    },
    {
     "name": "stderr",
     "output_type": "stream",
     "text": [
      "Batches: 100%|██████████| 3675/3675 [00:59<00:00, 62.10it/s] \n"
     ]
    }
   ],
   "source": [
    "from sentence_transformers import SentenceTransformer\n",
    "\n",
    "import torch\n",
    "if torch.cuda.is_available():\n",
    "    print(\"Using GPU\")\n",
    "else:\n",
    "    print(\"Using CPU\")\n",
    "\n",
    "# Pre-calculate embeddings\n",
    "embedding_model = SentenceTransformer(\"all-MiniLM-L6-v2\")\n",
    "embeddings = embedding_model.encode(abstracts, show_progress_bar=True)"
   ]
  },
  {
   "cell_type": "markdown",
   "metadata": {},
   "source": [
    "차원 축소"
   ]
  },
  {
   "cell_type": "code",
   "execution_count": 19,
   "metadata": {},
   "outputs": [],
   "source": [
    "from umap import UMAP\n",
    "\n",
    "umap_model = UMAP(n_neighbors=15, n_components=5, min_dist=0.0, metric='cosine', random_state=42)"
   ]
  },
  {
   "cell_type": "markdown",
   "metadata": {},
   "source": [
    "토픽 수 조절"
   ]
  },
  {
   "cell_type": "code",
   "execution_count": 20,
   "metadata": {},
   "outputs": [],
   "source": [
    "from hdbscan import HDBSCAN\n",
    "\n",
    "hdbscan_model = HDBSCAN(min_cluster_size=150, metric='euclidean', cluster_selection_method='eom', prediction_data=True)"
   ]
  },
  {
   "cell_type": "markdown",
   "metadata": {},
   "source": [
    "중지어 제거, 빈도 적은 단어 제거, n-그램: 한 두어개"
   ]
  },
  {
   "cell_type": "code",
   "execution_count": 21,
   "metadata": {},
   "outputs": [],
   "source": [
    "from sklearn.feature_extraction.text import CountVectorizer\n",
    "vectorizer_model = CountVectorizer(stop_words=\"english\", min_df=2, ngram_range=(1, 2))"
   ]
  },
  {
   "cell_type": "markdown",
   "metadata": {},
   "source": [
    "다각적 주제 모델링"
   ]
  },
  {
   "cell_type": "code",
   "execution_count": 22,
   "metadata": {},
   "outputs": [],
   "source": [
    "from bertopic.representation import KeyBERTInspired, MaximalMarginalRelevance, OpenAI, PartOfSpeech\n",
    "\n",
    "# KeyBERT\n",
    "keybert_model = KeyBERTInspired()\n",
    "\n",
    "# Part-of-Speech\n",
    "pos_model = PartOfSpeech(\"en_core_web_sm\")\n",
    "\n",
    "# MMR\n",
    "mmr_model = MaximalMarginalRelevance(diversity=0.3)\n",
    "\n",
    "\n",
    "# All representation models\n",
    "representation_model = {\n",
    "    \"KeyBERT\": keybert_model,\n",
    "    \"MMR\": mmr_model,\n",
    "    \"POS\": pos_model\n",
    "}"
   ]
  },
  {
   "cell_type": "code",
   "execution_count": 23,
   "metadata": {},
   "outputs": [
    {
     "name": "stderr",
     "output_type": "stream",
     "text": [
      "2023-10-13 18:05:32,860 - BERTopic - Reduced dimensionality\n",
      "2023-10-13 18:05:37,800 - BERTopic - Clustered reduced embeddings\n"
     ]
    }
   ],
   "source": [
    "from bertopic import BERTopic\n",
    "\n",
    "topic_model = BERTopic(\n",
    "\n",
    "  # Pipeline models\n",
    "  embedding_model=embedding_model,\n",
    "  umap_model=umap_model,\n",
    "  hdbscan_model=hdbscan_model,\n",
    "  vectorizer_model=vectorizer_model,\n",
    "  representation_model=representation_model,\n",
    "\n",
    "  # Hyperparameters\n",
    "  top_n_words=10,\n",
    "  verbose=True\n",
    ")\n",
    "\n",
    "topics, probs = topic_model.fit_transform(abstracts, embeddings)"
   ]
  },
  {
   "cell_type": "code",
   "execution_count": 24,
   "metadata": {},
   "outputs": [
    {
     "data": {
      "text/html": [
       "<div>\n",
       "<style scoped>\n",
       "    .dataframe tbody tr th:only-of-type {\n",
       "        vertical-align: middle;\n",
       "    }\n",
       "\n",
       "    .dataframe tbody tr th {\n",
       "        vertical-align: top;\n",
       "    }\n",
       "\n",
       "    .dataframe thead th {\n",
       "        text-align: right;\n",
       "    }\n",
       "</style>\n",
       "<table border=\"1\" class=\"dataframe\">\n",
       "  <thead>\n",
       "    <tr style=\"text-align: right;\">\n",
       "      <th></th>\n",
       "      <th>Topic</th>\n",
       "      <th>Count</th>\n",
       "      <th>Name</th>\n",
       "      <th>Representation</th>\n",
       "      <th>KeyBERT</th>\n",
       "      <th>MMR</th>\n",
       "      <th>POS</th>\n",
       "      <th>Representative_Docs</th>\n",
       "    </tr>\n",
       "  </thead>\n",
       "  <tbody>\n",
       "    <tr>\n",
       "      <th>0</th>\n",
       "      <td>-1</td>\n",
       "      <td>38819</td>\n",
       "      <td>-1_data_learning_model_models</td>\n",
       "      <td>[data, learning, model, models, based, trainin...</td>\n",
       "      <td>[deep learning, classification, machine learni...</td>\n",
       "      <td>[data, learning, model, models, based, trainin...</td>\n",
       "      <td>[data, learning, model, models, training, perf...</td>\n",
       "      <td>[  There exist many high-dimensional data in r...</td>\n",
       "    </tr>\n",
       "    <tr>\n",
       "      <th>1</th>\n",
       "      <td>0</td>\n",
       "      <td>5550</td>\n",
       "      <td>0_policy_reinforcement_reinforcement learning_rl</td>\n",
       "      <td>[policy, reinforcement, reinforcement learning...</td>\n",
       "      <td>[policy gradient, reinforcement learning, deep...</td>\n",
       "      <td>[policy, reinforcement, reinforcement learning...</td>\n",
       "      <td>[policy, reinforcement, learning, reward, agen...</td>\n",
       "      <td>[  The history of learning for control has bee...</td>\n",
       "    </tr>\n",
       "    <tr>\n",
       "      <th>2</th>\n",
       "      <td>1</td>\n",
       "      <td>3514</td>\n",
       "      <td>1_speech_audio_speaker_music</td>\n",
       "      <td>[speech, audio, speaker, music, acoustic, asr,...</td>\n",
       "      <td>[automatic speech, speech enhancement, speech ...</td>\n",
       "      <td>[speech, audio, speaker, music, acoustic, asr,...</td>\n",
       "      <td>[speech, audio, speaker, music, acoustic, reco...</td>\n",
       "      <td>[  Despite the rapid progress of automatic spe...</td>\n",
       "    </tr>\n",
       "    <tr>\n",
       "      <th>3</th>\n",
       "      <td>2</td>\n",
       "      <td>3275</td>\n",
       "      <td>2_3d_object_video_segmentation</td>\n",
       "      <td>[3d, object, video, segmentation, image, objec...</td>\n",
       "      <td>[3d, point cloud, point clouds, object detecti...</td>\n",
       "      <td>[3d, object, video, segmentation, image, objec...</td>\n",
       "      <td>[object, video, segmentation, image, objects, ...</td>\n",
       "      <td>[  3D object representation learning is a fund...</td>\n",
       "    </tr>\n",
       "    <tr>\n",
       "      <th>4</th>\n",
       "      <td>3</td>\n",
       "      <td>2111</td>\n",
       "      <td>3_graph_node_graphs_gnns</td>\n",
       "      <td>[graph, node, graphs, gnns, nodes, graph neura...</td>\n",
       "      <td>[graph neural, graph classification, graph con...</td>\n",
       "      <td>[graph, node, graphs, gnns, nodes, graph neura...</td>\n",
       "      <td>[graph, node, graphs, nodes, networks, embeddi...</td>\n",
       "      <td>[  Message passing Graph Neural Networks (GNNs...</td>\n",
       "    </tr>\n",
       "    <tr>\n",
       "      <th>...</th>\n",
       "      <td>...</td>\n",
       "      <td>...</td>\n",
       "      <td>...</td>\n",
       "      <td>...</td>\n",
       "      <td>...</td>\n",
       "      <td>...</td>\n",
       "      <td>...</td>\n",
       "      <td>...</td>\n",
       "    </tr>\n",
       "    <tr>\n",
       "      <th>114</th>\n",
       "      <td>113</td>\n",
       "      <td>176</td>\n",
       "      <td>113_particle_physics_detector_lhc</td>\n",
       "      <td>[particle, physics, detector, lhc, jet, collid...</td>\n",
       "      <td>[hadron collider, lhc, deep learning, particle...</td>\n",
       "      <td>[particle, physics, detector, lhc, jet, collid...</td>\n",
       "      <td>[particle, physics, detector, jet, collider, h...</td>\n",
       "      <td>[  Autoencoders have useful applications in hi...</td>\n",
       "    </tr>\n",
       "    <tr>\n",
       "      <th>115</th>\n",
       "      <td>114</td>\n",
       "      <td>158</td>\n",
       "      <td>114_clustering_deep clustering_deep_cluster</td>\n",
       "      <td>[clustering, deep clustering, deep, cluster, u...</td>\n",
       "      <td>[deep clustering, deep learning, deep neural, ...</td>\n",
       "      <td>[clustering, deep clustering, deep, cluster, u...</td>\n",
       "      <td>[clustering, deep clustering, deep, cluster, u...</td>\n",
       "      <td>[  Recently, deep clustering, which is able to...</td>\n",
       "    </tr>\n",
       "    <tr>\n",
       "      <th>116</th>\n",
       "      <td>115</td>\n",
       "      <td>156</td>\n",
       "      <td>115_attacks_attack_adversarial_rl</td>\n",
       "      <td>[attacks, attack, adversarial, rl, drl, reinfo...</td>\n",
       "      <td>[adversarial training, adversarial attacks, ad...</td>\n",
       "      <td>[attacks, attack, adversarial, rl, drl, reinfo...</td>\n",
       "      <td>[attacks, attack, adversarial, reinforcement, ...</td>\n",
       "      <td>[  Due to the broad range of applications of r...</td>\n",
       "    </tr>\n",
       "    <tr>\n",
       "      <th>117</th>\n",
       "      <td>116</td>\n",
       "      <td>156</td>\n",
       "      <td>116_view_multi view_views_multi</td>\n",
       "      <td>[view, multi view, views, multi, clustering, v...</td>\n",
       "      <td>[view clustering, view learning, view classifi...</td>\n",
       "      <td>[view, multi view, views, multi, clustering, v...</td>\n",
       "      <td>[view, views, multi, clustering, view clusteri...</td>\n",
       "      <td>[  Multi-view clustering has attracted much at...</td>\n",
       "    </tr>\n",
       "    <tr>\n",
       "      <th>118</th>\n",
       "      <td>117</td>\n",
       "      <td>154</td>\n",
       "      <td>117_graph_attack_gnns_attacks</td>\n",
       "      <td>[graph, attack, gnns, attacks, adversarial, no...</td>\n",
       "      <td>[graph adversarial, adversarial attack, attack...</td>\n",
       "      <td>[graph, attack, gnns, attacks, adversarial, no...</td>\n",
       "      <td>[graph, attack, attacks, adversarial, node, ad...</td>\n",
       "      <td>[  Graph neural networks (GNNs) have achieved ...</td>\n",
       "    </tr>\n",
       "  </tbody>\n",
       "</table>\n",
       "<p>119 rows × 8 columns</p>\n",
       "</div>"
      ],
      "text/plain": [
       "     Topic  Count                                              Name  \\\n",
       "0       -1  38819                     -1_data_learning_model_models   \n",
       "1        0   5550  0_policy_reinforcement_reinforcement learning_rl   \n",
       "2        1   3514                      1_speech_audio_speaker_music   \n",
       "3        2   3275                    2_3d_object_video_segmentation   \n",
       "4        3   2111                          3_graph_node_graphs_gnns   \n",
       "..     ...    ...                                               ...   \n",
       "114    113    176                 113_particle_physics_detector_lhc   \n",
       "115    114    158       114_clustering_deep clustering_deep_cluster   \n",
       "116    115    156                 115_attacks_attack_adversarial_rl   \n",
       "117    116    156                   116_view_multi view_views_multi   \n",
       "118    117    154                     117_graph_attack_gnns_attacks   \n",
       "\n",
       "                                        Representation  \\\n",
       "0    [data, learning, model, models, based, trainin...   \n",
       "1    [policy, reinforcement, reinforcement learning...   \n",
       "2    [speech, audio, speaker, music, acoustic, asr,...   \n",
       "3    [3d, object, video, segmentation, image, objec...   \n",
       "4    [graph, node, graphs, gnns, nodes, graph neura...   \n",
       "..                                                 ...   \n",
       "114  [particle, physics, detector, lhc, jet, collid...   \n",
       "115  [clustering, deep clustering, deep, cluster, u...   \n",
       "116  [attacks, attack, adversarial, rl, drl, reinfo...   \n",
       "117  [view, multi view, views, multi, clustering, v...   \n",
       "118  [graph, attack, gnns, attacks, adversarial, no...   \n",
       "\n",
       "                                               KeyBERT  \\\n",
       "0    [deep learning, classification, machine learni...   \n",
       "1    [policy gradient, reinforcement learning, deep...   \n",
       "2    [automatic speech, speech enhancement, speech ...   \n",
       "3    [3d, point cloud, point clouds, object detecti...   \n",
       "4    [graph neural, graph classification, graph con...   \n",
       "..                                                 ...   \n",
       "114  [hadron collider, lhc, deep learning, particle...   \n",
       "115  [deep clustering, deep learning, deep neural, ...   \n",
       "116  [adversarial training, adversarial attacks, ad...   \n",
       "117  [view clustering, view learning, view classifi...   \n",
       "118  [graph adversarial, adversarial attack, attack...   \n",
       "\n",
       "                                                   MMR  \\\n",
       "0    [data, learning, model, models, based, trainin...   \n",
       "1    [policy, reinforcement, reinforcement learning...   \n",
       "2    [speech, audio, speaker, music, acoustic, asr,...   \n",
       "3    [3d, object, video, segmentation, image, objec...   \n",
       "4    [graph, node, graphs, gnns, nodes, graph neura...   \n",
       "..                                                 ...   \n",
       "114  [particle, physics, detector, lhc, jet, collid...   \n",
       "115  [clustering, deep clustering, deep, cluster, u...   \n",
       "116  [attacks, attack, adversarial, rl, drl, reinfo...   \n",
       "117  [view, multi view, views, multi, clustering, v...   \n",
       "118  [graph, attack, gnns, attacks, adversarial, no...   \n",
       "\n",
       "                                                   POS  \\\n",
       "0    [data, learning, model, models, training, perf...   \n",
       "1    [policy, reinforcement, learning, reward, agen...   \n",
       "2    [speech, audio, speaker, music, acoustic, reco...   \n",
       "3    [object, video, segmentation, image, objects, ...   \n",
       "4    [graph, node, graphs, nodes, networks, embeddi...   \n",
       "..                                                 ...   \n",
       "114  [particle, physics, detector, jet, collider, h...   \n",
       "115  [clustering, deep clustering, deep, cluster, u...   \n",
       "116  [attacks, attack, adversarial, reinforcement, ...   \n",
       "117  [view, views, multi, clustering, view clusteri...   \n",
       "118  [graph, attack, attacks, adversarial, node, ad...   \n",
       "\n",
       "                                   Representative_Docs  \n",
       "0    [  There exist many high-dimensional data in r...  \n",
       "1    [  The history of learning for control has bee...  \n",
       "2    [  Despite the rapid progress of automatic spe...  \n",
       "3    [  3D object representation learning is a fund...  \n",
       "4    [  Message passing Graph Neural Networks (GNNs...  \n",
       "..                                                 ...  \n",
       "114  [  Autoencoders have useful applications in hi...  \n",
       "115  [  Recently, deep clustering, which is able to...  \n",
       "116  [  Due to the broad range of applications of r...  \n",
       "117  [  Multi-view clustering has attracted much at...  \n",
       "118  [  Graph neural networks (GNNs) have achieved ...  \n",
       "\n",
       "[119 rows x 8 columns]"
      ]
     },
     "execution_count": 24,
     "metadata": {},
     "output_type": "execute_result"
    }
   ],
   "source": [
    "topic_model.get_topic_info()"
   ]
  },
  {
   "cell_type": "code",
   "execution_count": 36,
   "metadata": {},
   "outputs": [
    {
     "name": "stdout",
     "output_type": "stream",
     "text": [
      "{'Main': [('data', 0.005508243175752185), ('learning', 0.005480041773925623), ('model', 0.0050207325673433155), ('models', 0.0045481094894343176), ('based', 0.0045077131217311555), ('training', 0.00391511730864696), ('performance', 0.003808629460358503), ('neural', 0.0037996598115721735), ('using', 0.003795561744545858), ('method', 0.003732200800767053)], 'KeyBERT': [('deep learning', 0.5497353), ('classification', 0.4077804), ('machine learning', 0.37792593), ('learning', 0.37790638), ('neural networks', 0.37687403), ('neural network', 0.35205984), ('neural', 0.34395343), ('datasets', 0.33463377), ('dataset', 0.33153087), ('deep', 0.33058673)], 'MMR': [('data', 0.005508243175752185), ('learning', 0.005480041773925623), ('model', 0.0050207325673433155), ('models', 0.0045481094894343176), ('based', 0.0045077131217311555), ('training', 0.00391511730864696), ('performance', 0.003808629460358503), ('neural', 0.0037996598115721735), ('using', 0.003795561744545858), ('method', 0.003732200800767053)], 'POS': [('data', 0.005508243175752185), ('learning', 0.005480041773925623), ('model', 0.0050207325673433155), ('models', 0.0045481094894343176), ('training', 0.00391511730864696), ('performance', 0.003808629460358503), ('neural', 0.0037996598115721735), ('method', 0.003732200800767053), ('paper', 0.003710305061944282), ('network', 0.0037057316400336006)]}\n"
     ]
    }
   ],
   "source": [
    "a = topic_model.get_topic(-1, full=True)\n",
    "print(a)"
   ]
  },
  {
   "cell_type": "code",
   "execution_count": 43,
   "metadata": {},
   "outputs": [
    {
     "data": {
      "text/plain": [
       "['deep learning',\n",
       " 'classification',\n",
       " 'machine learning',\n",
       " 'learning',\n",
       " 'neural networks']"
      ]
     },
     "execution_count": 43,
     "metadata": {},
     "output_type": "execute_result"
    }
   ],
   "source": [
    "b = a.get('KeyBERT')\n",
    "temp = [name[0] for name in b]\n",
    "temp[:5]"
   ]
  },
  {
   "cell_type": "markdown",
   "metadata": {},
   "source": [
    "라벨 커스텀마이징"
   ]
  },
  {
   "cell_type": "code",
   "execution_count": 26,
   "metadata": {},
   "outputs": [],
   "source": [
    "# # Label the topics yourself\n",
    "# topic_model.set_topic_labels({1: \"Space Travel\", 7: \"Religion\"})\n",
    "\n",
    "# # or use one of the other topic representations, like KeyBERTInspired\n",
    "# keybert_topic_labels = {topic: \" | \".join(list(zip(*values))[0][:3]) for topic, values in topic_model.topic_aspects_[\"KeyBERT\"].items()}\n",
    "# topic_model.set_topic_labels(keybert_topic_labels)\n"
   ]
  },
  {
   "cell_type": "code",
   "execution_count": 27,
   "metadata": {},
   "outputs": [],
   "source": [
    "# or use one of the other topic representations, like KeyBERTInspired\n",
    "keybert_topic_labels = {topic: \" | \".join(list(zip(*values))[0][:3]) for topic, values in topic_model.topic_aspects_[\"KeyBERT\"].items()}\n",
    "topic_model.set_topic_labels(keybert_topic_labels)"
   ]
  },
  {
   "cell_type": "code",
   "execution_count": 28,
   "metadata": {},
   "outputs": [
    {
     "data": {
      "text/html": [
       "<div>\n",
       "<style scoped>\n",
       "    .dataframe tbody tr th:only-of-type {\n",
       "        vertical-align: middle;\n",
       "    }\n",
       "\n",
       "    .dataframe tbody tr th {\n",
       "        vertical-align: top;\n",
       "    }\n",
       "\n",
       "    .dataframe thead th {\n",
       "        text-align: right;\n",
       "    }\n",
       "</style>\n",
       "<table border=\"1\" class=\"dataframe\">\n",
       "  <thead>\n",
       "    <tr style=\"text-align: right;\">\n",
       "      <th></th>\n",
       "      <th>Topic</th>\n",
       "      <th>Count</th>\n",
       "      <th>Name</th>\n",
       "      <th>CustomName</th>\n",
       "      <th>Representation</th>\n",
       "      <th>KeyBERT</th>\n",
       "      <th>MMR</th>\n",
       "      <th>POS</th>\n",
       "      <th>Representative_Docs</th>\n",
       "    </tr>\n",
       "  </thead>\n",
       "  <tbody>\n",
       "    <tr>\n",
       "      <th>0</th>\n",
       "      <td>-1</td>\n",
       "      <td>38819</td>\n",
       "      <td>-1_data_learning_model_models</td>\n",
       "      <td>deep learning | classification | machine learning</td>\n",
       "      <td>[data, learning, model, models, based, trainin...</td>\n",
       "      <td>[deep learning, classification, machine learni...</td>\n",
       "      <td>[data, learning, model, models, based, trainin...</td>\n",
       "      <td>[data, learning, model, models, training, perf...</td>\n",
       "      <td>[  There exist many high-dimensional data in r...</td>\n",
       "    </tr>\n",
       "    <tr>\n",
       "      <th>1</th>\n",
       "      <td>0</td>\n",
       "      <td>5550</td>\n",
       "      <td>0_policy_reinforcement_reinforcement learning_rl</td>\n",
       "      <td>policy gradient | reinforcement learning | dee...</td>\n",
       "      <td>[policy, reinforcement, reinforcement learning...</td>\n",
       "      <td>[policy gradient, reinforcement learning, deep...</td>\n",
       "      <td>[policy, reinforcement, reinforcement learning...</td>\n",
       "      <td>[policy, reinforcement, learning, reward, agen...</td>\n",
       "      <td>[  The history of learning for control has bee...</td>\n",
       "    </tr>\n",
       "    <tr>\n",
       "      <th>2</th>\n",
       "      <td>1</td>\n",
       "      <td>3514</td>\n",
       "      <td>1_speech_audio_speaker_music</td>\n",
       "      <td>automatic speech | speech enhancement | speech...</td>\n",
       "      <td>[speech, audio, speaker, music, acoustic, asr,...</td>\n",
       "      <td>[automatic speech, speech enhancement, speech ...</td>\n",
       "      <td>[speech, audio, speaker, music, acoustic, asr,...</td>\n",
       "      <td>[speech, audio, speaker, music, acoustic, reco...</td>\n",
       "      <td>[  Despite the rapid progress of automatic spe...</td>\n",
       "    </tr>\n",
       "    <tr>\n",
       "      <th>3</th>\n",
       "      <td>2</td>\n",
       "      <td>3275</td>\n",
       "      <td>2_3d_object_video_segmentation</td>\n",
       "      <td>3d | point cloud | point clouds</td>\n",
       "      <td>[3d, object, video, segmentation, image, objec...</td>\n",
       "      <td>[3d, point cloud, point clouds, object detecti...</td>\n",
       "      <td>[3d, object, video, segmentation, image, objec...</td>\n",
       "      <td>[object, video, segmentation, image, objects, ...</td>\n",
       "      <td>[  3D object representation learning is a fund...</td>\n",
       "    </tr>\n",
       "    <tr>\n",
       "      <th>4</th>\n",
       "      <td>3</td>\n",
       "      <td>2111</td>\n",
       "      <td>3_graph_node_graphs_gnns</td>\n",
       "      <td>graph neural | graph classification | graph co...</td>\n",
       "      <td>[graph, node, graphs, gnns, nodes, graph neura...</td>\n",
       "      <td>[graph neural, graph classification, graph con...</td>\n",
       "      <td>[graph, node, graphs, gnns, nodes, graph neura...</td>\n",
       "      <td>[graph, node, graphs, nodes, networks, embeddi...</td>\n",
       "      <td>[  Message passing Graph Neural Networks (GNNs...</td>\n",
       "    </tr>\n",
       "    <tr>\n",
       "      <th>...</th>\n",
       "      <td>...</td>\n",
       "      <td>...</td>\n",
       "      <td>...</td>\n",
       "      <td>...</td>\n",
       "      <td>...</td>\n",
       "      <td>...</td>\n",
       "      <td>...</td>\n",
       "      <td>...</td>\n",
       "      <td>...</td>\n",
       "    </tr>\n",
       "    <tr>\n",
       "      <th>114</th>\n",
       "      <td>113</td>\n",
       "      <td>176</td>\n",
       "      <td>113_particle_physics_detector_lhc</td>\n",
       "      <td>hadron collider | lhc | deep learning</td>\n",
       "      <td>[particle, physics, detector, lhc, jet, collid...</td>\n",
       "      <td>[hadron collider, lhc, deep learning, particle...</td>\n",
       "      <td>[particle, physics, detector, lhc, jet, collid...</td>\n",
       "      <td>[particle, physics, detector, jet, collider, h...</td>\n",
       "      <td>[  Autoencoders have useful applications in hi...</td>\n",
       "    </tr>\n",
       "    <tr>\n",
       "      <th>115</th>\n",
       "      <td>114</td>\n",
       "      <td>158</td>\n",
       "      <td>114_clustering_deep clustering_deep_cluster</td>\n",
       "      <td>deep clustering | deep learning | deep neural</td>\n",
       "      <td>[clustering, deep clustering, deep, cluster, u...</td>\n",
       "      <td>[deep clustering, deep learning, deep neural, ...</td>\n",
       "      <td>[clustering, deep clustering, deep, cluster, u...</td>\n",
       "      <td>[clustering, deep clustering, deep, cluster, u...</td>\n",
       "      <td>[  Recently, deep clustering, which is able to...</td>\n",
       "    </tr>\n",
       "    <tr>\n",
       "      <th>116</th>\n",
       "      <td>115</td>\n",
       "      <td>156</td>\n",
       "      <td>115_attacks_attack_adversarial_rl</td>\n",
       "      <td>adversarial training | adversarial attacks | a...</td>\n",
       "      <td>[attacks, attack, adversarial, rl, drl, reinfo...</td>\n",
       "      <td>[adversarial training, adversarial attacks, ad...</td>\n",
       "      <td>[attacks, attack, adversarial, rl, drl, reinfo...</td>\n",
       "      <td>[attacks, attack, adversarial, reinforcement, ...</td>\n",
       "      <td>[  Due to the broad range of applications of r...</td>\n",
       "    </tr>\n",
       "    <tr>\n",
       "      <th>117</th>\n",
       "      <td>116</td>\n",
       "      <td>156</td>\n",
       "      <td>116_view_multi view_views_multi</td>\n",
       "      <td>view clustering | view learning | view classif...</td>\n",
       "      <td>[view, multi view, views, multi, clustering, v...</td>\n",
       "      <td>[view clustering, view learning, view classifi...</td>\n",
       "      <td>[view, multi view, views, multi, clustering, v...</td>\n",
       "      <td>[view, views, multi, clustering, view clusteri...</td>\n",
       "      <td>[  Multi-view clustering has attracted much at...</td>\n",
       "    </tr>\n",
       "    <tr>\n",
       "      <th>118</th>\n",
       "      <td>117</td>\n",
       "      <td>154</td>\n",
       "      <td>117_graph_attack_gnns_attacks</td>\n",
       "      <td>graph adversarial | adversarial attack | attac...</td>\n",
       "      <td>[graph, attack, gnns, attacks, adversarial, no...</td>\n",
       "      <td>[graph adversarial, adversarial attack, attack...</td>\n",
       "      <td>[graph, attack, gnns, attacks, adversarial, no...</td>\n",
       "      <td>[graph, attack, attacks, adversarial, node, ad...</td>\n",
       "      <td>[  Graph neural networks (GNNs) have achieved ...</td>\n",
       "    </tr>\n",
       "  </tbody>\n",
       "</table>\n",
       "<p>119 rows × 9 columns</p>\n",
       "</div>"
      ],
      "text/plain": [
       "     Topic  Count                                              Name  \\\n",
       "0       -1  38819                     -1_data_learning_model_models   \n",
       "1        0   5550  0_policy_reinforcement_reinforcement learning_rl   \n",
       "2        1   3514                      1_speech_audio_speaker_music   \n",
       "3        2   3275                    2_3d_object_video_segmentation   \n",
       "4        3   2111                          3_graph_node_graphs_gnns   \n",
       "..     ...    ...                                               ...   \n",
       "114    113    176                 113_particle_physics_detector_lhc   \n",
       "115    114    158       114_clustering_deep clustering_deep_cluster   \n",
       "116    115    156                 115_attacks_attack_adversarial_rl   \n",
       "117    116    156                   116_view_multi view_views_multi   \n",
       "118    117    154                     117_graph_attack_gnns_attacks   \n",
       "\n",
       "                                            CustomName  \\\n",
       "0    deep learning | classification | machine learning   \n",
       "1    policy gradient | reinforcement learning | dee...   \n",
       "2    automatic speech | speech enhancement | speech...   \n",
       "3                      3d | point cloud | point clouds   \n",
       "4    graph neural | graph classification | graph co...   \n",
       "..                                                 ...   \n",
       "114              hadron collider | lhc | deep learning   \n",
       "115      deep clustering | deep learning | deep neural   \n",
       "116  adversarial training | adversarial attacks | a...   \n",
       "117  view clustering | view learning | view classif...   \n",
       "118  graph adversarial | adversarial attack | attac...   \n",
       "\n",
       "                                        Representation  \\\n",
       "0    [data, learning, model, models, based, trainin...   \n",
       "1    [policy, reinforcement, reinforcement learning...   \n",
       "2    [speech, audio, speaker, music, acoustic, asr,...   \n",
       "3    [3d, object, video, segmentation, image, objec...   \n",
       "4    [graph, node, graphs, gnns, nodes, graph neura...   \n",
       "..                                                 ...   \n",
       "114  [particle, physics, detector, lhc, jet, collid...   \n",
       "115  [clustering, deep clustering, deep, cluster, u...   \n",
       "116  [attacks, attack, adversarial, rl, drl, reinfo...   \n",
       "117  [view, multi view, views, multi, clustering, v...   \n",
       "118  [graph, attack, gnns, attacks, adversarial, no...   \n",
       "\n",
       "                                               KeyBERT  \\\n",
       "0    [deep learning, classification, machine learni...   \n",
       "1    [policy gradient, reinforcement learning, deep...   \n",
       "2    [automatic speech, speech enhancement, speech ...   \n",
       "3    [3d, point cloud, point clouds, object detecti...   \n",
       "4    [graph neural, graph classification, graph con...   \n",
       "..                                                 ...   \n",
       "114  [hadron collider, lhc, deep learning, particle...   \n",
       "115  [deep clustering, deep learning, deep neural, ...   \n",
       "116  [adversarial training, adversarial attacks, ad...   \n",
       "117  [view clustering, view learning, view classifi...   \n",
       "118  [graph adversarial, adversarial attack, attack...   \n",
       "\n",
       "                                                   MMR  \\\n",
       "0    [data, learning, model, models, based, trainin...   \n",
       "1    [policy, reinforcement, reinforcement learning...   \n",
       "2    [speech, audio, speaker, music, acoustic, asr,...   \n",
       "3    [3d, object, video, segmentation, image, objec...   \n",
       "4    [graph, node, graphs, gnns, nodes, graph neura...   \n",
       "..                                                 ...   \n",
       "114  [particle, physics, detector, lhc, jet, collid...   \n",
       "115  [clustering, deep clustering, deep, cluster, u...   \n",
       "116  [attacks, attack, adversarial, rl, drl, reinfo...   \n",
       "117  [view, multi view, views, multi, clustering, v...   \n",
       "118  [graph, attack, gnns, attacks, adversarial, no...   \n",
       "\n",
       "                                                   POS  \\\n",
       "0    [data, learning, model, models, training, perf...   \n",
       "1    [policy, reinforcement, learning, reward, agen...   \n",
       "2    [speech, audio, speaker, music, acoustic, reco...   \n",
       "3    [object, video, segmentation, image, objects, ...   \n",
       "4    [graph, node, graphs, nodes, networks, embeddi...   \n",
       "..                                                 ...   \n",
       "114  [particle, physics, detector, jet, collider, h...   \n",
       "115  [clustering, deep clustering, deep, cluster, u...   \n",
       "116  [attacks, attack, adversarial, reinforcement, ...   \n",
       "117  [view, views, multi, clustering, view clusteri...   \n",
       "118  [graph, attack, attacks, adversarial, node, ad...   \n",
       "\n",
       "                                   Representative_Docs  \n",
       "0    [  There exist many high-dimensional data in r...  \n",
       "1    [  The history of learning for control has bee...  \n",
       "2    [  Despite the rapid progress of automatic spe...  \n",
       "3    [  3D object representation learning is a fund...  \n",
       "4    [  Message passing Graph Neural Networks (GNNs...  \n",
       "..                                                 ...  \n",
       "114  [  Autoencoders have useful applications in hi...  \n",
       "115  [  Recently, deep clustering, which is able to...  \n",
       "116  [  Due to the broad range of applications of r...  \n",
       "117  [  Multi-view clustering has attracted much at...  \n",
       "118  [  Graph neural networks (GNNs) have achieved ...  \n",
       "\n",
       "[119 rows x 9 columns]"
      ]
     },
     "execution_count": 28,
     "metadata": {},
     "output_type": "execute_result"
    }
   ],
   "source": [
    "topic_model.get_topic_info()"
   ]
  },
  {
   "cell_type": "code",
   "execution_count": 29,
   "metadata": {},
   "outputs": [
    {
     "name": "stderr",
     "output_type": "stream",
     "text": [
      "100%|██████████| 118/118 [01:01<00:00,  1.92it/s]\n"
     ]
    }
   ],
   "source": [
    "topic_distr, _ = topic_model.approximate_distribution(abstracts, window=8, stride=4)\n",
    "# topic_distr, _ = topic_model.approximate_distribution(docs, use_embedding_model=True)"
   ]
  },
  {
   "cell_type": "code",
   "execution_count": 30,
   "metadata": {},
   "outputs": [
    {
     "name": "stdout",
     "output_type": "stream",
     "text": [
      "  Speaker identification is a powerful, non-invasive and in-expensive biometric\n",
      "technique. The recognition accuracy, however, deteriorates when noise levels\n",
      "affect a specific band of frequency. In this paper, we present a sub-band based\n",
      "speaker identification that intends to improve the live testing performance.\n",
      "Each frequency sub-band is processed and classified independently. We also\n",
      "compare the linear and non-linear merging techniques for the sub-bands\n",
      "recognizer. Support vector machines and Gaussian Mixture models are the\n",
      "non-linear merging techniques that are investigated. Results showed that the\n",
      "sub-band based method used with linear merging techniques enormously improved\n",
      "the performance of the speaker identification over the performance of wide-band\n",
      "recognizers when tested live. A live testing improvement of 9.78% was achieved\n",
      "\n"
     ]
    }
   ],
   "source": [
    "abstract_id = 10\n",
    "print(abstracts[abstract_id])"
   ]
  },
  {
   "cell_type": "code",
   "execution_count": 31,
   "metadata": {},
   "outputs": [
    {
     "data": {
      "application/vnd.plotly.v1+json": {
       "config": {
        "plotlyServerURL": "https://plot.ly"
       },
       "data": [
        {
         "marker": {
          "color": "#C8D2D7",
          "line": {
           "color": "#6E8484",
           "width": 1
          }
         },
         "orientation": "h",
         "type": "bar",
         "x": [
          0.4563993336964457,
          0.5436006663035542
         ],
         "y": [
          "<b>Topic 95</b>: svm_support vector_supp...",
          "<b>Topic 102</b>: mixture_em_mixtures_ga..."
         ]
        }
       ],
       "layout": {
        "height": 600,
        "hoverlabel": {
         "bgcolor": "white",
         "font": {
          "family": "Rockwell",
          "size": 16
         }
        },
        "template": {
         "data": {
          "bar": [
           {
            "error_x": {
             "color": "rgb(36,36,36)"
            },
            "error_y": {
             "color": "rgb(36,36,36)"
            },
            "marker": {
             "line": {
              "color": "white",
              "width": 0.5
             },
             "pattern": {
              "fillmode": "overlay",
              "size": 10,
              "solidity": 0.2
             }
            },
            "type": "bar"
           }
          ],
          "barpolar": [
           {
            "marker": {
             "line": {
              "color": "white",
              "width": 0.5
             },
             "pattern": {
              "fillmode": "overlay",
              "size": 10,
              "solidity": 0.2
             }
            },
            "type": "barpolar"
           }
          ],
          "carpet": [
           {
            "aaxis": {
             "endlinecolor": "rgb(36,36,36)",
             "gridcolor": "white",
             "linecolor": "white",
             "minorgridcolor": "white",
             "startlinecolor": "rgb(36,36,36)"
            },
            "baxis": {
             "endlinecolor": "rgb(36,36,36)",
             "gridcolor": "white",
             "linecolor": "white",
             "minorgridcolor": "white",
             "startlinecolor": "rgb(36,36,36)"
            },
            "type": "carpet"
           }
          ],
          "choropleth": [
           {
            "colorbar": {
             "outlinewidth": 1,
             "tickcolor": "rgb(36,36,36)",
             "ticks": "outside"
            },
            "type": "choropleth"
           }
          ],
          "contour": [
           {
            "colorbar": {
             "outlinewidth": 1,
             "tickcolor": "rgb(36,36,36)",
             "ticks": "outside"
            },
            "colorscale": [
             [
              0,
              "#440154"
             ],
             [
              0.1111111111111111,
              "#482878"
             ],
             [
              0.2222222222222222,
              "#3e4989"
             ],
             [
              0.3333333333333333,
              "#31688e"
             ],
             [
              0.4444444444444444,
              "#26828e"
             ],
             [
              0.5555555555555556,
              "#1f9e89"
             ],
             [
              0.6666666666666666,
              "#35b779"
             ],
             [
              0.7777777777777778,
              "#6ece58"
             ],
             [
              0.8888888888888888,
              "#b5de2b"
             ],
             [
              1,
              "#fde725"
             ]
            ],
            "type": "contour"
           }
          ],
          "contourcarpet": [
           {
            "colorbar": {
             "outlinewidth": 1,
             "tickcolor": "rgb(36,36,36)",
             "ticks": "outside"
            },
            "type": "contourcarpet"
           }
          ],
          "heatmap": [
           {
            "colorbar": {
             "outlinewidth": 1,
             "tickcolor": "rgb(36,36,36)",
             "ticks": "outside"
            },
            "colorscale": [
             [
              0,
              "#440154"
             ],
             [
              0.1111111111111111,
              "#482878"
             ],
             [
              0.2222222222222222,
              "#3e4989"
             ],
             [
              0.3333333333333333,
              "#31688e"
             ],
             [
              0.4444444444444444,
              "#26828e"
             ],
             [
              0.5555555555555556,
              "#1f9e89"
             ],
             [
              0.6666666666666666,
              "#35b779"
             ],
             [
              0.7777777777777778,
              "#6ece58"
             ],
             [
              0.8888888888888888,
              "#b5de2b"
             ],
             [
              1,
              "#fde725"
             ]
            ],
            "type": "heatmap"
           }
          ],
          "heatmapgl": [
           {
            "colorbar": {
             "outlinewidth": 1,
             "tickcolor": "rgb(36,36,36)",
             "ticks": "outside"
            },
            "colorscale": [
             [
              0,
              "#440154"
             ],
             [
              0.1111111111111111,
              "#482878"
             ],
             [
              0.2222222222222222,
              "#3e4989"
             ],
             [
              0.3333333333333333,
              "#31688e"
             ],
             [
              0.4444444444444444,
              "#26828e"
             ],
             [
              0.5555555555555556,
              "#1f9e89"
             ],
             [
              0.6666666666666666,
              "#35b779"
             ],
             [
              0.7777777777777778,
              "#6ece58"
             ],
             [
              0.8888888888888888,
              "#b5de2b"
             ],
             [
              1,
              "#fde725"
             ]
            ],
            "type": "heatmapgl"
           }
          ],
          "histogram": [
           {
            "marker": {
             "line": {
              "color": "white",
              "width": 0.6
             }
            },
            "type": "histogram"
           }
          ],
          "histogram2d": [
           {
            "colorbar": {
             "outlinewidth": 1,
             "tickcolor": "rgb(36,36,36)",
             "ticks": "outside"
            },
            "colorscale": [
             [
              0,
              "#440154"
             ],
             [
              0.1111111111111111,
              "#482878"
             ],
             [
              0.2222222222222222,
              "#3e4989"
             ],
             [
              0.3333333333333333,
              "#31688e"
             ],
             [
              0.4444444444444444,
              "#26828e"
             ],
             [
              0.5555555555555556,
              "#1f9e89"
             ],
             [
              0.6666666666666666,
              "#35b779"
             ],
             [
              0.7777777777777778,
              "#6ece58"
             ],
             [
              0.8888888888888888,
              "#b5de2b"
             ],
             [
              1,
              "#fde725"
             ]
            ],
            "type": "histogram2d"
           }
          ],
          "histogram2dcontour": [
           {
            "colorbar": {
             "outlinewidth": 1,
             "tickcolor": "rgb(36,36,36)",
             "ticks": "outside"
            },
            "colorscale": [
             [
              0,
              "#440154"
             ],
             [
              0.1111111111111111,
              "#482878"
             ],
             [
              0.2222222222222222,
              "#3e4989"
             ],
             [
              0.3333333333333333,
              "#31688e"
             ],
             [
              0.4444444444444444,
              "#26828e"
             ],
             [
              0.5555555555555556,
              "#1f9e89"
             ],
             [
              0.6666666666666666,
              "#35b779"
             ],
             [
              0.7777777777777778,
              "#6ece58"
             ],
             [
              0.8888888888888888,
              "#b5de2b"
             ],
             [
              1,
              "#fde725"
             ]
            ],
            "type": "histogram2dcontour"
           }
          ],
          "mesh3d": [
           {
            "colorbar": {
             "outlinewidth": 1,
             "tickcolor": "rgb(36,36,36)",
             "ticks": "outside"
            },
            "type": "mesh3d"
           }
          ],
          "parcoords": [
           {
            "line": {
             "colorbar": {
              "outlinewidth": 1,
              "tickcolor": "rgb(36,36,36)",
              "ticks": "outside"
             }
            },
            "type": "parcoords"
           }
          ],
          "pie": [
           {
            "automargin": true,
            "type": "pie"
           }
          ],
          "scatter": [
           {
            "fillpattern": {
             "fillmode": "overlay",
             "size": 10,
             "solidity": 0.2
            },
            "type": "scatter"
           }
          ],
          "scatter3d": [
           {
            "line": {
             "colorbar": {
              "outlinewidth": 1,
              "tickcolor": "rgb(36,36,36)",
              "ticks": "outside"
             }
            },
            "marker": {
             "colorbar": {
              "outlinewidth": 1,
              "tickcolor": "rgb(36,36,36)",
              "ticks": "outside"
             }
            },
            "type": "scatter3d"
           }
          ],
          "scattercarpet": [
           {
            "marker": {
             "colorbar": {
              "outlinewidth": 1,
              "tickcolor": "rgb(36,36,36)",
              "ticks": "outside"
             }
            },
            "type": "scattercarpet"
           }
          ],
          "scattergeo": [
           {
            "marker": {
             "colorbar": {
              "outlinewidth": 1,
              "tickcolor": "rgb(36,36,36)",
              "ticks": "outside"
             }
            },
            "type": "scattergeo"
           }
          ],
          "scattergl": [
           {
            "marker": {
             "colorbar": {
              "outlinewidth": 1,
              "tickcolor": "rgb(36,36,36)",
              "ticks": "outside"
             }
            },
            "type": "scattergl"
           }
          ],
          "scattermapbox": [
           {
            "marker": {
             "colorbar": {
              "outlinewidth": 1,
              "tickcolor": "rgb(36,36,36)",
              "ticks": "outside"
             }
            },
            "type": "scattermapbox"
           }
          ],
          "scatterpolar": [
           {
            "marker": {
             "colorbar": {
              "outlinewidth": 1,
              "tickcolor": "rgb(36,36,36)",
              "ticks": "outside"
             }
            },
            "type": "scatterpolar"
           }
          ],
          "scatterpolargl": [
           {
            "marker": {
             "colorbar": {
              "outlinewidth": 1,
              "tickcolor": "rgb(36,36,36)",
              "ticks": "outside"
             }
            },
            "type": "scatterpolargl"
           }
          ],
          "scatterternary": [
           {
            "marker": {
             "colorbar": {
              "outlinewidth": 1,
              "tickcolor": "rgb(36,36,36)",
              "ticks": "outside"
             }
            },
            "type": "scatterternary"
           }
          ],
          "surface": [
           {
            "colorbar": {
             "outlinewidth": 1,
             "tickcolor": "rgb(36,36,36)",
             "ticks": "outside"
            },
            "colorscale": [
             [
              0,
              "#440154"
             ],
             [
              0.1111111111111111,
              "#482878"
             ],
             [
              0.2222222222222222,
              "#3e4989"
             ],
             [
              0.3333333333333333,
              "#31688e"
             ],
             [
              0.4444444444444444,
              "#26828e"
             ],
             [
              0.5555555555555556,
              "#1f9e89"
             ],
             [
              0.6666666666666666,
              "#35b779"
             ],
             [
              0.7777777777777778,
              "#6ece58"
             ],
             [
              0.8888888888888888,
              "#b5de2b"
             ],
             [
              1,
              "#fde725"
             ]
            ],
            "type": "surface"
           }
          ],
          "table": [
           {
            "cells": {
             "fill": {
              "color": "rgb(237,237,237)"
             },
             "line": {
              "color": "white"
             }
            },
            "header": {
             "fill": {
              "color": "rgb(217,217,217)"
             },
             "line": {
              "color": "white"
             }
            },
            "type": "table"
           }
          ]
         },
         "layout": {
          "annotationdefaults": {
           "arrowhead": 0,
           "arrowwidth": 1
          },
          "autotypenumbers": "strict",
          "coloraxis": {
           "colorbar": {
            "outlinewidth": 1,
            "tickcolor": "rgb(36,36,36)",
            "ticks": "outside"
           }
          },
          "colorscale": {
           "diverging": [
            [
             0,
             "rgb(103,0,31)"
            ],
            [
             0.1,
             "rgb(178,24,43)"
            ],
            [
             0.2,
             "rgb(214,96,77)"
            ],
            [
             0.3,
             "rgb(244,165,130)"
            ],
            [
             0.4,
             "rgb(253,219,199)"
            ],
            [
             0.5,
             "rgb(247,247,247)"
            ],
            [
             0.6,
             "rgb(209,229,240)"
            ],
            [
             0.7,
             "rgb(146,197,222)"
            ],
            [
             0.8,
             "rgb(67,147,195)"
            ],
            [
             0.9,
             "rgb(33,102,172)"
            ],
            [
             1,
             "rgb(5,48,97)"
            ]
           ],
           "sequential": [
            [
             0,
             "#440154"
            ],
            [
             0.1111111111111111,
             "#482878"
            ],
            [
             0.2222222222222222,
             "#3e4989"
            ],
            [
             0.3333333333333333,
             "#31688e"
            ],
            [
             0.4444444444444444,
             "#26828e"
            ],
            [
             0.5555555555555556,
             "#1f9e89"
            ],
            [
             0.6666666666666666,
             "#35b779"
            ],
            [
             0.7777777777777778,
             "#6ece58"
            ],
            [
             0.8888888888888888,
             "#b5de2b"
            ],
            [
             1,
             "#fde725"
            ]
           ],
           "sequentialminus": [
            [
             0,
             "#440154"
            ],
            [
             0.1111111111111111,
             "#482878"
            ],
            [
             0.2222222222222222,
             "#3e4989"
            ],
            [
             0.3333333333333333,
             "#31688e"
            ],
            [
             0.4444444444444444,
             "#26828e"
            ],
            [
             0.5555555555555556,
             "#1f9e89"
            ],
            [
             0.6666666666666666,
             "#35b779"
            ],
            [
             0.7777777777777778,
             "#6ece58"
            ],
            [
             0.8888888888888888,
             "#b5de2b"
            ],
            [
             1,
             "#fde725"
            ]
           ]
          },
          "colorway": [
           "#1F77B4",
           "#FF7F0E",
           "#2CA02C",
           "#D62728",
           "#9467BD",
           "#8C564B",
           "#E377C2",
           "#7F7F7F",
           "#BCBD22",
           "#17BECF"
          ],
          "font": {
           "color": "rgb(36,36,36)"
          },
          "geo": {
           "bgcolor": "white",
           "lakecolor": "white",
           "landcolor": "white",
           "showlakes": true,
           "showland": true,
           "subunitcolor": "white"
          },
          "hoverlabel": {
           "align": "left"
          },
          "hovermode": "closest",
          "mapbox": {
           "style": "light"
          },
          "paper_bgcolor": "white",
          "plot_bgcolor": "white",
          "polar": {
           "angularaxis": {
            "gridcolor": "rgb(232,232,232)",
            "linecolor": "rgb(36,36,36)",
            "showgrid": false,
            "showline": true,
            "ticks": "outside"
           },
           "bgcolor": "white",
           "radialaxis": {
            "gridcolor": "rgb(232,232,232)",
            "linecolor": "rgb(36,36,36)",
            "showgrid": false,
            "showline": true,
            "ticks": "outside"
           }
          },
          "scene": {
           "xaxis": {
            "backgroundcolor": "white",
            "gridcolor": "rgb(232,232,232)",
            "gridwidth": 2,
            "linecolor": "rgb(36,36,36)",
            "showbackground": true,
            "showgrid": false,
            "showline": true,
            "ticks": "outside",
            "zeroline": false,
            "zerolinecolor": "rgb(36,36,36)"
           },
           "yaxis": {
            "backgroundcolor": "white",
            "gridcolor": "rgb(232,232,232)",
            "gridwidth": 2,
            "linecolor": "rgb(36,36,36)",
            "showbackground": true,
            "showgrid": false,
            "showline": true,
            "ticks": "outside",
            "zeroline": false,
            "zerolinecolor": "rgb(36,36,36)"
           },
           "zaxis": {
            "backgroundcolor": "white",
            "gridcolor": "rgb(232,232,232)",
            "gridwidth": 2,
            "linecolor": "rgb(36,36,36)",
            "showbackground": true,
            "showgrid": false,
            "showline": true,
            "ticks": "outside",
            "zeroline": false,
            "zerolinecolor": "rgb(36,36,36)"
           }
          },
          "shapedefaults": {
           "fillcolor": "black",
           "line": {
            "width": 0
           },
           "opacity": 0.3
          },
          "ternary": {
           "aaxis": {
            "gridcolor": "rgb(232,232,232)",
            "linecolor": "rgb(36,36,36)",
            "showgrid": false,
            "showline": true,
            "ticks": "outside"
           },
           "baxis": {
            "gridcolor": "rgb(232,232,232)",
            "linecolor": "rgb(36,36,36)",
            "showgrid": false,
            "showline": true,
            "ticks": "outside"
           },
           "bgcolor": "white",
           "caxis": {
            "gridcolor": "rgb(232,232,232)",
            "linecolor": "rgb(36,36,36)",
            "showgrid": false,
            "showline": true,
            "ticks": "outside"
           }
          },
          "title": {
           "x": 0.05
          },
          "xaxis": {
           "automargin": true,
           "gridcolor": "rgb(232,232,232)",
           "linecolor": "rgb(36,36,36)",
           "showgrid": false,
           "showline": true,
           "ticks": "outside",
           "title": {
            "standoff": 15
           },
           "zeroline": false,
           "zerolinecolor": "rgb(36,36,36)"
          },
          "yaxis": {
           "automargin": true,
           "gridcolor": "rgb(232,232,232)",
           "linecolor": "rgb(36,36,36)",
           "showgrid": false,
           "showline": true,
           "ticks": "outside",
           "title": {
            "standoff": 15
           },
           "zeroline": false,
           "zerolinecolor": "rgb(36,36,36)"
          }
         }
        },
        "title": {
         "font": {
          "color": "Black",
          "size": 22
         },
         "text": "<b>Topic Probability Distribution</b>",
         "x": 0.5,
         "xanchor": "center",
         "y": 0.95,
         "yanchor": "top"
        },
        "width": 800,
        "xaxis": {
         "title": {
          "text": "Probability"
         }
        }
       }
      }
     },
     "metadata": {},
     "output_type": "display_data"
    }
   ],
   "source": [
    "topic_model.visualize_distribution(topic_distr[abstract_id])"
   ]
  },
  {
   "cell_type": "code",
   "execution_count": 32,
   "metadata": {},
   "outputs": [
    {
     "data": {
      "application/vnd.plotly.v1+json": {
       "config": {
        "plotlyServerURL": "https://plot.ly"
       },
       "data": [
        {
         "marker": {
          "color": "#C8D2D7",
          "line": {
           "color": "#6E8484",
           "width": 1
          }
         },
         "orientation": "h",
         "type": "bar",
         "x": [
          0.4563993336964457,
          0.5436006663035542
         ],
         "y": [
          "machines svms | svm training | machine svm",
          "mixture models | learning mixture | gaussian mixtures"
         ]
        }
       ],
       "layout": {
        "height": 600,
        "hoverlabel": {
         "bgcolor": "white",
         "font": {
          "family": "Rockwell",
          "size": 16
         }
        },
        "template": {
         "data": {
          "bar": [
           {
            "error_x": {
             "color": "rgb(36,36,36)"
            },
            "error_y": {
             "color": "rgb(36,36,36)"
            },
            "marker": {
             "line": {
              "color": "white",
              "width": 0.5
             },
             "pattern": {
              "fillmode": "overlay",
              "size": 10,
              "solidity": 0.2
             }
            },
            "type": "bar"
           }
          ],
          "barpolar": [
           {
            "marker": {
             "line": {
              "color": "white",
              "width": 0.5
             },
             "pattern": {
              "fillmode": "overlay",
              "size": 10,
              "solidity": 0.2
             }
            },
            "type": "barpolar"
           }
          ],
          "carpet": [
           {
            "aaxis": {
             "endlinecolor": "rgb(36,36,36)",
             "gridcolor": "white",
             "linecolor": "white",
             "minorgridcolor": "white",
             "startlinecolor": "rgb(36,36,36)"
            },
            "baxis": {
             "endlinecolor": "rgb(36,36,36)",
             "gridcolor": "white",
             "linecolor": "white",
             "minorgridcolor": "white",
             "startlinecolor": "rgb(36,36,36)"
            },
            "type": "carpet"
           }
          ],
          "choropleth": [
           {
            "colorbar": {
             "outlinewidth": 1,
             "tickcolor": "rgb(36,36,36)",
             "ticks": "outside"
            },
            "type": "choropleth"
           }
          ],
          "contour": [
           {
            "colorbar": {
             "outlinewidth": 1,
             "tickcolor": "rgb(36,36,36)",
             "ticks": "outside"
            },
            "colorscale": [
             [
              0,
              "#440154"
             ],
             [
              0.1111111111111111,
              "#482878"
             ],
             [
              0.2222222222222222,
              "#3e4989"
             ],
             [
              0.3333333333333333,
              "#31688e"
             ],
             [
              0.4444444444444444,
              "#26828e"
             ],
             [
              0.5555555555555556,
              "#1f9e89"
             ],
             [
              0.6666666666666666,
              "#35b779"
             ],
             [
              0.7777777777777778,
              "#6ece58"
             ],
             [
              0.8888888888888888,
              "#b5de2b"
             ],
             [
              1,
              "#fde725"
             ]
            ],
            "type": "contour"
           }
          ],
          "contourcarpet": [
           {
            "colorbar": {
             "outlinewidth": 1,
             "tickcolor": "rgb(36,36,36)",
             "ticks": "outside"
            },
            "type": "contourcarpet"
           }
          ],
          "heatmap": [
           {
            "colorbar": {
             "outlinewidth": 1,
             "tickcolor": "rgb(36,36,36)",
             "ticks": "outside"
            },
            "colorscale": [
             [
              0,
              "#440154"
             ],
             [
              0.1111111111111111,
              "#482878"
             ],
             [
              0.2222222222222222,
              "#3e4989"
             ],
             [
              0.3333333333333333,
              "#31688e"
             ],
             [
              0.4444444444444444,
              "#26828e"
             ],
             [
              0.5555555555555556,
              "#1f9e89"
             ],
             [
              0.6666666666666666,
              "#35b779"
             ],
             [
              0.7777777777777778,
              "#6ece58"
             ],
             [
              0.8888888888888888,
              "#b5de2b"
             ],
             [
              1,
              "#fde725"
             ]
            ],
            "type": "heatmap"
           }
          ],
          "heatmapgl": [
           {
            "colorbar": {
             "outlinewidth": 1,
             "tickcolor": "rgb(36,36,36)",
             "ticks": "outside"
            },
            "colorscale": [
             [
              0,
              "#440154"
             ],
             [
              0.1111111111111111,
              "#482878"
             ],
             [
              0.2222222222222222,
              "#3e4989"
             ],
             [
              0.3333333333333333,
              "#31688e"
             ],
             [
              0.4444444444444444,
              "#26828e"
             ],
             [
              0.5555555555555556,
              "#1f9e89"
             ],
             [
              0.6666666666666666,
              "#35b779"
             ],
             [
              0.7777777777777778,
              "#6ece58"
             ],
             [
              0.8888888888888888,
              "#b5de2b"
             ],
             [
              1,
              "#fde725"
             ]
            ],
            "type": "heatmapgl"
           }
          ],
          "histogram": [
           {
            "marker": {
             "line": {
              "color": "white",
              "width": 0.6
             }
            },
            "type": "histogram"
           }
          ],
          "histogram2d": [
           {
            "colorbar": {
             "outlinewidth": 1,
             "tickcolor": "rgb(36,36,36)",
             "ticks": "outside"
            },
            "colorscale": [
             [
              0,
              "#440154"
             ],
             [
              0.1111111111111111,
              "#482878"
             ],
             [
              0.2222222222222222,
              "#3e4989"
             ],
             [
              0.3333333333333333,
              "#31688e"
             ],
             [
              0.4444444444444444,
              "#26828e"
             ],
             [
              0.5555555555555556,
              "#1f9e89"
             ],
             [
              0.6666666666666666,
              "#35b779"
             ],
             [
              0.7777777777777778,
              "#6ece58"
             ],
             [
              0.8888888888888888,
              "#b5de2b"
             ],
             [
              1,
              "#fde725"
             ]
            ],
            "type": "histogram2d"
           }
          ],
          "histogram2dcontour": [
           {
            "colorbar": {
             "outlinewidth": 1,
             "tickcolor": "rgb(36,36,36)",
             "ticks": "outside"
            },
            "colorscale": [
             [
              0,
              "#440154"
             ],
             [
              0.1111111111111111,
              "#482878"
             ],
             [
              0.2222222222222222,
              "#3e4989"
             ],
             [
              0.3333333333333333,
              "#31688e"
             ],
             [
              0.4444444444444444,
              "#26828e"
             ],
             [
              0.5555555555555556,
              "#1f9e89"
             ],
             [
              0.6666666666666666,
              "#35b779"
             ],
             [
              0.7777777777777778,
              "#6ece58"
             ],
             [
              0.8888888888888888,
              "#b5de2b"
             ],
             [
              1,
              "#fde725"
             ]
            ],
            "type": "histogram2dcontour"
           }
          ],
          "mesh3d": [
           {
            "colorbar": {
             "outlinewidth": 1,
             "tickcolor": "rgb(36,36,36)",
             "ticks": "outside"
            },
            "type": "mesh3d"
           }
          ],
          "parcoords": [
           {
            "line": {
             "colorbar": {
              "outlinewidth": 1,
              "tickcolor": "rgb(36,36,36)",
              "ticks": "outside"
             }
            },
            "type": "parcoords"
           }
          ],
          "pie": [
           {
            "automargin": true,
            "type": "pie"
           }
          ],
          "scatter": [
           {
            "fillpattern": {
             "fillmode": "overlay",
             "size": 10,
             "solidity": 0.2
            },
            "type": "scatter"
           }
          ],
          "scatter3d": [
           {
            "line": {
             "colorbar": {
              "outlinewidth": 1,
              "tickcolor": "rgb(36,36,36)",
              "ticks": "outside"
             }
            },
            "marker": {
             "colorbar": {
              "outlinewidth": 1,
              "tickcolor": "rgb(36,36,36)",
              "ticks": "outside"
             }
            },
            "type": "scatter3d"
           }
          ],
          "scattercarpet": [
           {
            "marker": {
             "colorbar": {
              "outlinewidth": 1,
              "tickcolor": "rgb(36,36,36)",
              "ticks": "outside"
             }
            },
            "type": "scattercarpet"
           }
          ],
          "scattergeo": [
           {
            "marker": {
             "colorbar": {
              "outlinewidth": 1,
              "tickcolor": "rgb(36,36,36)",
              "ticks": "outside"
             }
            },
            "type": "scattergeo"
           }
          ],
          "scattergl": [
           {
            "marker": {
             "colorbar": {
              "outlinewidth": 1,
              "tickcolor": "rgb(36,36,36)",
              "ticks": "outside"
             }
            },
            "type": "scattergl"
           }
          ],
          "scattermapbox": [
           {
            "marker": {
             "colorbar": {
              "outlinewidth": 1,
              "tickcolor": "rgb(36,36,36)",
              "ticks": "outside"
             }
            },
            "type": "scattermapbox"
           }
          ],
          "scatterpolar": [
           {
            "marker": {
             "colorbar": {
              "outlinewidth": 1,
              "tickcolor": "rgb(36,36,36)",
              "ticks": "outside"
             }
            },
            "type": "scatterpolar"
           }
          ],
          "scatterpolargl": [
           {
            "marker": {
             "colorbar": {
              "outlinewidth": 1,
              "tickcolor": "rgb(36,36,36)",
              "ticks": "outside"
             }
            },
            "type": "scatterpolargl"
           }
          ],
          "scatterternary": [
           {
            "marker": {
             "colorbar": {
              "outlinewidth": 1,
              "tickcolor": "rgb(36,36,36)",
              "ticks": "outside"
             }
            },
            "type": "scatterternary"
           }
          ],
          "surface": [
           {
            "colorbar": {
             "outlinewidth": 1,
             "tickcolor": "rgb(36,36,36)",
             "ticks": "outside"
            },
            "colorscale": [
             [
              0,
              "#440154"
             ],
             [
              0.1111111111111111,
              "#482878"
             ],
             [
              0.2222222222222222,
              "#3e4989"
             ],
             [
              0.3333333333333333,
              "#31688e"
             ],
             [
              0.4444444444444444,
              "#26828e"
             ],
             [
              0.5555555555555556,
              "#1f9e89"
             ],
             [
              0.6666666666666666,
              "#35b779"
             ],
             [
              0.7777777777777778,
              "#6ece58"
             ],
             [
              0.8888888888888888,
              "#b5de2b"
             ],
             [
              1,
              "#fde725"
             ]
            ],
            "type": "surface"
           }
          ],
          "table": [
           {
            "cells": {
             "fill": {
              "color": "rgb(237,237,237)"
             },
             "line": {
              "color": "white"
             }
            },
            "header": {
             "fill": {
              "color": "rgb(217,217,217)"
             },
             "line": {
              "color": "white"
             }
            },
            "type": "table"
           }
          ]
         },
         "layout": {
          "annotationdefaults": {
           "arrowhead": 0,
           "arrowwidth": 1
          },
          "autotypenumbers": "strict",
          "coloraxis": {
           "colorbar": {
            "outlinewidth": 1,
            "tickcolor": "rgb(36,36,36)",
            "ticks": "outside"
           }
          },
          "colorscale": {
           "diverging": [
            [
             0,
             "rgb(103,0,31)"
            ],
            [
             0.1,
             "rgb(178,24,43)"
            ],
            [
             0.2,
             "rgb(214,96,77)"
            ],
            [
             0.3,
             "rgb(244,165,130)"
            ],
            [
             0.4,
             "rgb(253,219,199)"
            ],
            [
             0.5,
             "rgb(247,247,247)"
            ],
            [
             0.6,
             "rgb(209,229,240)"
            ],
            [
             0.7,
             "rgb(146,197,222)"
            ],
            [
             0.8,
             "rgb(67,147,195)"
            ],
            [
             0.9,
             "rgb(33,102,172)"
            ],
            [
             1,
             "rgb(5,48,97)"
            ]
           ],
           "sequential": [
            [
             0,
             "#440154"
            ],
            [
             0.1111111111111111,
             "#482878"
            ],
            [
             0.2222222222222222,
             "#3e4989"
            ],
            [
             0.3333333333333333,
             "#31688e"
            ],
            [
             0.4444444444444444,
             "#26828e"
            ],
            [
             0.5555555555555556,
             "#1f9e89"
            ],
            [
             0.6666666666666666,
             "#35b779"
            ],
            [
             0.7777777777777778,
             "#6ece58"
            ],
            [
             0.8888888888888888,
             "#b5de2b"
            ],
            [
             1,
             "#fde725"
            ]
           ],
           "sequentialminus": [
            [
             0,
             "#440154"
            ],
            [
             0.1111111111111111,
             "#482878"
            ],
            [
             0.2222222222222222,
             "#3e4989"
            ],
            [
             0.3333333333333333,
             "#31688e"
            ],
            [
             0.4444444444444444,
             "#26828e"
            ],
            [
             0.5555555555555556,
             "#1f9e89"
            ],
            [
             0.6666666666666666,
             "#35b779"
            ],
            [
             0.7777777777777778,
             "#6ece58"
            ],
            [
             0.8888888888888888,
             "#b5de2b"
            ],
            [
             1,
             "#fde725"
            ]
           ]
          },
          "colorway": [
           "#1F77B4",
           "#FF7F0E",
           "#2CA02C",
           "#D62728",
           "#9467BD",
           "#8C564B",
           "#E377C2",
           "#7F7F7F",
           "#BCBD22",
           "#17BECF"
          ],
          "font": {
           "color": "rgb(36,36,36)"
          },
          "geo": {
           "bgcolor": "white",
           "lakecolor": "white",
           "landcolor": "white",
           "showlakes": true,
           "showland": true,
           "subunitcolor": "white"
          },
          "hoverlabel": {
           "align": "left"
          },
          "hovermode": "closest",
          "mapbox": {
           "style": "light"
          },
          "paper_bgcolor": "white",
          "plot_bgcolor": "white",
          "polar": {
           "angularaxis": {
            "gridcolor": "rgb(232,232,232)",
            "linecolor": "rgb(36,36,36)",
            "showgrid": false,
            "showline": true,
            "ticks": "outside"
           },
           "bgcolor": "white",
           "radialaxis": {
            "gridcolor": "rgb(232,232,232)",
            "linecolor": "rgb(36,36,36)",
            "showgrid": false,
            "showline": true,
            "ticks": "outside"
           }
          },
          "scene": {
           "xaxis": {
            "backgroundcolor": "white",
            "gridcolor": "rgb(232,232,232)",
            "gridwidth": 2,
            "linecolor": "rgb(36,36,36)",
            "showbackground": true,
            "showgrid": false,
            "showline": true,
            "ticks": "outside",
            "zeroline": false,
            "zerolinecolor": "rgb(36,36,36)"
           },
           "yaxis": {
            "backgroundcolor": "white",
            "gridcolor": "rgb(232,232,232)",
            "gridwidth": 2,
            "linecolor": "rgb(36,36,36)",
            "showbackground": true,
            "showgrid": false,
            "showline": true,
            "ticks": "outside",
            "zeroline": false,
            "zerolinecolor": "rgb(36,36,36)"
           },
           "zaxis": {
            "backgroundcolor": "white",
            "gridcolor": "rgb(232,232,232)",
            "gridwidth": 2,
            "linecolor": "rgb(36,36,36)",
            "showbackground": true,
            "showgrid": false,
            "showline": true,
            "ticks": "outside",
            "zeroline": false,
            "zerolinecolor": "rgb(36,36,36)"
           }
          },
          "shapedefaults": {
           "fillcolor": "black",
           "line": {
            "width": 0
           },
           "opacity": 0.3
          },
          "ternary": {
           "aaxis": {
            "gridcolor": "rgb(232,232,232)",
            "linecolor": "rgb(36,36,36)",
            "showgrid": false,
            "showline": true,
            "ticks": "outside"
           },
           "baxis": {
            "gridcolor": "rgb(232,232,232)",
            "linecolor": "rgb(36,36,36)",
            "showgrid": false,
            "showline": true,
            "ticks": "outside"
           },
           "bgcolor": "white",
           "caxis": {
            "gridcolor": "rgb(232,232,232)",
            "linecolor": "rgb(36,36,36)",
            "showgrid": false,
            "showline": true,
            "ticks": "outside"
           }
          },
          "title": {
           "x": 0.05
          },
          "xaxis": {
           "automargin": true,
           "gridcolor": "rgb(232,232,232)",
           "linecolor": "rgb(36,36,36)",
           "showgrid": false,
           "showline": true,
           "ticks": "outside",
           "title": {
            "standoff": 15
           },
           "zeroline": false,
           "zerolinecolor": "rgb(36,36,36)"
          },
          "yaxis": {
           "automargin": true,
           "gridcolor": "rgb(232,232,232)",
           "linecolor": "rgb(36,36,36)",
           "showgrid": false,
           "showline": true,
           "ticks": "outside",
           "title": {
            "standoff": 15
           },
           "zeroline": false,
           "zerolinecolor": "rgb(36,36,36)"
          }
         }
        },
        "title": {
         "font": {
          "color": "Black",
          "size": 22
         },
         "text": "<b>Topic Probability Distribution</b>",
         "x": 0.5,
         "xanchor": "center",
         "y": 0.95,
         "yanchor": "top"
        },
        "width": 800,
        "xaxis": {
         "title": {
          "text": "Probability"
         }
        }
       }
      }
     },
     "metadata": {},
     "output_type": "display_data"
    }
   ],
   "source": [
    "topic_model.visualize_distribution(topic_distr[abstract_id], custom_labels=True)"
   ]
  },
  {
   "cell_type": "code",
   "execution_count": 33,
   "metadata": {},
   "outputs": [
    {
     "name": "stderr",
     "output_type": "stream",
     "text": [
      "100%|██████████| 1/1 [00:00<00:00, 10.42it/s]\n"
     ]
    },
    {
     "data": {
      "text/html": [
       "<style type=\"text/css\">\n",
       "#T_73414_row0_col0, #T_73414_row0_col1, #T_73414_row0_col2, #T_73414_row0_col3, #T_73414_row0_col98, #T_73414_row1_col69, #T_73414_row1_col73, #T_73414_row2_col11, #T_73414_row2_col12, #T_73414_row2_col13, #T_73414_row2_col14, #T_73414_row4_col11, #T_73414_row4_col12, #T_73414_row4_col13, #T_73414_row4_col14 {\n",
       "  background-color: #e9f2fa;\n",
       "  color: #000000;\n",
       "  color: black;\n",
       "}\n",
       "#T_73414_row0_col4, #T_73414_row0_col5, #T_73414_row0_col6, #T_73414_row0_col7, #T_73414_row0_col8, #T_73414_row0_col9, #T_73414_row0_col10, #T_73414_row0_col11, #T_73414_row0_col12, #T_73414_row0_col13, #T_73414_row0_col14, #T_73414_row0_col15, #T_73414_row0_col16, #T_73414_row0_col17, #T_73414_row0_col18, #T_73414_row0_col19, #T_73414_row0_col20, #T_73414_row0_col21, #T_73414_row0_col22, #T_73414_row0_col23, #T_73414_row0_col24, #T_73414_row0_col25, #T_73414_row0_col26, #T_73414_row0_col27, #T_73414_row0_col28, #T_73414_row0_col29, #T_73414_row0_col30, #T_73414_row0_col35, #T_73414_row0_col36, #T_73414_row0_col37, #T_73414_row0_col38, #T_73414_row0_col39, #T_73414_row0_col40, #T_73414_row0_col41, #T_73414_row0_col42, #T_73414_row0_col43, #T_73414_row0_col44, #T_73414_row0_col45, #T_73414_row0_col46, #T_73414_row0_col47, #T_73414_row0_col48, #T_73414_row0_col49, #T_73414_row0_col50, #T_73414_row0_col51, #T_73414_row0_col52, #T_73414_row0_col53, #T_73414_row0_col54, #T_73414_row0_col55, #T_73414_row0_col56, #T_73414_row0_col57, #T_73414_row0_col58, #T_73414_row0_col59, #T_73414_row0_col60, #T_73414_row0_col61, #T_73414_row0_col62, #T_73414_row0_col63, #T_73414_row0_col64, #T_73414_row0_col65, #T_73414_row0_col66, #T_73414_row0_col67, #T_73414_row0_col68, #T_73414_row0_col69, #T_73414_row0_col70, #T_73414_row0_col71, #T_73414_row0_col72, #T_73414_row0_col73, #T_73414_row0_col74, #T_73414_row0_col75, #T_73414_row0_col76, #T_73414_row0_col77, #T_73414_row0_col78, #T_73414_row0_col79, #T_73414_row0_col80, #T_73414_row0_col81, #T_73414_row0_col82, #T_73414_row0_col83, #T_73414_row0_col84, #T_73414_row0_col85, #T_73414_row0_col86, #T_73414_row0_col87, #T_73414_row0_col88, #T_73414_row0_col89, #T_73414_row0_col90, #T_73414_row0_col91, #T_73414_row0_col92, #T_73414_row0_col93, #T_73414_row0_col94, #T_73414_row0_col95, #T_73414_row0_col96, #T_73414_row0_col97, #T_73414_row0_col105, #T_73414_row0_col106, #T_73414_row0_col107, #T_73414_row0_col108, #T_73414_row0_col109, #T_73414_row0_col110, #T_73414_row0_col111, #T_73414_row0_col112, #T_73414_row0_col113, #T_73414_row0_col114, #T_73414_row0_col115, #T_73414_row0_col116, #T_73414_row0_col117, #T_73414_row0_col118, #T_73414_row0_col119, #T_73414_row1_col0, #T_73414_row1_col1, #T_73414_row1_col2, #T_73414_row1_col3, #T_73414_row1_col4, #T_73414_row1_col5, #T_73414_row1_col6, #T_73414_row1_col7, #T_73414_row1_col8, #T_73414_row1_col9, #T_73414_row1_col10, #T_73414_row1_col11, #T_73414_row1_col12, #T_73414_row1_col13, #T_73414_row1_col14, #T_73414_row1_col15, #T_73414_row1_col16, #T_73414_row1_col17, #T_73414_row1_col18, #T_73414_row1_col19, #T_73414_row1_col20, #T_73414_row1_col21, #T_73414_row1_col22, #T_73414_row1_col23, #T_73414_row1_col24, #T_73414_row1_col25, #T_73414_row1_col26, #T_73414_row1_col27, #T_73414_row1_col28, #T_73414_row1_col29, #T_73414_row1_col30, #T_73414_row1_col31, #T_73414_row1_col32, #T_73414_row1_col33, #T_73414_row1_col34, #T_73414_row1_col35, #T_73414_row1_col36, #T_73414_row1_col37, #T_73414_row1_col38, #T_73414_row1_col39, #T_73414_row1_col40, #T_73414_row1_col41, #T_73414_row1_col42, #T_73414_row1_col43, #T_73414_row1_col44, #T_73414_row1_col45, #T_73414_row1_col46, #T_73414_row1_col47, #T_73414_row1_col48, #T_73414_row1_col49, #T_73414_row1_col50, #T_73414_row1_col51, #T_73414_row1_col52, #T_73414_row1_col53, #T_73414_row1_col54, #T_73414_row1_col55, #T_73414_row1_col56, #T_73414_row1_col57, #T_73414_row1_col58, #T_73414_row1_col59, #T_73414_row1_col60, #T_73414_row1_col61, #T_73414_row1_col62, #T_73414_row1_col63, #T_73414_row1_col64, #T_73414_row1_col65, #T_73414_row1_col66, #T_73414_row1_col67, #T_73414_row1_col68, #T_73414_row1_col74, #T_73414_row1_col75, #T_73414_row1_col76, #T_73414_row1_col77, #T_73414_row1_col78, #T_73414_row1_col79, #T_73414_row1_col80, #T_73414_row1_col81, #T_73414_row1_col82, #T_73414_row1_col83, #T_73414_row1_col84, #T_73414_row1_col85, #T_73414_row1_col86, #T_73414_row1_col87, #T_73414_row1_col88, #T_73414_row1_col89, #T_73414_row1_col90, #T_73414_row1_col91, #T_73414_row1_col92, #T_73414_row1_col93, #T_73414_row1_col94, #T_73414_row1_col95, #T_73414_row1_col96, #T_73414_row1_col97, #T_73414_row1_col98, #T_73414_row1_col99, #T_73414_row1_col100, #T_73414_row1_col101, #T_73414_row1_col102, #T_73414_row1_col103, #T_73414_row1_col104, #T_73414_row1_col105, #T_73414_row1_col106, #T_73414_row1_col107, #T_73414_row1_col108, #T_73414_row1_col109, #T_73414_row1_col110, #T_73414_row1_col111, #T_73414_row1_col112, #T_73414_row1_col113, #T_73414_row1_col114, #T_73414_row1_col115, #T_73414_row1_col116, #T_73414_row1_col117, #T_73414_row1_col118, #T_73414_row1_col119, #T_73414_row2_col0, #T_73414_row2_col1, #T_73414_row2_col2, #T_73414_row2_col3, #T_73414_row2_col4, #T_73414_row2_col5, #T_73414_row2_col6, #T_73414_row2_col7, #T_73414_row2_col8, #T_73414_row2_col9, #T_73414_row2_col10, #T_73414_row2_col15, #T_73414_row2_col16, #T_73414_row2_col17, #T_73414_row2_col18, #T_73414_row2_col19, #T_73414_row2_col20, #T_73414_row2_col21, #T_73414_row2_col22, #T_73414_row2_col23, #T_73414_row2_col24, #T_73414_row2_col25, #T_73414_row2_col26, #T_73414_row2_col27, #T_73414_row2_col28, #T_73414_row2_col29, #T_73414_row2_col30, #T_73414_row2_col31, #T_73414_row2_col32, #T_73414_row2_col33, #T_73414_row2_col34, #T_73414_row2_col35, #T_73414_row2_col36, #T_73414_row2_col37, #T_73414_row2_col38, #T_73414_row2_col39, #T_73414_row2_col40, #T_73414_row2_col41, #T_73414_row2_col42, #T_73414_row2_col43, #T_73414_row2_col44, #T_73414_row2_col45, #T_73414_row2_col46, #T_73414_row2_col47, #T_73414_row2_col48, #T_73414_row2_col49, #T_73414_row2_col50, #T_73414_row2_col51, #T_73414_row2_col52, #T_73414_row2_col53, #T_73414_row2_col54, #T_73414_row2_col55, #T_73414_row2_col56, #T_73414_row2_col57, #T_73414_row2_col58, #T_73414_row2_col59, #T_73414_row2_col60, #T_73414_row2_col61, #T_73414_row2_col62, #T_73414_row2_col63, #T_73414_row2_col64, #T_73414_row2_col65, #T_73414_row2_col66, #T_73414_row2_col67, #T_73414_row2_col68, #T_73414_row2_col69, #T_73414_row2_col70, #T_73414_row2_col71, #T_73414_row2_col72, #T_73414_row2_col73, #T_73414_row2_col74, #T_73414_row2_col75, #T_73414_row2_col76, #T_73414_row2_col77, #T_73414_row2_col78, #T_73414_row2_col79, #T_73414_row2_col80, #T_73414_row2_col81, #T_73414_row2_col82, #T_73414_row2_col83, #T_73414_row2_col84, #T_73414_row2_col85, #T_73414_row2_col86, #T_73414_row2_col87, #T_73414_row2_col88, #T_73414_row2_col89, #T_73414_row2_col90, #T_73414_row2_col91, #T_73414_row2_col92, #T_73414_row2_col93, #T_73414_row2_col94, #T_73414_row2_col95, #T_73414_row2_col96, #T_73414_row2_col97, #T_73414_row2_col98, #T_73414_row2_col99, #T_73414_row2_col100, #T_73414_row2_col101, #T_73414_row2_col102, #T_73414_row2_col103, #T_73414_row2_col104, #T_73414_row2_col105, #T_73414_row2_col106, #T_73414_row2_col107, #T_73414_row2_col108, #T_73414_row2_col109, #T_73414_row2_col110, #T_73414_row2_col111, #T_73414_row2_col112, #T_73414_row2_col113, #T_73414_row2_col114, #T_73414_row2_col115, #T_73414_row2_col116, #T_73414_row2_col117, #T_73414_row2_col118, #T_73414_row2_col119, #T_73414_row3_col0, #T_73414_row3_col1, #T_73414_row3_col2, #T_73414_row3_col3, #T_73414_row3_col4, #T_73414_row3_col5, #T_73414_row3_col6, #T_73414_row3_col7, #T_73414_row3_col8, #T_73414_row3_col9, #T_73414_row3_col10, #T_73414_row3_col11, #T_73414_row3_col12, #T_73414_row3_col13, #T_73414_row3_col14, #T_73414_row3_col15, #T_73414_row3_col16, #T_73414_row3_col17, #T_73414_row3_col18, #T_73414_row3_col19, #T_73414_row3_col20, #T_73414_row3_col21, #T_73414_row3_col22, #T_73414_row3_col23, #T_73414_row3_col24, #T_73414_row3_col25, #T_73414_row3_col26, #T_73414_row3_col27, #T_73414_row3_col28, #T_73414_row3_col29, #T_73414_row3_col30, #T_73414_row3_col31, #T_73414_row3_col32, #T_73414_row3_col33, #T_73414_row3_col34, #T_73414_row3_col35, #T_73414_row3_col36, #T_73414_row3_col37, #T_73414_row3_col38, #T_73414_row3_col39, #T_73414_row3_col40, #T_73414_row3_col41, #T_73414_row3_col42, #T_73414_row3_col43, #T_73414_row3_col44, #T_73414_row3_col45, #T_73414_row3_col46, #T_73414_row3_col47, #T_73414_row3_col48, #T_73414_row3_col49, #T_73414_row3_col50, #T_73414_row3_col51, #T_73414_row3_col52, #T_73414_row3_col53, #T_73414_row3_col54, #T_73414_row3_col55, #T_73414_row3_col56, #T_73414_row3_col57, #T_73414_row3_col58, #T_73414_row3_col59, #T_73414_row3_col60, #T_73414_row3_col61, #T_73414_row3_col62, #T_73414_row3_col63, #T_73414_row3_col71, #T_73414_row3_col72, #T_73414_row3_col73, #T_73414_row3_col74, #T_73414_row3_col75, #T_73414_row3_col76, #T_73414_row3_col77, #T_73414_row3_col78, #T_73414_row3_col79, #T_73414_row3_col80, #T_73414_row3_col81, #T_73414_row3_col82, #T_73414_row3_col83, #T_73414_row3_col84, #T_73414_row3_col85, #T_73414_row3_col86, #T_73414_row3_col87, #T_73414_row3_col88, #T_73414_row3_col89, #T_73414_row3_col90, #T_73414_row3_col91, #T_73414_row3_col92, #T_73414_row3_col93, #T_73414_row3_col94, #T_73414_row3_col95, #T_73414_row3_col96, #T_73414_row3_col97, #T_73414_row3_col98, #T_73414_row3_col99, #T_73414_row3_col100, #T_73414_row3_col101, #T_73414_row3_col102, #T_73414_row3_col103, #T_73414_row3_col104, #T_73414_row3_col105, #T_73414_row3_col106, #T_73414_row3_col107, #T_73414_row3_col108, #T_73414_row3_col109, #T_73414_row3_col110, #T_73414_row3_col111, #T_73414_row3_col112, #T_73414_row3_col113, #T_73414_row3_col114, #T_73414_row3_col115, #T_73414_row3_col116, #T_73414_row3_col117, #T_73414_row3_col118, #T_73414_row3_col119, #T_73414_row4_col0, #T_73414_row4_col1, #T_73414_row4_col2, #T_73414_row4_col3, #T_73414_row4_col4, #T_73414_row4_col5, #T_73414_row4_col6, #T_73414_row4_col7, #T_73414_row4_col8, #T_73414_row4_col9, #T_73414_row4_col10, #T_73414_row4_col15, #T_73414_row4_col16, #T_73414_row4_col17, #T_73414_row4_col18, #T_73414_row4_col19, #T_73414_row4_col20, #T_73414_row4_col21, #T_73414_row4_col22, #T_73414_row4_col23, #T_73414_row4_col24, #T_73414_row4_col25, #T_73414_row4_col26, #T_73414_row4_col27, #T_73414_row4_col28, #T_73414_row4_col29, #T_73414_row4_col30, #T_73414_row4_col31, #T_73414_row4_col32, #T_73414_row4_col33, #T_73414_row4_col34, #T_73414_row4_col35, #T_73414_row4_col36, #T_73414_row4_col37, #T_73414_row4_col38, #T_73414_row4_col39, #T_73414_row4_col40, #T_73414_row4_col41, #T_73414_row4_col42, #T_73414_row4_col43, #T_73414_row4_col44, #T_73414_row4_col45, #T_73414_row4_col46, #T_73414_row4_col47, #T_73414_row4_col48, #T_73414_row4_col49, #T_73414_row4_col50, #T_73414_row4_col51, #T_73414_row4_col52, #T_73414_row4_col53, #T_73414_row4_col54, #T_73414_row4_col55, #T_73414_row4_col56, #T_73414_row4_col57, #T_73414_row4_col58, #T_73414_row4_col59, #T_73414_row4_col60, #T_73414_row4_col61, #T_73414_row4_col62, #T_73414_row4_col63, #T_73414_row4_col64, #T_73414_row4_col65, #T_73414_row4_col66, #T_73414_row4_col67, #T_73414_row4_col68, #T_73414_row4_col69, #T_73414_row4_col70, #T_73414_row4_col71, #T_73414_row4_col72, #T_73414_row4_col73, #T_73414_row4_col74, #T_73414_row4_col75, #T_73414_row4_col76, #T_73414_row4_col77, #T_73414_row4_col78, #T_73414_row4_col79, #T_73414_row4_col80, #T_73414_row4_col81, #T_73414_row4_col82, #T_73414_row4_col83, #T_73414_row4_col84, #T_73414_row4_col85, #T_73414_row4_col86, #T_73414_row4_col87, #T_73414_row4_col88, #T_73414_row4_col89, #T_73414_row4_col90, #T_73414_row4_col91, #T_73414_row4_col92, #T_73414_row4_col93, #T_73414_row4_col94, #T_73414_row4_col95, #T_73414_row4_col96, #T_73414_row4_col97, #T_73414_row4_col98, #T_73414_row4_col99, #T_73414_row4_col100, #T_73414_row4_col101, #T_73414_row4_col102, #T_73414_row4_col103, #T_73414_row4_col104, #T_73414_row4_col105, #T_73414_row4_col106, #T_73414_row4_col107, #T_73414_row4_col108, #T_73414_row4_col109, #T_73414_row4_col110, #T_73414_row4_col111, #T_73414_row4_col112, #T_73414_row4_col113, #T_73414_row4_col114, #T_73414_row4_col115, #T_73414_row4_col116, #T_73414_row4_col117, #T_73414_row4_col118, #T_73414_row4_col119, #T_73414_row5_col0, #T_73414_row5_col1, #T_73414_row5_col2, #T_73414_row5_col3, #T_73414_row5_col4, #T_73414_row5_col5, #T_73414_row5_col6, #T_73414_row5_col7, #T_73414_row5_col8, #T_73414_row5_col9, #T_73414_row5_col10, #T_73414_row5_col11, #T_73414_row5_col12, #T_73414_row5_col13, #T_73414_row5_col14, #T_73414_row5_col15, #T_73414_row5_col16, #T_73414_row5_col17, #T_73414_row5_col18, #T_73414_row5_col19, #T_73414_row5_col20, #T_73414_row5_col21, #T_73414_row5_col22, #T_73414_row5_col23, #T_73414_row5_col24, #T_73414_row5_col25, #T_73414_row5_col26, #T_73414_row5_col27, #T_73414_row5_col28, #T_73414_row5_col29, #T_73414_row5_col30, #T_73414_row5_col31, #T_73414_row5_col32, #T_73414_row5_col33, #T_73414_row5_col34, #T_73414_row5_col35, #T_73414_row5_col36, #T_73414_row5_col37, #T_73414_row5_col38, #T_73414_row5_col39, #T_73414_row5_col40, #T_73414_row5_col41, #T_73414_row5_col42, #T_73414_row5_col43, #T_73414_row5_col44, #T_73414_row5_col45, #T_73414_row5_col46, #T_73414_row5_col47, #T_73414_row5_col48, #T_73414_row5_col49, #T_73414_row5_col50, #T_73414_row5_col51, #T_73414_row5_col52, #T_73414_row5_col53, #T_73414_row5_col54, #T_73414_row5_col55, #T_73414_row5_col56, #T_73414_row5_col57, #T_73414_row5_col58, #T_73414_row5_col59, #T_73414_row5_col60, #T_73414_row5_col61, #T_73414_row5_col62, #T_73414_row5_col63, #T_73414_row5_col64, #T_73414_row5_col65, #T_73414_row5_col66, #T_73414_row5_col67, #T_73414_row5_col75, #T_73414_row5_col76, #T_73414_row5_col77, #T_73414_row5_col78, #T_73414_row5_col79, #T_73414_row5_col80, #T_73414_row5_col81, #T_73414_row5_col82, #T_73414_row5_col83, #T_73414_row5_col84, #T_73414_row5_col85, #T_73414_row5_col86, #T_73414_row5_col87, #T_73414_row5_col88, #T_73414_row5_col89, #T_73414_row5_col90, #T_73414_row5_col91, #T_73414_row5_col92, #T_73414_row5_col93, #T_73414_row5_col94, #T_73414_row5_col95, #T_73414_row5_col96, #T_73414_row5_col97, #T_73414_row5_col98, #T_73414_row5_col99, #T_73414_row5_col100, #T_73414_row5_col101, #T_73414_row5_col102, #T_73414_row5_col103, #T_73414_row5_col104, #T_73414_row5_col105, #T_73414_row5_col106, #T_73414_row5_col107, #T_73414_row5_col108, #T_73414_row5_col109, #T_73414_row5_col110, #T_73414_row5_col111, #T_73414_row5_col112, #T_73414_row5_col113, #T_73414_row5_col114, #T_73414_row5_col115, #T_73414_row5_col116, #T_73414_row5_col117, #T_73414_row5_col118, #T_73414_row5_col119 {\n",
       "  background-color: #f7fbff;\n",
       "  color: #000000;\n",
       "  color: white;\n",
       "  background-color: white;\n",
       "}\n",
       "#T_73414_row0_col31, #T_73414_row0_col32, #T_73414_row0_col33, #T_73414_row0_col34 {\n",
       "  background-color: #eaf3fb;\n",
       "  color: #000000;\n",
       "  color: black;\n",
       "}\n",
       "#T_73414_row0_col99, #T_73414_row1_col70, #T_73414_row1_col71, #T_73414_row1_col72 {\n",
       "  background-color: #dae8f6;\n",
       "  color: #000000;\n",
       "  color: black;\n",
       "}\n",
       "#T_73414_row0_col100 {\n",
       "  background-color: #cbdef1;\n",
       "  color: #000000;\n",
       "  color: black;\n",
       "}\n",
       "#T_73414_row0_col101 {\n",
       "  background-color: #b5d4e9;\n",
       "  color: #000000;\n",
       "  color: black;\n",
       "}\n",
       "#T_73414_row0_col102 {\n",
       "  background-color: #cadef0;\n",
       "  color: #000000;\n",
       "  color: black;\n",
       "}\n",
       "#T_73414_row0_col103, #T_73414_row3_col64 {\n",
       "  background-color: #d9e7f5;\n",
       "  color: #000000;\n",
       "  color: black;\n",
       "}\n",
       "#T_73414_row0_col104 {\n",
       "  background-color: #e8f1fa;\n",
       "  color: #000000;\n",
       "  color: black;\n",
       "}\n",
       "#T_73414_row3_col65 {\n",
       "  background-color: #a0cbe2;\n",
       "  color: #000000;\n",
       "  color: black;\n",
       "}\n",
       "#T_73414_row3_col66 {\n",
       "  background-color: #3d8dc4;\n",
       "  color: #f1f1f1;\n",
       "  color: black;\n",
       "}\n",
       "#T_73414_row3_col67 {\n",
       "  background-color: #2373b6;\n",
       "  color: #f1f1f1;\n",
       "  color: black;\n",
       "}\n",
       "#T_73414_row3_col68 {\n",
       "  background-color: #4e9acb;\n",
       "  color: #f1f1f1;\n",
       "  color: black;\n",
       "}\n",
       "#T_73414_row3_col69 {\n",
       "  background-color: #9fcae1;\n",
       "  color: #000000;\n",
       "  color: black;\n",
       "}\n",
       "#T_73414_row3_col70 {\n",
       "  background-color: #e3eef9;\n",
       "  color: #000000;\n",
       "  color: black;\n",
       "}\n",
       "#T_73414_row5_col68 {\n",
       "  background-color: #d8e7f5;\n",
       "  color: #000000;\n",
       "  color: black;\n",
       "}\n",
       "#T_73414_row5_col69 {\n",
       "  background-color: #81badb;\n",
       "  color: #000000;\n",
       "  color: black;\n",
       "}\n",
       "#T_73414_row5_col70 {\n",
       "  background-color: #2474b7;\n",
       "  color: #f1f1f1;\n",
       "  color: black;\n",
       "}\n",
       "#T_73414_row5_col71 {\n",
       "  background-color: #08306b;\n",
       "  color: #f1f1f1;\n",
       "  color: black;\n",
       "}\n",
       "#T_73414_row5_col72 {\n",
       "  background-color: #0e59a2;\n",
       "  color: #f1f1f1;\n",
       "  color: black;\n",
       "}\n",
       "#T_73414_row5_col73 {\n",
       "  background-color: #5aa2cf;\n",
       "  color: #f1f1f1;\n",
       "  color: black;\n",
       "}\n",
       "#T_73414_row5_col74 {\n",
       "  background-color: #c2d9ee;\n",
       "  color: #000000;\n",
       "  color: black;\n",
       "}\n",
       "</style>\n",
       "<table id=\"T_73414\">\n",
       "  <thead>\n",
       "    <tr>\n",
       "      <th class=\"blank level0\" >&nbsp;</th>\n",
       "      <th id=\"T_73414_level0_col0\" class=\"col_heading level0 col0\" >Speaker</th>\n",
       "      <th id=\"T_73414_level0_col1\" class=\"col_heading level0 col1\" >identification </th>\n",
       "      <th id=\"T_73414_level0_col2\" class=\"col_heading level0 col2\" >is  </th>\n",
       "      <th id=\"T_73414_level0_col3\" class=\"col_heading level0 col3\" >powerful   </th>\n",
       "      <th id=\"T_73414_level0_col4\" class=\"col_heading level0 col4\" >non    </th>\n",
       "      <th id=\"T_73414_level0_col5\" class=\"col_heading level0 col5\" >invasive     </th>\n",
       "      <th id=\"T_73414_level0_col6\" class=\"col_heading level0 col6\" >and      </th>\n",
       "      <th id=\"T_73414_level0_col7\" class=\"col_heading level0 col7\" >in       </th>\n",
       "      <th id=\"T_73414_level0_col8\" class=\"col_heading level0 col8\" >expensive        </th>\n",
       "      <th id=\"T_73414_level0_col9\" class=\"col_heading level0 col9\" >biometric         </th>\n",
       "      <th id=\"T_73414_level0_col10\" class=\"col_heading level0 col10\" >technique          </th>\n",
       "      <th id=\"T_73414_level0_col11\" class=\"col_heading level0 col11\" >The           </th>\n",
       "      <th id=\"T_73414_level0_col12\" class=\"col_heading level0 col12\" >recognition            </th>\n",
       "      <th id=\"T_73414_level0_col13\" class=\"col_heading level0 col13\" >accuracy             </th>\n",
       "      <th id=\"T_73414_level0_col14\" class=\"col_heading level0 col14\" >however              </th>\n",
       "      <th id=\"T_73414_level0_col15\" class=\"col_heading level0 col15\" >deteriorates               </th>\n",
       "      <th id=\"T_73414_level0_col16\" class=\"col_heading level0 col16\" >when                </th>\n",
       "      <th id=\"T_73414_level0_col17\" class=\"col_heading level0 col17\" >noise                 </th>\n",
       "      <th id=\"T_73414_level0_col18\" class=\"col_heading level0 col18\" >levels                  </th>\n",
       "      <th id=\"T_73414_level0_col19\" class=\"col_heading level0 col19\" >affect                   </th>\n",
       "      <th id=\"T_73414_level0_col20\" class=\"col_heading level0 col20\" >specific                    </th>\n",
       "      <th id=\"T_73414_level0_col21\" class=\"col_heading level0 col21\" >band                     </th>\n",
       "      <th id=\"T_73414_level0_col22\" class=\"col_heading level0 col22\" >of                      </th>\n",
       "      <th id=\"T_73414_level0_col23\" class=\"col_heading level0 col23\" >frequency                       </th>\n",
       "      <th id=\"T_73414_level0_col24\" class=\"col_heading level0 col24\" >In                        </th>\n",
       "      <th id=\"T_73414_level0_col25\" class=\"col_heading level0 col25\" >this                         </th>\n",
       "      <th id=\"T_73414_level0_col26\" class=\"col_heading level0 col26\" >paper                          </th>\n",
       "      <th id=\"T_73414_level0_col27\" class=\"col_heading level0 col27\" >we                           </th>\n",
       "      <th id=\"T_73414_level0_col28\" class=\"col_heading level0 col28\" >present                            </th>\n",
       "      <th id=\"T_73414_level0_col29\" class=\"col_heading level0 col29\" >sub                             </th>\n",
       "      <th id=\"T_73414_level0_col30\" class=\"col_heading level0 col30\" >band                              </th>\n",
       "      <th id=\"T_73414_level0_col31\" class=\"col_heading level0 col31\" >based                               </th>\n",
       "      <th id=\"T_73414_level0_col32\" class=\"col_heading level0 col32\" >speaker                                </th>\n",
       "      <th id=\"T_73414_level0_col33\" class=\"col_heading level0 col33\" >identification                                 </th>\n",
       "      <th id=\"T_73414_level0_col34\" class=\"col_heading level0 col34\" >that                                  </th>\n",
       "      <th id=\"T_73414_level0_col35\" class=\"col_heading level0 col35\" >intends                                   </th>\n",
       "      <th id=\"T_73414_level0_col36\" class=\"col_heading level0 col36\" >to                                    </th>\n",
       "      <th id=\"T_73414_level0_col37\" class=\"col_heading level0 col37\" >improve                                     </th>\n",
       "      <th id=\"T_73414_level0_col38\" class=\"col_heading level0 col38\" >the                                      </th>\n",
       "      <th id=\"T_73414_level0_col39\" class=\"col_heading level0 col39\" >live                                       </th>\n",
       "      <th id=\"T_73414_level0_col40\" class=\"col_heading level0 col40\" >testing                                        </th>\n",
       "      <th id=\"T_73414_level0_col41\" class=\"col_heading level0 col41\" >performance                                         </th>\n",
       "      <th id=\"T_73414_level0_col42\" class=\"col_heading level0 col42\" >Each                                          </th>\n",
       "      <th id=\"T_73414_level0_col43\" class=\"col_heading level0 col43\" >frequency                                           </th>\n",
       "      <th id=\"T_73414_level0_col44\" class=\"col_heading level0 col44\" >sub                                            </th>\n",
       "      <th id=\"T_73414_level0_col45\" class=\"col_heading level0 col45\" >band                                             </th>\n",
       "      <th id=\"T_73414_level0_col46\" class=\"col_heading level0 col46\" >is                                              </th>\n",
       "      <th id=\"T_73414_level0_col47\" class=\"col_heading level0 col47\" >processed                                               </th>\n",
       "      <th id=\"T_73414_level0_col48\" class=\"col_heading level0 col48\" >and                                                </th>\n",
       "      <th id=\"T_73414_level0_col49\" class=\"col_heading level0 col49\" >classified                                                 </th>\n",
       "      <th id=\"T_73414_level0_col50\" class=\"col_heading level0 col50\" >independently                                                  </th>\n",
       "      <th id=\"T_73414_level0_col51\" class=\"col_heading level0 col51\" >We                                                   </th>\n",
       "      <th id=\"T_73414_level0_col52\" class=\"col_heading level0 col52\" >also                                                    </th>\n",
       "      <th id=\"T_73414_level0_col53\" class=\"col_heading level0 col53\" >compare                                                     </th>\n",
       "      <th id=\"T_73414_level0_col54\" class=\"col_heading level0 col54\" >the                                                      </th>\n",
       "      <th id=\"T_73414_level0_col55\" class=\"col_heading level0 col55\" >linear                                                       </th>\n",
       "      <th id=\"T_73414_level0_col56\" class=\"col_heading level0 col56\" >and                                                        </th>\n",
       "      <th id=\"T_73414_level0_col57\" class=\"col_heading level0 col57\" >non                                                         </th>\n",
       "      <th id=\"T_73414_level0_col58\" class=\"col_heading level0 col58\" >linear                                                          </th>\n",
       "      <th id=\"T_73414_level0_col59\" class=\"col_heading level0 col59\" >merging                                                           </th>\n",
       "      <th id=\"T_73414_level0_col60\" class=\"col_heading level0 col60\" >techniques                                                            </th>\n",
       "      <th id=\"T_73414_level0_col61\" class=\"col_heading level0 col61\" >for                                                             </th>\n",
       "      <th id=\"T_73414_level0_col62\" class=\"col_heading level0 col62\" >the                                                              </th>\n",
       "      <th id=\"T_73414_level0_col63\" class=\"col_heading level0 col63\" >sub                                                               </th>\n",
       "      <th id=\"T_73414_level0_col64\" class=\"col_heading level0 col64\" >bands                                                                </th>\n",
       "      <th id=\"T_73414_level0_col65\" class=\"col_heading level0 col65\" >recognizer                                                                 </th>\n",
       "      <th id=\"T_73414_level0_col66\" class=\"col_heading level0 col66\" >Support                                                                  </th>\n",
       "      <th id=\"T_73414_level0_col67\" class=\"col_heading level0 col67\" >vector                                                                   </th>\n",
       "      <th id=\"T_73414_level0_col68\" class=\"col_heading level0 col68\" >machines                                                                    </th>\n",
       "      <th id=\"T_73414_level0_col69\" class=\"col_heading level0 col69\" >and                                                                     </th>\n",
       "      <th id=\"T_73414_level0_col70\" class=\"col_heading level0 col70\" >Gaussian                                                                      </th>\n",
       "      <th id=\"T_73414_level0_col71\" class=\"col_heading level0 col71\" >Mixture                                                                       </th>\n",
       "      <th id=\"T_73414_level0_col72\" class=\"col_heading level0 col72\" >models                                                                        </th>\n",
       "      <th id=\"T_73414_level0_col73\" class=\"col_heading level0 col73\" >are                                                                         </th>\n",
       "      <th id=\"T_73414_level0_col74\" class=\"col_heading level0 col74\" >the                                                                          </th>\n",
       "      <th id=\"T_73414_level0_col75\" class=\"col_heading level0 col75\" >non                                                                           </th>\n",
       "      <th id=\"T_73414_level0_col76\" class=\"col_heading level0 col76\" >linear                                                                            </th>\n",
       "      <th id=\"T_73414_level0_col77\" class=\"col_heading level0 col77\" >merging                                                                             </th>\n",
       "      <th id=\"T_73414_level0_col78\" class=\"col_heading level0 col78\" >techniques                                                                              </th>\n",
       "      <th id=\"T_73414_level0_col79\" class=\"col_heading level0 col79\" >that                                                                               </th>\n",
       "      <th id=\"T_73414_level0_col80\" class=\"col_heading level0 col80\" >are                                                                                </th>\n",
       "      <th id=\"T_73414_level0_col81\" class=\"col_heading level0 col81\" >investigated                                                                                 </th>\n",
       "      <th id=\"T_73414_level0_col82\" class=\"col_heading level0 col82\" >Results                                                                                  </th>\n",
       "      <th id=\"T_73414_level0_col83\" class=\"col_heading level0 col83\" >showed                                                                                   </th>\n",
       "      <th id=\"T_73414_level0_col84\" class=\"col_heading level0 col84\" >that                                                                                    </th>\n",
       "      <th id=\"T_73414_level0_col85\" class=\"col_heading level0 col85\" >the                                                                                     </th>\n",
       "      <th id=\"T_73414_level0_col86\" class=\"col_heading level0 col86\" >sub                                                                                      </th>\n",
       "      <th id=\"T_73414_level0_col87\" class=\"col_heading level0 col87\" >band                                                                                       </th>\n",
       "      <th id=\"T_73414_level0_col88\" class=\"col_heading level0 col88\" >based                                                                                        </th>\n",
       "      <th id=\"T_73414_level0_col89\" class=\"col_heading level0 col89\" >method                                                                                         </th>\n",
       "      <th id=\"T_73414_level0_col90\" class=\"col_heading level0 col90\" >used                                                                                          </th>\n",
       "      <th id=\"T_73414_level0_col91\" class=\"col_heading level0 col91\" >with                                                                                           </th>\n",
       "      <th id=\"T_73414_level0_col92\" class=\"col_heading level0 col92\" >linear                                                                                            </th>\n",
       "      <th id=\"T_73414_level0_col93\" class=\"col_heading level0 col93\" >merging                                                                                             </th>\n",
       "      <th id=\"T_73414_level0_col94\" class=\"col_heading level0 col94\" >techniques                                                                                              </th>\n",
       "      <th id=\"T_73414_level0_col95\" class=\"col_heading level0 col95\" >enormously                                                                                               </th>\n",
       "      <th id=\"T_73414_level0_col96\" class=\"col_heading level0 col96\" >improved                                                                                                </th>\n",
       "      <th id=\"T_73414_level0_col97\" class=\"col_heading level0 col97\" >the                                                                                                 </th>\n",
       "      <th id=\"T_73414_level0_col98\" class=\"col_heading level0 col98\" >performance                                                                                                  </th>\n",
       "      <th id=\"T_73414_level0_col99\" class=\"col_heading level0 col99\" >of                                                                                                   </th>\n",
       "      <th id=\"T_73414_level0_col100\" class=\"col_heading level0 col100\" >the                                                                                                    </th>\n",
       "      <th id=\"T_73414_level0_col101\" class=\"col_heading level0 col101\" >speaker                                                                                                     </th>\n",
       "      <th id=\"T_73414_level0_col102\" class=\"col_heading level0 col102\" >identification                                                                                                      </th>\n",
       "      <th id=\"T_73414_level0_col103\" class=\"col_heading level0 col103\" >over                                                                                                       </th>\n",
       "      <th id=\"T_73414_level0_col104\" class=\"col_heading level0 col104\" >the                                                                                                        </th>\n",
       "      <th id=\"T_73414_level0_col105\" class=\"col_heading level0 col105\" >performance                                                                                                         </th>\n",
       "      <th id=\"T_73414_level0_col106\" class=\"col_heading level0 col106\" >of                                                                                                          </th>\n",
       "      <th id=\"T_73414_level0_col107\" class=\"col_heading level0 col107\" >wide                                                                                                           </th>\n",
       "      <th id=\"T_73414_level0_col108\" class=\"col_heading level0 col108\" >band                                                                                                            </th>\n",
       "      <th id=\"T_73414_level0_col109\" class=\"col_heading level0 col109\" >recognizers                                                                                                             </th>\n",
       "      <th id=\"T_73414_level0_col110\" class=\"col_heading level0 col110\" >when                                                                                                              </th>\n",
       "      <th id=\"T_73414_level0_col111\" class=\"col_heading level0 col111\" >tested                                                                                                               </th>\n",
       "      <th id=\"T_73414_level0_col112\" class=\"col_heading level0 col112\" >live                                                                                                                </th>\n",
       "      <th id=\"T_73414_level0_col113\" class=\"col_heading level0 col113\" >live                                                                                                                 </th>\n",
       "      <th id=\"T_73414_level0_col114\" class=\"col_heading level0 col114\" >testing                                                                                                                  </th>\n",
       "      <th id=\"T_73414_level0_col115\" class=\"col_heading level0 col115\" >improvement                                                                                                                   </th>\n",
       "      <th id=\"T_73414_level0_col116\" class=\"col_heading level0 col116\" >of                                                                                                                    </th>\n",
       "      <th id=\"T_73414_level0_col117\" class=\"col_heading level0 col117\" >78                                                                                                                     </th>\n",
       "      <th id=\"T_73414_level0_col118\" class=\"col_heading level0 col118\" >was                                                                                                                      </th>\n",
       "      <th id=\"T_73414_level0_col119\" class=\"col_heading level0 col119\" >achieved                                                                                                                       </th>\n",
       "    </tr>\n",
       "  </thead>\n",
       "  <tbody>\n",
       "    <tr>\n",
       "      <th id=\"T_73414_level0_row0\" class=\"row_heading level0 row0\" >1_speech_audio_speaker_music</th>\n",
       "      <td id=\"T_73414_row0_col0\" class=\"data row0 col0\" >0.112</td>\n",
       "      <td id=\"T_73414_row0_col1\" class=\"data row0 col1\" >0.112</td>\n",
       "      <td id=\"T_73414_row0_col2\" class=\"data row0 col2\" >0.112</td>\n",
       "      <td id=\"T_73414_row0_col3\" class=\"data row0 col3\" >0.112</td>\n",
       "      <td id=\"T_73414_row0_col4\" class=\"data row0 col4\" >0.000</td>\n",
       "      <td id=\"T_73414_row0_col5\" class=\"data row0 col5\" >0.000</td>\n",
       "      <td id=\"T_73414_row0_col6\" class=\"data row0 col6\" >0.000</td>\n",
       "      <td id=\"T_73414_row0_col7\" class=\"data row0 col7\" >0.000</td>\n",
       "      <td id=\"T_73414_row0_col8\" class=\"data row0 col8\" >0.000</td>\n",
       "      <td id=\"T_73414_row0_col9\" class=\"data row0 col9\" >0.000</td>\n",
       "      <td id=\"T_73414_row0_col10\" class=\"data row0 col10\" >0.000</td>\n",
       "      <td id=\"T_73414_row0_col11\" class=\"data row0 col11\" >0.000</td>\n",
       "      <td id=\"T_73414_row0_col12\" class=\"data row0 col12\" >0.000</td>\n",
       "      <td id=\"T_73414_row0_col13\" class=\"data row0 col13\" >0.000</td>\n",
       "      <td id=\"T_73414_row0_col14\" class=\"data row0 col14\" >0.000</td>\n",
       "      <td id=\"T_73414_row0_col15\" class=\"data row0 col15\" >0.000</td>\n",
       "      <td id=\"T_73414_row0_col16\" class=\"data row0 col16\" >0.000</td>\n",
       "      <td id=\"T_73414_row0_col17\" class=\"data row0 col17\" >0.000</td>\n",
       "      <td id=\"T_73414_row0_col18\" class=\"data row0 col18\" >0.000</td>\n",
       "      <td id=\"T_73414_row0_col19\" class=\"data row0 col19\" >0.000</td>\n",
       "      <td id=\"T_73414_row0_col20\" class=\"data row0 col20\" >0.000</td>\n",
       "      <td id=\"T_73414_row0_col21\" class=\"data row0 col21\" >0.000</td>\n",
       "      <td id=\"T_73414_row0_col22\" class=\"data row0 col22\" >0.000</td>\n",
       "      <td id=\"T_73414_row0_col23\" class=\"data row0 col23\" >0.000</td>\n",
       "      <td id=\"T_73414_row0_col24\" class=\"data row0 col24\" >0.000</td>\n",
       "      <td id=\"T_73414_row0_col25\" class=\"data row0 col25\" >0.000</td>\n",
       "      <td id=\"T_73414_row0_col26\" class=\"data row0 col26\" >0.000</td>\n",
       "      <td id=\"T_73414_row0_col27\" class=\"data row0 col27\" >0.000</td>\n",
       "      <td id=\"T_73414_row0_col28\" class=\"data row0 col28\" >0.000</td>\n",
       "      <td id=\"T_73414_row0_col29\" class=\"data row0 col29\" >0.000</td>\n",
       "      <td id=\"T_73414_row0_col30\" class=\"data row0 col30\" >0.000</td>\n",
       "      <td id=\"T_73414_row0_col31\" class=\"data row0 col31\" >0.100</td>\n",
       "      <td id=\"T_73414_row0_col32\" class=\"data row0 col32\" >0.100</td>\n",
       "      <td id=\"T_73414_row0_col33\" class=\"data row0 col33\" >0.100</td>\n",
       "      <td id=\"T_73414_row0_col34\" class=\"data row0 col34\" >0.100</td>\n",
       "      <td id=\"T_73414_row0_col35\" class=\"data row0 col35\" >0.000</td>\n",
       "      <td id=\"T_73414_row0_col36\" class=\"data row0 col36\" >0.000</td>\n",
       "      <td id=\"T_73414_row0_col37\" class=\"data row0 col37\" >0.000</td>\n",
       "      <td id=\"T_73414_row0_col38\" class=\"data row0 col38\" >0.000</td>\n",
       "      <td id=\"T_73414_row0_col39\" class=\"data row0 col39\" >0.000</td>\n",
       "      <td id=\"T_73414_row0_col40\" class=\"data row0 col40\" >0.000</td>\n",
       "      <td id=\"T_73414_row0_col41\" class=\"data row0 col41\" >0.000</td>\n",
       "      <td id=\"T_73414_row0_col42\" class=\"data row0 col42\" >0.000</td>\n",
       "      <td id=\"T_73414_row0_col43\" class=\"data row0 col43\" >0.000</td>\n",
       "      <td id=\"T_73414_row0_col44\" class=\"data row0 col44\" >0.000</td>\n",
       "      <td id=\"T_73414_row0_col45\" class=\"data row0 col45\" >0.000</td>\n",
       "      <td id=\"T_73414_row0_col46\" class=\"data row0 col46\" >0.000</td>\n",
       "      <td id=\"T_73414_row0_col47\" class=\"data row0 col47\" >0.000</td>\n",
       "      <td id=\"T_73414_row0_col48\" class=\"data row0 col48\" >0.000</td>\n",
       "      <td id=\"T_73414_row0_col49\" class=\"data row0 col49\" >0.000</td>\n",
       "      <td id=\"T_73414_row0_col50\" class=\"data row0 col50\" >0.000</td>\n",
       "      <td id=\"T_73414_row0_col51\" class=\"data row0 col51\" >0.000</td>\n",
       "      <td id=\"T_73414_row0_col52\" class=\"data row0 col52\" >0.000</td>\n",
       "      <td id=\"T_73414_row0_col53\" class=\"data row0 col53\" >0.000</td>\n",
       "      <td id=\"T_73414_row0_col54\" class=\"data row0 col54\" >0.000</td>\n",
       "      <td id=\"T_73414_row0_col55\" class=\"data row0 col55\" >0.000</td>\n",
       "      <td id=\"T_73414_row0_col56\" class=\"data row0 col56\" >0.000</td>\n",
       "      <td id=\"T_73414_row0_col57\" class=\"data row0 col57\" >0.000</td>\n",
       "      <td id=\"T_73414_row0_col58\" class=\"data row0 col58\" >0.000</td>\n",
       "      <td id=\"T_73414_row0_col59\" class=\"data row0 col59\" >0.000</td>\n",
       "      <td id=\"T_73414_row0_col60\" class=\"data row0 col60\" >0.000</td>\n",
       "      <td id=\"T_73414_row0_col61\" class=\"data row0 col61\" >0.000</td>\n",
       "      <td id=\"T_73414_row0_col62\" class=\"data row0 col62\" >0.000</td>\n",
       "      <td id=\"T_73414_row0_col63\" class=\"data row0 col63\" >0.000</td>\n",
       "      <td id=\"T_73414_row0_col64\" class=\"data row0 col64\" >0.000</td>\n",
       "      <td id=\"T_73414_row0_col65\" class=\"data row0 col65\" >0.000</td>\n",
       "      <td id=\"T_73414_row0_col66\" class=\"data row0 col66\" >0.000</td>\n",
       "      <td id=\"T_73414_row0_col67\" class=\"data row0 col67\" >0.000</td>\n",
       "      <td id=\"T_73414_row0_col68\" class=\"data row0 col68\" >0.000</td>\n",
       "      <td id=\"T_73414_row0_col69\" class=\"data row0 col69\" >0.000</td>\n",
       "      <td id=\"T_73414_row0_col70\" class=\"data row0 col70\" >0.000</td>\n",
       "      <td id=\"T_73414_row0_col71\" class=\"data row0 col71\" >0.000</td>\n",
       "      <td id=\"T_73414_row0_col72\" class=\"data row0 col72\" >0.000</td>\n",
       "      <td id=\"T_73414_row0_col73\" class=\"data row0 col73\" >0.000</td>\n",
       "      <td id=\"T_73414_row0_col74\" class=\"data row0 col74\" >0.000</td>\n",
       "      <td id=\"T_73414_row0_col75\" class=\"data row0 col75\" >0.000</td>\n",
       "      <td id=\"T_73414_row0_col76\" class=\"data row0 col76\" >0.000</td>\n",
       "      <td id=\"T_73414_row0_col77\" class=\"data row0 col77\" >0.000</td>\n",
       "      <td id=\"T_73414_row0_col78\" class=\"data row0 col78\" >0.000</td>\n",
       "      <td id=\"T_73414_row0_col79\" class=\"data row0 col79\" >0.000</td>\n",
       "      <td id=\"T_73414_row0_col80\" class=\"data row0 col80\" >0.000</td>\n",
       "      <td id=\"T_73414_row0_col81\" class=\"data row0 col81\" >0.000</td>\n",
       "      <td id=\"T_73414_row0_col82\" class=\"data row0 col82\" >0.000</td>\n",
       "      <td id=\"T_73414_row0_col83\" class=\"data row0 col83\" >0.000</td>\n",
       "      <td id=\"T_73414_row0_col84\" class=\"data row0 col84\" >0.000</td>\n",
       "      <td id=\"T_73414_row0_col85\" class=\"data row0 col85\" >0.000</td>\n",
       "      <td id=\"T_73414_row0_col86\" class=\"data row0 col86\" >0.000</td>\n",
       "      <td id=\"T_73414_row0_col87\" class=\"data row0 col87\" >0.000</td>\n",
       "      <td id=\"T_73414_row0_col88\" class=\"data row0 col88\" >0.000</td>\n",
       "      <td id=\"T_73414_row0_col89\" class=\"data row0 col89\" >0.000</td>\n",
       "      <td id=\"T_73414_row0_col90\" class=\"data row0 col90\" >0.000</td>\n",
       "      <td id=\"T_73414_row0_col91\" class=\"data row0 col91\" >0.000</td>\n",
       "      <td id=\"T_73414_row0_col92\" class=\"data row0 col92\" >0.000</td>\n",
       "      <td id=\"T_73414_row0_col93\" class=\"data row0 col93\" >0.000</td>\n",
       "      <td id=\"T_73414_row0_col94\" class=\"data row0 col94\" >0.000</td>\n",
       "      <td id=\"T_73414_row0_col95\" class=\"data row0 col95\" >0.000</td>\n",
       "      <td id=\"T_73414_row0_col96\" class=\"data row0 col96\" >0.000</td>\n",
       "      <td id=\"T_73414_row0_col97\" class=\"data row0 col97\" >0.000</td>\n",
       "      <td id=\"T_73414_row0_col98\" class=\"data row0 col98\" >0.110</td>\n",
       "      <td id=\"T_73414_row0_col99\" class=\"data row0 col99\" >0.228</td>\n",
       "      <td id=\"T_73414_row0_col100\" class=\"data row0 col100\" >0.346</td>\n",
       "      <td id=\"T_73414_row0_col101\" class=\"data row0 col101\" >0.464</td>\n",
       "      <td id=\"T_73414_row0_col102\" class=\"data row0 col102\" >0.354</td>\n",
       "      <td id=\"T_73414_row0_col103\" class=\"data row0 col103\" >0.236</td>\n",
       "      <td id=\"T_73414_row0_col104\" class=\"data row0 col104\" >0.118</td>\n",
       "      <td id=\"T_73414_row0_col105\" class=\"data row0 col105\" >0.000</td>\n",
       "      <td id=\"T_73414_row0_col106\" class=\"data row0 col106\" >0.000</td>\n",
       "      <td id=\"T_73414_row0_col107\" class=\"data row0 col107\" >0.000</td>\n",
       "      <td id=\"T_73414_row0_col108\" class=\"data row0 col108\" >0.000</td>\n",
       "      <td id=\"T_73414_row0_col109\" class=\"data row0 col109\" >0.000</td>\n",
       "      <td id=\"T_73414_row0_col110\" class=\"data row0 col110\" >0.000</td>\n",
       "      <td id=\"T_73414_row0_col111\" class=\"data row0 col111\" >0.000</td>\n",
       "      <td id=\"T_73414_row0_col112\" class=\"data row0 col112\" >0.000</td>\n",
       "      <td id=\"T_73414_row0_col113\" class=\"data row0 col113\" >0.000</td>\n",
       "      <td id=\"T_73414_row0_col114\" class=\"data row0 col114\" >0.000</td>\n",
       "      <td id=\"T_73414_row0_col115\" class=\"data row0 col115\" >0.000</td>\n",
       "      <td id=\"T_73414_row0_col116\" class=\"data row0 col116\" >0.000</td>\n",
       "      <td id=\"T_73414_row0_col117\" class=\"data row0 col117\" >0.000</td>\n",
       "      <td id=\"T_73414_row0_col118\" class=\"data row0 col118\" >0.000</td>\n",
       "      <td id=\"T_73414_row0_col119\" class=\"data row0 col119\" >0.000</td>\n",
       "    </tr>\n",
       "    <tr>\n",
       "      <th id=\"T_73414_level0_row1\" class=\"row_heading level0 row1\" >15_gaussian_variational_inference_gp</th>\n",
       "      <td id=\"T_73414_row1_col0\" class=\"data row1 col0\" >0.000</td>\n",
       "      <td id=\"T_73414_row1_col1\" class=\"data row1 col1\" >0.000</td>\n",
       "      <td id=\"T_73414_row1_col2\" class=\"data row1 col2\" >0.000</td>\n",
       "      <td id=\"T_73414_row1_col3\" class=\"data row1 col3\" >0.000</td>\n",
       "      <td id=\"T_73414_row1_col4\" class=\"data row1 col4\" >0.000</td>\n",
       "      <td id=\"T_73414_row1_col5\" class=\"data row1 col5\" >0.000</td>\n",
       "      <td id=\"T_73414_row1_col6\" class=\"data row1 col6\" >0.000</td>\n",
       "      <td id=\"T_73414_row1_col7\" class=\"data row1 col7\" >0.000</td>\n",
       "      <td id=\"T_73414_row1_col8\" class=\"data row1 col8\" >0.000</td>\n",
       "      <td id=\"T_73414_row1_col9\" class=\"data row1 col9\" >0.000</td>\n",
       "      <td id=\"T_73414_row1_col10\" class=\"data row1 col10\" >0.000</td>\n",
       "      <td id=\"T_73414_row1_col11\" class=\"data row1 col11\" >0.000</td>\n",
       "      <td id=\"T_73414_row1_col12\" class=\"data row1 col12\" >0.000</td>\n",
       "      <td id=\"T_73414_row1_col13\" class=\"data row1 col13\" >0.000</td>\n",
       "      <td id=\"T_73414_row1_col14\" class=\"data row1 col14\" >0.000</td>\n",
       "      <td id=\"T_73414_row1_col15\" class=\"data row1 col15\" >0.000</td>\n",
       "      <td id=\"T_73414_row1_col16\" class=\"data row1 col16\" >0.000</td>\n",
       "      <td id=\"T_73414_row1_col17\" class=\"data row1 col17\" >0.000</td>\n",
       "      <td id=\"T_73414_row1_col18\" class=\"data row1 col18\" >0.000</td>\n",
       "      <td id=\"T_73414_row1_col19\" class=\"data row1 col19\" >0.000</td>\n",
       "      <td id=\"T_73414_row1_col20\" class=\"data row1 col20\" >0.000</td>\n",
       "      <td id=\"T_73414_row1_col21\" class=\"data row1 col21\" >0.000</td>\n",
       "      <td id=\"T_73414_row1_col22\" class=\"data row1 col22\" >0.000</td>\n",
       "      <td id=\"T_73414_row1_col23\" class=\"data row1 col23\" >0.000</td>\n",
       "      <td id=\"T_73414_row1_col24\" class=\"data row1 col24\" >0.000</td>\n",
       "      <td id=\"T_73414_row1_col25\" class=\"data row1 col25\" >0.000</td>\n",
       "      <td id=\"T_73414_row1_col26\" class=\"data row1 col26\" >0.000</td>\n",
       "      <td id=\"T_73414_row1_col27\" class=\"data row1 col27\" >0.000</td>\n",
       "      <td id=\"T_73414_row1_col28\" class=\"data row1 col28\" >0.000</td>\n",
       "      <td id=\"T_73414_row1_col29\" class=\"data row1 col29\" >0.000</td>\n",
       "      <td id=\"T_73414_row1_col30\" class=\"data row1 col30\" >0.000</td>\n",
       "      <td id=\"T_73414_row1_col31\" class=\"data row1 col31\" >0.000</td>\n",
       "      <td id=\"T_73414_row1_col32\" class=\"data row1 col32\" >0.000</td>\n",
       "      <td id=\"T_73414_row1_col33\" class=\"data row1 col33\" >0.000</td>\n",
       "      <td id=\"T_73414_row1_col34\" class=\"data row1 col34\" >0.000</td>\n",
       "      <td id=\"T_73414_row1_col35\" class=\"data row1 col35\" >0.000</td>\n",
       "      <td id=\"T_73414_row1_col36\" class=\"data row1 col36\" >0.000</td>\n",
       "      <td id=\"T_73414_row1_col37\" class=\"data row1 col37\" >0.000</td>\n",
       "      <td id=\"T_73414_row1_col38\" class=\"data row1 col38\" >0.000</td>\n",
       "      <td id=\"T_73414_row1_col39\" class=\"data row1 col39\" >0.000</td>\n",
       "      <td id=\"T_73414_row1_col40\" class=\"data row1 col40\" >0.000</td>\n",
       "      <td id=\"T_73414_row1_col41\" class=\"data row1 col41\" >0.000</td>\n",
       "      <td id=\"T_73414_row1_col42\" class=\"data row1 col42\" >0.000</td>\n",
       "      <td id=\"T_73414_row1_col43\" class=\"data row1 col43\" >0.000</td>\n",
       "      <td id=\"T_73414_row1_col44\" class=\"data row1 col44\" >0.000</td>\n",
       "      <td id=\"T_73414_row1_col45\" class=\"data row1 col45\" >0.000</td>\n",
       "      <td id=\"T_73414_row1_col46\" class=\"data row1 col46\" >0.000</td>\n",
       "      <td id=\"T_73414_row1_col47\" class=\"data row1 col47\" >0.000</td>\n",
       "      <td id=\"T_73414_row1_col48\" class=\"data row1 col48\" >0.000</td>\n",
       "      <td id=\"T_73414_row1_col49\" class=\"data row1 col49\" >0.000</td>\n",
       "      <td id=\"T_73414_row1_col50\" class=\"data row1 col50\" >0.000</td>\n",
       "      <td id=\"T_73414_row1_col51\" class=\"data row1 col51\" >0.000</td>\n",
       "      <td id=\"T_73414_row1_col52\" class=\"data row1 col52\" >0.000</td>\n",
       "      <td id=\"T_73414_row1_col53\" class=\"data row1 col53\" >0.000</td>\n",
       "      <td id=\"T_73414_row1_col54\" class=\"data row1 col54\" >0.000</td>\n",
       "      <td id=\"T_73414_row1_col55\" class=\"data row1 col55\" >0.000</td>\n",
       "      <td id=\"T_73414_row1_col56\" class=\"data row1 col56\" >0.000</td>\n",
       "      <td id=\"T_73414_row1_col57\" class=\"data row1 col57\" >0.000</td>\n",
       "      <td id=\"T_73414_row1_col58\" class=\"data row1 col58\" >0.000</td>\n",
       "      <td id=\"T_73414_row1_col59\" class=\"data row1 col59\" >0.000</td>\n",
       "      <td id=\"T_73414_row1_col60\" class=\"data row1 col60\" >0.000</td>\n",
       "      <td id=\"T_73414_row1_col61\" class=\"data row1 col61\" >0.000</td>\n",
       "      <td id=\"T_73414_row1_col62\" class=\"data row1 col62\" >0.000</td>\n",
       "      <td id=\"T_73414_row1_col63\" class=\"data row1 col63\" >0.000</td>\n",
       "      <td id=\"T_73414_row1_col64\" class=\"data row1 col64\" >0.000</td>\n",
       "      <td id=\"T_73414_row1_col65\" class=\"data row1 col65\" >0.000</td>\n",
       "      <td id=\"T_73414_row1_col66\" class=\"data row1 col66\" >0.000</td>\n",
       "      <td id=\"T_73414_row1_col67\" class=\"data row1 col67\" >0.000</td>\n",
       "      <td id=\"T_73414_row1_col68\" class=\"data row1 col68\" >0.000</td>\n",
       "      <td id=\"T_73414_row1_col69\" class=\"data row1 col69\" >0.113</td>\n",
       "      <td id=\"T_73414_row1_col70\" class=\"data row1 col70\" >0.226</td>\n",
       "      <td id=\"T_73414_row1_col71\" class=\"data row1 col71\" >0.226</td>\n",
       "      <td id=\"T_73414_row1_col72\" class=\"data row1 col72\" >0.226</td>\n",
       "      <td id=\"T_73414_row1_col73\" class=\"data row1 col73\" >0.113</td>\n",
       "      <td id=\"T_73414_row1_col74\" class=\"data row1 col74\" >0.000</td>\n",
       "      <td id=\"T_73414_row1_col75\" class=\"data row1 col75\" >0.000</td>\n",
       "      <td id=\"T_73414_row1_col76\" class=\"data row1 col76\" >0.000</td>\n",
       "      <td id=\"T_73414_row1_col77\" class=\"data row1 col77\" >0.000</td>\n",
       "      <td id=\"T_73414_row1_col78\" class=\"data row1 col78\" >0.000</td>\n",
       "      <td id=\"T_73414_row1_col79\" class=\"data row1 col79\" >0.000</td>\n",
       "      <td id=\"T_73414_row1_col80\" class=\"data row1 col80\" >0.000</td>\n",
       "      <td id=\"T_73414_row1_col81\" class=\"data row1 col81\" >0.000</td>\n",
       "      <td id=\"T_73414_row1_col82\" class=\"data row1 col82\" >0.000</td>\n",
       "      <td id=\"T_73414_row1_col83\" class=\"data row1 col83\" >0.000</td>\n",
       "      <td id=\"T_73414_row1_col84\" class=\"data row1 col84\" >0.000</td>\n",
       "      <td id=\"T_73414_row1_col85\" class=\"data row1 col85\" >0.000</td>\n",
       "      <td id=\"T_73414_row1_col86\" class=\"data row1 col86\" >0.000</td>\n",
       "      <td id=\"T_73414_row1_col87\" class=\"data row1 col87\" >0.000</td>\n",
       "      <td id=\"T_73414_row1_col88\" class=\"data row1 col88\" >0.000</td>\n",
       "      <td id=\"T_73414_row1_col89\" class=\"data row1 col89\" >0.000</td>\n",
       "      <td id=\"T_73414_row1_col90\" class=\"data row1 col90\" >0.000</td>\n",
       "      <td id=\"T_73414_row1_col91\" class=\"data row1 col91\" >0.000</td>\n",
       "      <td id=\"T_73414_row1_col92\" class=\"data row1 col92\" >0.000</td>\n",
       "      <td id=\"T_73414_row1_col93\" class=\"data row1 col93\" >0.000</td>\n",
       "      <td id=\"T_73414_row1_col94\" class=\"data row1 col94\" >0.000</td>\n",
       "      <td id=\"T_73414_row1_col95\" class=\"data row1 col95\" >0.000</td>\n",
       "      <td id=\"T_73414_row1_col96\" class=\"data row1 col96\" >0.000</td>\n",
       "      <td id=\"T_73414_row1_col97\" class=\"data row1 col97\" >0.000</td>\n",
       "      <td id=\"T_73414_row1_col98\" class=\"data row1 col98\" >0.000</td>\n",
       "      <td id=\"T_73414_row1_col99\" class=\"data row1 col99\" >0.000</td>\n",
       "      <td id=\"T_73414_row1_col100\" class=\"data row1 col100\" >0.000</td>\n",
       "      <td id=\"T_73414_row1_col101\" class=\"data row1 col101\" >0.000</td>\n",
       "      <td id=\"T_73414_row1_col102\" class=\"data row1 col102\" >0.000</td>\n",
       "      <td id=\"T_73414_row1_col103\" class=\"data row1 col103\" >0.000</td>\n",
       "      <td id=\"T_73414_row1_col104\" class=\"data row1 col104\" >0.000</td>\n",
       "      <td id=\"T_73414_row1_col105\" class=\"data row1 col105\" >0.000</td>\n",
       "      <td id=\"T_73414_row1_col106\" class=\"data row1 col106\" >0.000</td>\n",
       "      <td id=\"T_73414_row1_col107\" class=\"data row1 col107\" >0.000</td>\n",
       "      <td id=\"T_73414_row1_col108\" class=\"data row1 col108\" >0.000</td>\n",
       "      <td id=\"T_73414_row1_col109\" class=\"data row1 col109\" >0.000</td>\n",
       "      <td id=\"T_73414_row1_col110\" class=\"data row1 col110\" >0.000</td>\n",
       "      <td id=\"T_73414_row1_col111\" class=\"data row1 col111\" >0.000</td>\n",
       "      <td id=\"T_73414_row1_col112\" class=\"data row1 col112\" >0.000</td>\n",
       "      <td id=\"T_73414_row1_col113\" class=\"data row1 col113\" >0.000</td>\n",
       "      <td id=\"T_73414_row1_col114\" class=\"data row1 col114\" >0.000</td>\n",
       "      <td id=\"T_73414_row1_col115\" class=\"data row1 col115\" >0.000</td>\n",
       "      <td id=\"T_73414_row1_col116\" class=\"data row1 col116\" >0.000</td>\n",
       "      <td id=\"T_73414_row1_col117\" class=\"data row1 col117\" >0.000</td>\n",
       "      <td id=\"T_73414_row1_col118\" class=\"data row1 col118\" >0.000</td>\n",
       "      <td id=\"T_73414_row1_col119\" class=\"data row1 col119\" >0.000</td>\n",
       "    </tr>\n",
       "    <tr>\n",
       "      <th id=\"T_73414_level0_row2\" class=\"row_heading level0 row2\" >66_emotion_emotion recognition_recognition_facial</th>\n",
       "      <td id=\"T_73414_row2_col0\" class=\"data row2 col0\" >0.000</td>\n",
       "      <td id=\"T_73414_row2_col1\" class=\"data row2 col1\" >0.000</td>\n",
       "      <td id=\"T_73414_row2_col2\" class=\"data row2 col2\" >0.000</td>\n",
       "      <td id=\"T_73414_row2_col3\" class=\"data row2 col3\" >0.000</td>\n",
       "      <td id=\"T_73414_row2_col4\" class=\"data row2 col4\" >0.000</td>\n",
       "      <td id=\"T_73414_row2_col5\" class=\"data row2 col5\" >0.000</td>\n",
       "      <td id=\"T_73414_row2_col6\" class=\"data row2 col6\" >0.000</td>\n",
       "      <td id=\"T_73414_row2_col7\" class=\"data row2 col7\" >0.000</td>\n",
       "      <td id=\"T_73414_row2_col8\" class=\"data row2 col8\" >0.000</td>\n",
       "      <td id=\"T_73414_row2_col9\" class=\"data row2 col9\" >0.000</td>\n",
       "      <td id=\"T_73414_row2_col10\" class=\"data row2 col10\" >0.000</td>\n",
       "      <td id=\"T_73414_row2_col11\" class=\"data row2 col11\" >0.112</td>\n",
       "      <td id=\"T_73414_row2_col12\" class=\"data row2 col12\" >0.112</td>\n",
       "      <td id=\"T_73414_row2_col13\" class=\"data row2 col13\" >0.112</td>\n",
       "      <td id=\"T_73414_row2_col14\" class=\"data row2 col14\" >0.112</td>\n",
       "      <td id=\"T_73414_row2_col15\" class=\"data row2 col15\" >0.000</td>\n",
       "      <td id=\"T_73414_row2_col16\" class=\"data row2 col16\" >0.000</td>\n",
       "      <td id=\"T_73414_row2_col17\" class=\"data row2 col17\" >0.000</td>\n",
       "      <td id=\"T_73414_row2_col18\" class=\"data row2 col18\" >0.000</td>\n",
       "      <td id=\"T_73414_row2_col19\" class=\"data row2 col19\" >0.000</td>\n",
       "      <td id=\"T_73414_row2_col20\" class=\"data row2 col20\" >0.000</td>\n",
       "      <td id=\"T_73414_row2_col21\" class=\"data row2 col21\" >0.000</td>\n",
       "      <td id=\"T_73414_row2_col22\" class=\"data row2 col22\" >0.000</td>\n",
       "      <td id=\"T_73414_row2_col23\" class=\"data row2 col23\" >0.000</td>\n",
       "      <td id=\"T_73414_row2_col24\" class=\"data row2 col24\" >0.000</td>\n",
       "      <td id=\"T_73414_row2_col25\" class=\"data row2 col25\" >0.000</td>\n",
       "      <td id=\"T_73414_row2_col26\" class=\"data row2 col26\" >0.000</td>\n",
       "      <td id=\"T_73414_row2_col27\" class=\"data row2 col27\" >0.000</td>\n",
       "      <td id=\"T_73414_row2_col28\" class=\"data row2 col28\" >0.000</td>\n",
       "      <td id=\"T_73414_row2_col29\" class=\"data row2 col29\" >0.000</td>\n",
       "      <td id=\"T_73414_row2_col30\" class=\"data row2 col30\" >0.000</td>\n",
       "      <td id=\"T_73414_row2_col31\" class=\"data row2 col31\" >0.000</td>\n",
       "      <td id=\"T_73414_row2_col32\" class=\"data row2 col32\" >0.000</td>\n",
       "      <td id=\"T_73414_row2_col33\" class=\"data row2 col33\" >0.000</td>\n",
       "      <td id=\"T_73414_row2_col34\" class=\"data row2 col34\" >0.000</td>\n",
       "      <td id=\"T_73414_row2_col35\" class=\"data row2 col35\" >0.000</td>\n",
       "      <td id=\"T_73414_row2_col36\" class=\"data row2 col36\" >0.000</td>\n",
       "      <td id=\"T_73414_row2_col37\" class=\"data row2 col37\" >0.000</td>\n",
       "      <td id=\"T_73414_row2_col38\" class=\"data row2 col38\" >0.000</td>\n",
       "      <td id=\"T_73414_row2_col39\" class=\"data row2 col39\" >0.000</td>\n",
       "      <td id=\"T_73414_row2_col40\" class=\"data row2 col40\" >0.000</td>\n",
       "      <td id=\"T_73414_row2_col41\" class=\"data row2 col41\" >0.000</td>\n",
       "      <td id=\"T_73414_row2_col42\" class=\"data row2 col42\" >0.000</td>\n",
       "      <td id=\"T_73414_row2_col43\" class=\"data row2 col43\" >0.000</td>\n",
       "      <td id=\"T_73414_row2_col44\" class=\"data row2 col44\" >0.000</td>\n",
       "      <td id=\"T_73414_row2_col45\" class=\"data row2 col45\" >0.000</td>\n",
       "      <td id=\"T_73414_row2_col46\" class=\"data row2 col46\" >0.000</td>\n",
       "      <td id=\"T_73414_row2_col47\" class=\"data row2 col47\" >0.000</td>\n",
       "      <td id=\"T_73414_row2_col48\" class=\"data row2 col48\" >0.000</td>\n",
       "      <td id=\"T_73414_row2_col49\" class=\"data row2 col49\" >0.000</td>\n",
       "      <td id=\"T_73414_row2_col50\" class=\"data row2 col50\" >0.000</td>\n",
       "      <td id=\"T_73414_row2_col51\" class=\"data row2 col51\" >0.000</td>\n",
       "      <td id=\"T_73414_row2_col52\" class=\"data row2 col52\" >0.000</td>\n",
       "      <td id=\"T_73414_row2_col53\" class=\"data row2 col53\" >0.000</td>\n",
       "      <td id=\"T_73414_row2_col54\" class=\"data row2 col54\" >0.000</td>\n",
       "      <td id=\"T_73414_row2_col55\" class=\"data row2 col55\" >0.000</td>\n",
       "      <td id=\"T_73414_row2_col56\" class=\"data row2 col56\" >0.000</td>\n",
       "      <td id=\"T_73414_row2_col57\" class=\"data row2 col57\" >0.000</td>\n",
       "      <td id=\"T_73414_row2_col58\" class=\"data row2 col58\" >0.000</td>\n",
       "      <td id=\"T_73414_row2_col59\" class=\"data row2 col59\" >0.000</td>\n",
       "      <td id=\"T_73414_row2_col60\" class=\"data row2 col60\" >0.000</td>\n",
       "      <td id=\"T_73414_row2_col61\" class=\"data row2 col61\" >0.000</td>\n",
       "      <td id=\"T_73414_row2_col62\" class=\"data row2 col62\" >0.000</td>\n",
       "      <td id=\"T_73414_row2_col63\" class=\"data row2 col63\" >0.000</td>\n",
       "      <td id=\"T_73414_row2_col64\" class=\"data row2 col64\" >0.000</td>\n",
       "      <td id=\"T_73414_row2_col65\" class=\"data row2 col65\" >0.000</td>\n",
       "      <td id=\"T_73414_row2_col66\" class=\"data row2 col66\" >0.000</td>\n",
       "      <td id=\"T_73414_row2_col67\" class=\"data row2 col67\" >0.000</td>\n",
       "      <td id=\"T_73414_row2_col68\" class=\"data row2 col68\" >0.000</td>\n",
       "      <td id=\"T_73414_row2_col69\" class=\"data row2 col69\" >0.000</td>\n",
       "      <td id=\"T_73414_row2_col70\" class=\"data row2 col70\" >0.000</td>\n",
       "      <td id=\"T_73414_row2_col71\" class=\"data row2 col71\" >0.000</td>\n",
       "      <td id=\"T_73414_row2_col72\" class=\"data row2 col72\" >0.000</td>\n",
       "      <td id=\"T_73414_row2_col73\" class=\"data row2 col73\" >0.000</td>\n",
       "      <td id=\"T_73414_row2_col74\" class=\"data row2 col74\" >0.000</td>\n",
       "      <td id=\"T_73414_row2_col75\" class=\"data row2 col75\" >0.000</td>\n",
       "      <td id=\"T_73414_row2_col76\" class=\"data row2 col76\" >0.000</td>\n",
       "      <td id=\"T_73414_row2_col77\" class=\"data row2 col77\" >0.000</td>\n",
       "      <td id=\"T_73414_row2_col78\" class=\"data row2 col78\" >0.000</td>\n",
       "      <td id=\"T_73414_row2_col79\" class=\"data row2 col79\" >0.000</td>\n",
       "      <td id=\"T_73414_row2_col80\" class=\"data row2 col80\" >0.000</td>\n",
       "      <td id=\"T_73414_row2_col81\" class=\"data row2 col81\" >0.000</td>\n",
       "      <td id=\"T_73414_row2_col82\" class=\"data row2 col82\" >0.000</td>\n",
       "      <td id=\"T_73414_row2_col83\" class=\"data row2 col83\" >0.000</td>\n",
       "      <td id=\"T_73414_row2_col84\" class=\"data row2 col84\" >0.000</td>\n",
       "      <td id=\"T_73414_row2_col85\" class=\"data row2 col85\" >0.000</td>\n",
       "      <td id=\"T_73414_row2_col86\" class=\"data row2 col86\" >0.000</td>\n",
       "      <td id=\"T_73414_row2_col87\" class=\"data row2 col87\" >0.000</td>\n",
       "      <td id=\"T_73414_row2_col88\" class=\"data row2 col88\" >0.000</td>\n",
       "      <td id=\"T_73414_row2_col89\" class=\"data row2 col89\" >0.000</td>\n",
       "      <td id=\"T_73414_row2_col90\" class=\"data row2 col90\" >0.000</td>\n",
       "      <td id=\"T_73414_row2_col91\" class=\"data row2 col91\" >0.000</td>\n",
       "      <td id=\"T_73414_row2_col92\" class=\"data row2 col92\" >0.000</td>\n",
       "      <td id=\"T_73414_row2_col93\" class=\"data row2 col93\" >0.000</td>\n",
       "      <td id=\"T_73414_row2_col94\" class=\"data row2 col94\" >0.000</td>\n",
       "      <td id=\"T_73414_row2_col95\" class=\"data row2 col95\" >0.000</td>\n",
       "      <td id=\"T_73414_row2_col96\" class=\"data row2 col96\" >0.000</td>\n",
       "      <td id=\"T_73414_row2_col97\" class=\"data row2 col97\" >0.000</td>\n",
       "      <td id=\"T_73414_row2_col98\" class=\"data row2 col98\" >0.000</td>\n",
       "      <td id=\"T_73414_row2_col99\" class=\"data row2 col99\" >0.000</td>\n",
       "      <td id=\"T_73414_row2_col100\" class=\"data row2 col100\" >0.000</td>\n",
       "      <td id=\"T_73414_row2_col101\" class=\"data row2 col101\" >0.000</td>\n",
       "      <td id=\"T_73414_row2_col102\" class=\"data row2 col102\" >0.000</td>\n",
       "      <td id=\"T_73414_row2_col103\" class=\"data row2 col103\" >0.000</td>\n",
       "      <td id=\"T_73414_row2_col104\" class=\"data row2 col104\" >0.000</td>\n",
       "      <td id=\"T_73414_row2_col105\" class=\"data row2 col105\" >0.000</td>\n",
       "      <td id=\"T_73414_row2_col106\" class=\"data row2 col106\" >0.000</td>\n",
       "      <td id=\"T_73414_row2_col107\" class=\"data row2 col107\" >0.000</td>\n",
       "      <td id=\"T_73414_row2_col108\" class=\"data row2 col108\" >0.000</td>\n",
       "      <td id=\"T_73414_row2_col109\" class=\"data row2 col109\" >0.000</td>\n",
       "      <td id=\"T_73414_row2_col110\" class=\"data row2 col110\" >0.000</td>\n",
       "      <td id=\"T_73414_row2_col111\" class=\"data row2 col111\" >0.000</td>\n",
       "      <td id=\"T_73414_row2_col112\" class=\"data row2 col112\" >0.000</td>\n",
       "      <td id=\"T_73414_row2_col113\" class=\"data row2 col113\" >0.000</td>\n",
       "      <td id=\"T_73414_row2_col114\" class=\"data row2 col114\" >0.000</td>\n",
       "      <td id=\"T_73414_row2_col115\" class=\"data row2 col115\" >0.000</td>\n",
       "      <td id=\"T_73414_row2_col116\" class=\"data row2 col116\" >0.000</td>\n",
       "      <td id=\"T_73414_row2_col117\" class=\"data row2 col117\" >0.000</td>\n",
       "      <td id=\"T_73414_row2_col118\" class=\"data row2 col118\" >0.000</td>\n",
       "      <td id=\"T_73414_row2_col119\" class=\"data row2 col119\" >0.000</td>\n",
       "    </tr>\n",
       "    <tr>\n",
       "      <th id=\"T_73414_level0_row3\" class=\"row_heading level0 row3\" >95_svm_support vector_support_vector</th>\n",
       "      <td id=\"T_73414_row3_col0\" class=\"data row3 col0\" >0.000</td>\n",
       "      <td id=\"T_73414_row3_col1\" class=\"data row3 col1\" >0.000</td>\n",
       "      <td id=\"T_73414_row3_col2\" class=\"data row3 col2\" >0.000</td>\n",
       "      <td id=\"T_73414_row3_col3\" class=\"data row3 col3\" >0.000</td>\n",
       "      <td id=\"T_73414_row3_col4\" class=\"data row3 col4\" >0.000</td>\n",
       "      <td id=\"T_73414_row3_col5\" class=\"data row3 col5\" >0.000</td>\n",
       "      <td id=\"T_73414_row3_col6\" class=\"data row3 col6\" >0.000</td>\n",
       "      <td id=\"T_73414_row3_col7\" class=\"data row3 col7\" >0.000</td>\n",
       "      <td id=\"T_73414_row3_col8\" class=\"data row3 col8\" >0.000</td>\n",
       "      <td id=\"T_73414_row3_col9\" class=\"data row3 col9\" >0.000</td>\n",
       "      <td id=\"T_73414_row3_col10\" class=\"data row3 col10\" >0.000</td>\n",
       "      <td id=\"T_73414_row3_col11\" class=\"data row3 col11\" >0.000</td>\n",
       "      <td id=\"T_73414_row3_col12\" class=\"data row3 col12\" >0.000</td>\n",
       "      <td id=\"T_73414_row3_col13\" class=\"data row3 col13\" >0.000</td>\n",
       "      <td id=\"T_73414_row3_col14\" class=\"data row3 col14\" >0.000</td>\n",
       "      <td id=\"T_73414_row3_col15\" class=\"data row3 col15\" >0.000</td>\n",
       "      <td id=\"T_73414_row3_col16\" class=\"data row3 col16\" >0.000</td>\n",
       "      <td id=\"T_73414_row3_col17\" class=\"data row3 col17\" >0.000</td>\n",
       "      <td id=\"T_73414_row3_col18\" class=\"data row3 col18\" >0.000</td>\n",
       "      <td id=\"T_73414_row3_col19\" class=\"data row3 col19\" >0.000</td>\n",
       "      <td id=\"T_73414_row3_col20\" class=\"data row3 col20\" >0.000</td>\n",
       "      <td id=\"T_73414_row3_col21\" class=\"data row3 col21\" >0.000</td>\n",
       "      <td id=\"T_73414_row3_col22\" class=\"data row3 col22\" >0.000</td>\n",
       "      <td id=\"T_73414_row3_col23\" class=\"data row3 col23\" >0.000</td>\n",
       "      <td id=\"T_73414_row3_col24\" class=\"data row3 col24\" >0.000</td>\n",
       "      <td id=\"T_73414_row3_col25\" class=\"data row3 col25\" >0.000</td>\n",
       "      <td id=\"T_73414_row3_col26\" class=\"data row3 col26\" >0.000</td>\n",
       "      <td id=\"T_73414_row3_col27\" class=\"data row3 col27\" >0.000</td>\n",
       "      <td id=\"T_73414_row3_col28\" class=\"data row3 col28\" >0.000</td>\n",
       "      <td id=\"T_73414_row3_col29\" class=\"data row3 col29\" >0.000</td>\n",
       "      <td id=\"T_73414_row3_col30\" class=\"data row3 col30\" >0.000</td>\n",
       "      <td id=\"T_73414_row3_col31\" class=\"data row3 col31\" >0.000</td>\n",
       "      <td id=\"T_73414_row3_col32\" class=\"data row3 col32\" >0.000</td>\n",
       "      <td id=\"T_73414_row3_col33\" class=\"data row3 col33\" >0.000</td>\n",
       "      <td id=\"T_73414_row3_col34\" class=\"data row3 col34\" >0.000</td>\n",
       "      <td id=\"T_73414_row3_col35\" class=\"data row3 col35\" >0.000</td>\n",
       "      <td id=\"T_73414_row3_col36\" class=\"data row3 col36\" >0.000</td>\n",
       "      <td id=\"T_73414_row3_col37\" class=\"data row3 col37\" >0.000</td>\n",
       "      <td id=\"T_73414_row3_col38\" class=\"data row3 col38\" >0.000</td>\n",
       "      <td id=\"T_73414_row3_col39\" class=\"data row3 col39\" >0.000</td>\n",
       "      <td id=\"T_73414_row3_col40\" class=\"data row3 col40\" >0.000</td>\n",
       "      <td id=\"T_73414_row3_col41\" class=\"data row3 col41\" >0.000</td>\n",
       "      <td id=\"T_73414_row3_col42\" class=\"data row3 col42\" >0.000</td>\n",
       "      <td id=\"T_73414_row3_col43\" class=\"data row3 col43\" >0.000</td>\n",
       "      <td id=\"T_73414_row3_col44\" class=\"data row3 col44\" >0.000</td>\n",
       "      <td id=\"T_73414_row3_col45\" class=\"data row3 col45\" >0.000</td>\n",
       "      <td id=\"T_73414_row3_col46\" class=\"data row3 col46\" >0.000</td>\n",
       "      <td id=\"T_73414_row3_col47\" class=\"data row3 col47\" >0.000</td>\n",
       "      <td id=\"T_73414_row3_col48\" class=\"data row3 col48\" >0.000</td>\n",
       "      <td id=\"T_73414_row3_col49\" class=\"data row3 col49\" >0.000</td>\n",
       "      <td id=\"T_73414_row3_col50\" class=\"data row3 col50\" >0.000</td>\n",
       "      <td id=\"T_73414_row3_col51\" class=\"data row3 col51\" >0.000</td>\n",
       "      <td id=\"T_73414_row3_col52\" class=\"data row3 col52\" >0.000</td>\n",
       "      <td id=\"T_73414_row3_col53\" class=\"data row3 col53\" >0.000</td>\n",
       "      <td id=\"T_73414_row3_col54\" class=\"data row3 col54\" >0.000</td>\n",
       "      <td id=\"T_73414_row3_col55\" class=\"data row3 col55\" >0.000</td>\n",
       "      <td id=\"T_73414_row3_col56\" class=\"data row3 col56\" >0.000</td>\n",
       "      <td id=\"T_73414_row3_col57\" class=\"data row3 col57\" >0.000</td>\n",
       "      <td id=\"T_73414_row3_col58\" class=\"data row3 col58\" >0.000</td>\n",
       "      <td id=\"T_73414_row3_col59\" class=\"data row3 col59\" >0.000</td>\n",
       "      <td id=\"T_73414_row3_col60\" class=\"data row3 col60\" >0.000</td>\n",
       "      <td id=\"T_73414_row3_col61\" class=\"data row3 col61\" >0.000</td>\n",
       "      <td id=\"T_73414_row3_col62\" class=\"data row3 col62\" >0.000</td>\n",
       "      <td id=\"T_73414_row3_col63\" class=\"data row3 col63\" >0.000</td>\n",
       "      <td id=\"T_73414_row3_col64\" class=\"data row3 col64\" >0.236</td>\n",
       "      <td id=\"T_73414_row3_col65\" class=\"data row3 col65\" >0.567</td>\n",
       "      <td id=\"T_73414_row3_col66\" class=\"data row3 col66\" >0.989</td>\n",
       "      <td id=\"T_73414_row3_col67\" class=\"data row3 col67\" >1.142</td>\n",
       "      <td id=\"T_73414_row3_col68\" class=\"data row3 col68\" >0.906</td>\n",
       "      <td id=\"T_73414_row3_col69\" class=\"data row3 col69\" >0.575</td>\n",
       "      <td id=\"T_73414_row3_col70\" class=\"data row3 col70\" >0.153</td>\n",
       "      <td id=\"T_73414_row3_col71\" class=\"data row3 col71\" >0.000</td>\n",
       "      <td id=\"T_73414_row3_col72\" class=\"data row3 col72\" >0.000</td>\n",
       "      <td id=\"T_73414_row3_col73\" class=\"data row3 col73\" >0.000</td>\n",
       "      <td id=\"T_73414_row3_col74\" class=\"data row3 col74\" >0.000</td>\n",
       "      <td id=\"T_73414_row3_col75\" class=\"data row3 col75\" >0.000</td>\n",
       "      <td id=\"T_73414_row3_col76\" class=\"data row3 col76\" >0.000</td>\n",
       "      <td id=\"T_73414_row3_col77\" class=\"data row3 col77\" >0.000</td>\n",
       "      <td id=\"T_73414_row3_col78\" class=\"data row3 col78\" >0.000</td>\n",
       "      <td id=\"T_73414_row3_col79\" class=\"data row3 col79\" >0.000</td>\n",
       "      <td id=\"T_73414_row3_col80\" class=\"data row3 col80\" >0.000</td>\n",
       "      <td id=\"T_73414_row3_col81\" class=\"data row3 col81\" >0.000</td>\n",
       "      <td id=\"T_73414_row3_col82\" class=\"data row3 col82\" >0.000</td>\n",
       "      <td id=\"T_73414_row3_col83\" class=\"data row3 col83\" >0.000</td>\n",
       "      <td id=\"T_73414_row3_col84\" class=\"data row3 col84\" >0.000</td>\n",
       "      <td id=\"T_73414_row3_col85\" class=\"data row3 col85\" >0.000</td>\n",
       "      <td id=\"T_73414_row3_col86\" class=\"data row3 col86\" >0.000</td>\n",
       "      <td id=\"T_73414_row3_col87\" class=\"data row3 col87\" >0.000</td>\n",
       "      <td id=\"T_73414_row3_col88\" class=\"data row3 col88\" >0.000</td>\n",
       "      <td id=\"T_73414_row3_col89\" class=\"data row3 col89\" >0.000</td>\n",
       "      <td id=\"T_73414_row3_col90\" class=\"data row3 col90\" >0.000</td>\n",
       "      <td id=\"T_73414_row3_col91\" class=\"data row3 col91\" >0.000</td>\n",
       "      <td id=\"T_73414_row3_col92\" class=\"data row3 col92\" >0.000</td>\n",
       "      <td id=\"T_73414_row3_col93\" class=\"data row3 col93\" >0.000</td>\n",
       "      <td id=\"T_73414_row3_col94\" class=\"data row3 col94\" >0.000</td>\n",
       "      <td id=\"T_73414_row3_col95\" class=\"data row3 col95\" >0.000</td>\n",
       "      <td id=\"T_73414_row3_col96\" class=\"data row3 col96\" >0.000</td>\n",
       "      <td id=\"T_73414_row3_col97\" class=\"data row3 col97\" >0.000</td>\n",
       "      <td id=\"T_73414_row3_col98\" class=\"data row3 col98\" >0.000</td>\n",
       "      <td id=\"T_73414_row3_col99\" class=\"data row3 col99\" >0.000</td>\n",
       "      <td id=\"T_73414_row3_col100\" class=\"data row3 col100\" >0.000</td>\n",
       "      <td id=\"T_73414_row3_col101\" class=\"data row3 col101\" >0.000</td>\n",
       "      <td id=\"T_73414_row3_col102\" class=\"data row3 col102\" >0.000</td>\n",
       "      <td id=\"T_73414_row3_col103\" class=\"data row3 col103\" >0.000</td>\n",
       "      <td id=\"T_73414_row3_col104\" class=\"data row3 col104\" >0.000</td>\n",
       "      <td id=\"T_73414_row3_col105\" class=\"data row3 col105\" >0.000</td>\n",
       "      <td id=\"T_73414_row3_col106\" class=\"data row3 col106\" >0.000</td>\n",
       "      <td id=\"T_73414_row3_col107\" class=\"data row3 col107\" >0.000</td>\n",
       "      <td id=\"T_73414_row3_col108\" class=\"data row3 col108\" >0.000</td>\n",
       "      <td id=\"T_73414_row3_col109\" class=\"data row3 col109\" >0.000</td>\n",
       "      <td id=\"T_73414_row3_col110\" class=\"data row3 col110\" >0.000</td>\n",
       "      <td id=\"T_73414_row3_col111\" class=\"data row3 col111\" >0.000</td>\n",
       "      <td id=\"T_73414_row3_col112\" class=\"data row3 col112\" >0.000</td>\n",
       "      <td id=\"T_73414_row3_col113\" class=\"data row3 col113\" >0.000</td>\n",
       "      <td id=\"T_73414_row3_col114\" class=\"data row3 col114\" >0.000</td>\n",
       "      <td id=\"T_73414_row3_col115\" class=\"data row3 col115\" >0.000</td>\n",
       "      <td id=\"T_73414_row3_col116\" class=\"data row3 col116\" >0.000</td>\n",
       "      <td id=\"T_73414_row3_col117\" class=\"data row3 col117\" >0.000</td>\n",
       "      <td id=\"T_73414_row3_col118\" class=\"data row3 col118\" >0.000</td>\n",
       "      <td id=\"T_73414_row3_col119\" class=\"data row3 col119\" >0.000</td>\n",
       "    </tr>\n",
       "    <tr>\n",
       "      <th id=\"T_73414_level0_row4\" class=\"row_heading level0 row4\" >100_handwritten_text_character_characters</th>\n",
       "      <td id=\"T_73414_row4_col0\" class=\"data row4 col0\" >0.000</td>\n",
       "      <td id=\"T_73414_row4_col1\" class=\"data row4 col1\" >0.000</td>\n",
       "      <td id=\"T_73414_row4_col2\" class=\"data row4 col2\" >0.000</td>\n",
       "      <td id=\"T_73414_row4_col3\" class=\"data row4 col3\" >0.000</td>\n",
       "      <td id=\"T_73414_row4_col4\" class=\"data row4 col4\" >0.000</td>\n",
       "      <td id=\"T_73414_row4_col5\" class=\"data row4 col5\" >0.000</td>\n",
       "      <td id=\"T_73414_row4_col6\" class=\"data row4 col6\" >0.000</td>\n",
       "      <td id=\"T_73414_row4_col7\" class=\"data row4 col7\" >0.000</td>\n",
       "      <td id=\"T_73414_row4_col8\" class=\"data row4 col8\" >0.000</td>\n",
       "      <td id=\"T_73414_row4_col9\" class=\"data row4 col9\" >0.000</td>\n",
       "      <td id=\"T_73414_row4_col10\" class=\"data row4 col10\" >0.000</td>\n",
       "      <td id=\"T_73414_row4_col11\" class=\"data row4 col11\" >0.114</td>\n",
       "      <td id=\"T_73414_row4_col12\" class=\"data row4 col12\" >0.114</td>\n",
       "      <td id=\"T_73414_row4_col13\" class=\"data row4 col13\" >0.114</td>\n",
       "      <td id=\"T_73414_row4_col14\" class=\"data row4 col14\" >0.114</td>\n",
       "      <td id=\"T_73414_row4_col15\" class=\"data row4 col15\" >0.000</td>\n",
       "      <td id=\"T_73414_row4_col16\" class=\"data row4 col16\" >0.000</td>\n",
       "      <td id=\"T_73414_row4_col17\" class=\"data row4 col17\" >0.000</td>\n",
       "      <td id=\"T_73414_row4_col18\" class=\"data row4 col18\" >0.000</td>\n",
       "      <td id=\"T_73414_row4_col19\" class=\"data row4 col19\" >0.000</td>\n",
       "      <td id=\"T_73414_row4_col20\" class=\"data row4 col20\" >0.000</td>\n",
       "      <td id=\"T_73414_row4_col21\" class=\"data row4 col21\" >0.000</td>\n",
       "      <td id=\"T_73414_row4_col22\" class=\"data row4 col22\" >0.000</td>\n",
       "      <td id=\"T_73414_row4_col23\" class=\"data row4 col23\" >0.000</td>\n",
       "      <td id=\"T_73414_row4_col24\" class=\"data row4 col24\" >0.000</td>\n",
       "      <td id=\"T_73414_row4_col25\" class=\"data row4 col25\" >0.000</td>\n",
       "      <td id=\"T_73414_row4_col26\" class=\"data row4 col26\" >0.000</td>\n",
       "      <td id=\"T_73414_row4_col27\" class=\"data row4 col27\" >0.000</td>\n",
       "      <td id=\"T_73414_row4_col28\" class=\"data row4 col28\" >0.000</td>\n",
       "      <td id=\"T_73414_row4_col29\" class=\"data row4 col29\" >0.000</td>\n",
       "      <td id=\"T_73414_row4_col30\" class=\"data row4 col30\" >0.000</td>\n",
       "      <td id=\"T_73414_row4_col31\" class=\"data row4 col31\" >0.000</td>\n",
       "      <td id=\"T_73414_row4_col32\" class=\"data row4 col32\" >0.000</td>\n",
       "      <td id=\"T_73414_row4_col33\" class=\"data row4 col33\" >0.000</td>\n",
       "      <td id=\"T_73414_row4_col34\" class=\"data row4 col34\" >0.000</td>\n",
       "      <td id=\"T_73414_row4_col35\" class=\"data row4 col35\" >0.000</td>\n",
       "      <td id=\"T_73414_row4_col36\" class=\"data row4 col36\" >0.000</td>\n",
       "      <td id=\"T_73414_row4_col37\" class=\"data row4 col37\" >0.000</td>\n",
       "      <td id=\"T_73414_row4_col38\" class=\"data row4 col38\" >0.000</td>\n",
       "      <td id=\"T_73414_row4_col39\" class=\"data row4 col39\" >0.000</td>\n",
       "      <td id=\"T_73414_row4_col40\" class=\"data row4 col40\" >0.000</td>\n",
       "      <td id=\"T_73414_row4_col41\" class=\"data row4 col41\" >0.000</td>\n",
       "      <td id=\"T_73414_row4_col42\" class=\"data row4 col42\" >0.000</td>\n",
       "      <td id=\"T_73414_row4_col43\" class=\"data row4 col43\" >0.000</td>\n",
       "      <td id=\"T_73414_row4_col44\" class=\"data row4 col44\" >0.000</td>\n",
       "      <td id=\"T_73414_row4_col45\" class=\"data row4 col45\" >0.000</td>\n",
       "      <td id=\"T_73414_row4_col46\" class=\"data row4 col46\" >0.000</td>\n",
       "      <td id=\"T_73414_row4_col47\" class=\"data row4 col47\" >0.000</td>\n",
       "      <td id=\"T_73414_row4_col48\" class=\"data row4 col48\" >0.000</td>\n",
       "      <td id=\"T_73414_row4_col49\" class=\"data row4 col49\" >0.000</td>\n",
       "      <td id=\"T_73414_row4_col50\" class=\"data row4 col50\" >0.000</td>\n",
       "      <td id=\"T_73414_row4_col51\" class=\"data row4 col51\" >0.000</td>\n",
       "      <td id=\"T_73414_row4_col52\" class=\"data row4 col52\" >0.000</td>\n",
       "      <td id=\"T_73414_row4_col53\" class=\"data row4 col53\" >0.000</td>\n",
       "      <td id=\"T_73414_row4_col54\" class=\"data row4 col54\" >0.000</td>\n",
       "      <td id=\"T_73414_row4_col55\" class=\"data row4 col55\" >0.000</td>\n",
       "      <td id=\"T_73414_row4_col56\" class=\"data row4 col56\" >0.000</td>\n",
       "      <td id=\"T_73414_row4_col57\" class=\"data row4 col57\" >0.000</td>\n",
       "      <td id=\"T_73414_row4_col58\" class=\"data row4 col58\" >0.000</td>\n",
       "      <td id=\"T_73414_row4_col59\" class=\"data row4 col59\" >0.000</td>\n",
       "      <td id=\"T_73414_row4_col60\" class=\"data row4 col60\" >0.000</td>\n",
       "      <td id=\"T_73414_row4_col61\" class=\"data row4 col61\" >0.000</td>\n",
       "      <td id=\"T_73414_row4_col62\" class=\"data row4 col62\" >0.000</td>\n",
       "      <td id=\"T_73414_row4_col63\" class=\"data row4 col63\" >0.000</td>\n",
       "      <td id=\"T_73414_row4_col64\" class=\"data row4 col64\" >0.000</td>\n",
       "      <td id=\"T_73414_row4_col65\" class=\"data row4 col65\" >0.000</td>\n",
       "      <td id=\"T_73414_row4_col66\" class=\"data row4 col66\" >0.000</td>\n",
       "      <td id=\"T_73414_row4_col67\" class=\"data row4 col67\" >0.000</td>\n",
       "      <td id=\"T_73414_row4_col68\" class=\"data row4 col68\" >0.000</td>\n",
       "      <td id=\"T_73414_row4_col69\" class=\"data row4 col69\" >0.000</td>\n",
       "      <td id=\"T_73414_row4_col70\" class=\"data row4 col70\" >0.000</td>\n",
       "      <td id=\"T_73414_row4_col71\" class=\"data row4 col71\" >0.000</td>\n",
       "      <td id=\"T_73414_row4_col72\" class=\"data row4 col72\" >0.000</td>\n",
       "      <td id=\"T_73414_row4_col73\" class=\"data row4 col73\" >0.000</td>\n",
       "      <td id=\"T_73414_row4_col74\" class=\"data row4 col74\" >0.000</td>\n",
       "      <td id=\"T_73414_row4_col75\" class=\"data row4 col75\" >0.000</td>\n",
       "      <td id=\"T_73414_row4_col76\" class=\"data row4 col76\" >0.000</td>\n",
       "      <td id=\"T_73414_row4_col77\" class=\"data row4 col77\" >0.000</td>\n",
       "      <td id=\"T_73414_row4_col78\" class=\"data row4 col78\" >0.000</td>\n",
       "      <td id=\"T_73414_row4_col79\" class=\"data row4 col79\" >0.000</td>\n",
       "      <td id=\"T_73414_row4_col80\" class=\"data row4 col80\" >0.000</td>\n",
       "      <td id=\"T_73414_row4_col81\" class=\"data row4 col81\" >0.000</td>\n",
       "      <td id=\"T_73414_row4_col82\" class=\"data row4 col82\" >0.000</td>\n",
       "      <td id=\"T_73414_row4_col83\" class=\"data row4 col83\" >0.000</td>\n",
       "      <td id=\"T_73414_row4_col84\" class=\"data row4 col84\" >0.000</td>\n",
       "      <td id=\"T_73414_row4_col85\" class=\"data row4 col85\" >0.000</td>\n",
       "      <td id=\"T_73414_row4_col86\" class=\"data row4 col86\" >0.000</td>\n",
       "      <td id=\"T_73414_row4_col87\" class=\"data row4 col87\" >0.000</td>\n",
       "      <td id=\"T_73414_row4_col88\" class=\"data row4 col88\" >0.000</td>\n",
       "      <td id=\"T_73414_row4_col89\" class=\"data row4 col89\" >0.000</td>\n",
       "      <td id=\"T_73414_row4_col90\" class=\"data row4 col90\" >0.000</td>\n",
       "      <td id=\"T_73414_row4_col91\" class=\"data row4 col91\" >0.000</td>\n",
       "      <td id=\"T_73414_row4_col92\" class=\"data row4 col92\" >0.000</td>\n",
       "      <td id=\"T_73414_row4_col93\" class=\"data row4 col93\" >0.000</td>\n",
       "      <td id=\"T_73414_row4_col94\" class=\"data row4 col94\" >0.000</td>\n",
       "      <td id=\"T_73414_row4_col95\" class=\"data row4 col95\" >0.000</td>\n",
       "      <td id=\"T_73414_row4_col96\" class=\"data row4 col96\" >0.000</td>\n",
       "      <td id=\"T_73414_row4_col97\" class=\"data row4 col97\" >0.000</td>\n",
       "      <td id=\"T_73414_row4_col98\" class=\"data row4 col98\" >0.000</td>\n",
       "      <td id=\"T_73414_row4_col99\" class=\"data row4 col99\" >0.000</td>\n",
       "      <td id=\"T_73414_row4_col100\" class=\"data row4 col100\" >0.000</td>\n",
       "      <td id=\"T_73414_row4_col101\" class=\"data row4 col101\" >0.000</td>\n",
       "      <td id=\"T_73414_row4_col102\" class=\"data row4 col102\" >0.000</td>\n",
       "      <td id=\"T_73414_row4_col103\" class=\"data row4 col103\" >0.000</td>\n",
       "      <td id=\"T_73414_row4_col104\" class=\"data row4 col104\" >0.000</td>\n",
       "      <td id=\"T_73414_row4_col105\" class=\"data row4 col105\" >0.000</td>\n",
       "      <td id=\"T_73414_row4_col106\" class=\"data row4 col106\" >0.000</td>\n",
       "      <td id=\"T_73414_row4_col107\" class=\"data row4 col107\" >0.000</td>\n",
       "      <td id=\"T_73414_row4_col108\" class=\"data row4 col108\" >0.000</td>\n",
       "      <td id=\"T_73414_row4_col109\" class=\"data row4 col109\" >0.000</td>\n",
       "      <td id=\"T_73414_row4_col110\" class=\"data row4 col110\" >0.000</td>\n",
       "      <td id=\"T_73414_row4_col111\" class=\"data row4 col111\" >0.000</td>\n",
       "      <td id=\"T_73414_row4_col112\" class=\"data row4 col112\" >0.000</td>\n",
       "      <td id=\"T_73414_row4_col113\" class=\"data row4 col113\" >0.000</td>\n",
       "      <td id=\"T_73414_row4_col114\" class=\"data row4 col114\" >0.000</td>\n",
       "      <td id=\"T_73414_row4_col115\" class=\"data row4 col115\" >0.000</td>\n",
       "      <td id=\"T_73414_row4_col116\" class=\"data row4 col116\" >0.000</td>\n",
       "      <td id=\"T_73414_row4_col117\" class=\"data row4 col117\" >0.000</td>\n",
       "      <td id=\"T_73414_row4_col118\" class=\"data row4 col118\" >0.000</td>\n",
       "      <td id=\"T_73414_row4_col119\" class=\"data row4 col119\" >0.000</td>\n",
       "    </tr>\n",
       "    <tr>\n",
       "      <th id=\"T_73414_level0_row5\" class=\"row_heading level0 row5\" >102_mixture_em_mixtures_gaussian</th>\n",
       "      <td id=\"T_73414_row5_col0\" class=\"data row5 col0\" >0.000</td>\n",
       "      <td id=\"T_73414_row5_col1\" class=\"data row5 col1\" >0.000</td>\n",
       "      <td id=\"T_73414_row5_col2\" class=\"data row5 col2\" >0.000</td>\n",
       "      <td id=\"T_73414_row5_col3\" class=\"data row5 col3\" >0.000</td>\n",
       "      <td id=\"T_73414_row5_col4\" class=\"data row5 col4\" >0.000</td>\n",
       "      <td id=\"T_73414_row5_col5\" class=\"data row5 col5\" >0.000</td>\n",
       "      <td id=\"T_73414_row5_col6\" class=\"data row5 col6\" >0.000</td>\n",
       "      <td id=\"T_73414_row5_col7\" class=\"data row5 col7\" >0.000</td>\n",
       "      <td id=\"T_73414_row5_col8\" class=\"data row5 col8\" >0.000</td>\n",
       "      <td id=\"T_73414_row5_col9\" class=\"data row5 col9\" >0.000</td>\n",
       "      <td id=\"T_73414_row5_col10\" class=\"data row5 col10\" >0.000</td>\n",
       "      <td id=\"T_73414_row5_col11\" class=\"data row5 col11\" >0.000</td>\n",
       "      <td id=\"T_73414_row5_col12\" class=\"data row5 col12\" >0.000</td>\n",
       "      <td id=\"T_73414_row5_col13\" class=\"data row5 col13\" >0.000</td>\n",
       "      <td id=\"T_73414_row5_col14\" class=\"data row5 col14\" >0.000</td>\n",
       "      <td id=\"T_73414_row5_col15\" class=\"data row5 col15\" >0.000</td>\n",
       "      <td id=\"T_73414_row5_col16\" class=\"data row5 col16\" >0.000</td>\n",
       "      <td id=\"T_73414_row5_col17\" class=\"data row5 col17\" >0.000</td>\n",
       "      <td id=\"T_73414_row5_col18\" class=\"data row5 col18\" >0.000</td>\n",
       "      <td id=\"T_73414_row5_col19\" class=\"data row5 col19\" >0.000</td>\n",
       "      <td id=\"T_73414_row5_col20\" class=\"data row5 col20\" >0.000</td>\n",
       "      <td id=\"T_73414_row5_col21\" class=\"data row5 col21\" >0.000</td>\n",
       "      <td id=\"T_73414_row5_col22\" class=\"data row5 col22\" >0.000</td>\n",
       "      <td id=\"T_73414_row5_col23\" class=\"data row5 col23\" >0.000</td>\n",
       "      <td id=\"T_73414_row5_col24\" class=\"data row5 col24\" >0.000</td>\n",
       "      <td id=\"T_73414_row5_col25\" class=\"data row5 col25\" >0.000</td>\n",
       "      <td id=\"T_73414_row5_col26\" class=\"data row5 col26\" >0.000</td>\n",
       "      <td id=\"T_73414_row5_col27\" class=\"data row5 col27\" >0.000</td>\n",
       "      <td id=\"T_73414_row5_col28\" class=\"data row5 col28\" >0.000</td>\n",
       "      <td id=\"T_73414_row5_col29\" class=\"data row5 col29\" >0.000</td>\n",
       "      <td id=\"T_73414_row5_col30\" class=\"data row5 col30\" >0.000</td>\n",
       "      <td id=\"T_73414_row5_col31\" class=\"data row5 col31\" >0.000</td>\n",
       "      <td id=\"T_73414_row5_col32\" class=\"data row5 col32\" >0.000</td>\n",
       "      <td id=\"T_73414_row5_col33\" class=\"data row5 col33\" >0.000</td>\n",
       "      <td id=\"T_73414_row5_col34\" class=\"data row5 col34\" >0.000</td>\n",
       "      <td id=\"T_73414_row5_col35\" class=\"data row5 col35\" >0.000</td>\n",
       "      <td id=\"T_73414_row5_col36\" class=\"data row5 col36\" >0.000</td>\n",
       "      <td id=\"T_73414_row5_col37\" class=\"data row5 col37\" >0.000</td>\n",
       "      <td id=\"T_73414_row5_col38\" class=\"data row5 col38\" >0.000</td>\n",
       "      <td id=\"T_73414_row5_col39\" class=\"data row5 col39\" >0.000</td>\n",
       "      <td id=\"T_73414_row5_col40\" class=\"data row5 col40\" >0.000</td>\n",
       "      <td id=\"T_73414_row5_col41\" class=\"data row5 col41\" >0.000</td>\n",
       "      <td id=\"T_73414_row5_col42\" class=\"data row5 col42\" >0.000</td>\n",
       "      <td id=\"T_73414_row5_col43\" class=\"data row5 col43\" >0.000</td>\n",
       "      <td id=\"T_73414_row5_col44\" class=\"data row5 col44\" >0.000</td>\n",
       "      <td id=\"T_73414_row5_col45\" class=\"data row5 col45\" >0.000</td>\n",
       "      <td id=\"T_73414_row5_col46\" class=\"data row5 col46\" >0.000</td>\n",
       "      <td id=\"T_73414_row5_col47\" class=\"data row5 col47\" >0.000</td>\n",
       "      <td id=\"T_73414_row5_col48\" class=\"data row5 col48\" >0.000</td>\n",
       "      <td id=\"T_73414_row5_col49\" class=\"data row5 col49\" >0.000</td>\n",
       "      <td id=\"T_73414_row5_col50\" class=\"data row5 col50\" >0.000</td>\n",
       "      <td id=\"T_73414_row5_col51\" class=\"data row5 col51\" >0.000</td>\n",
       "      <td id=\"T_73414_row5_col52\" class=\"data row5 col52\" >0.000</td>\n",
       "      <td id=\"T_73414_row5_col53\" class=\"data row5 col53\" >0.000</td>\n",
       "      <td id=\"T_73414_row5_col54\" class=\"data row5 col54\" >0.000</td>\n",
       "      <td id=\"T_73414_row5_col55\" class=\"data row5 col55\" >0.000</td>\n",
       "      <td id=\"T_73414_row5_col56\" class=\"data row5 col56\" >0.000</td>\n",
       "      <td id=\"T_73414_row5_col57\" class=\"data row5 col57\" >0.000</td>\n",
       "      <td id=\"T_73414_row5_col58\" class=\"data row5 col58\" >0.000</td>\n",
       "      <td id=\"T_73414_row5_col59\" class=\"data row5 col59\" >0.000</td>\n",
       "      <td id=\"T_73414_row5_col60\" class=\"data row5 col60\" >0.000</td>\n",
       "      <td id=\"T_73414_row5_col61\" class=\"data row5 col61\" >0.000</td>\n",
       "      <td id=\"T_73414_row5_col62\" class=\"data row5 col62\" >0.000</td>\n",
       "      <td id=\"T_73414_row5_col63\" class=\"data row5 col63\" >0.000</td>\n",
       "      <td id=\"T_73414_row5_col64\" class=\"data row5 col64\" >0.000</td>\n",
       "      <td id=\"T_73414_row5_col65\" class=\"data row5 col65\" >0.000</td>\n",
       "      <td id=\"T_73414_row5_col66\" class=\"data row5 col66\" >0.000</td>\n",
       "      <td id=\"T_73414_row5_col67\" class=\"data row5 col67\" >0.000</td>\n",
       "      <td id=\"T_73414_row5_col68\" class=\"data row5 col68\" >0.242</td>\n",
       "      <td id=\"T_73414_row5_col69\" class=\"data row5 col69\" >0.687</td>\n",
       "      <td id=\"T_73414_row5_col70\" class=\"data row5 col70\" >1.132</td>\n",
       "      <td id=\"T_73414_row5_col71\" class=\"data row5 col71\" >1.540</td>\n",
       "      <td id=\"T_73414_row5_col72\" class=\"data row5 col72\" >1.298</td>\n",
       "      <td id=\"T_73414_row5_col73\" class=\"data row5 col73\" >0.853</td>\n",
       "      <td id=\"T_73414_row5_col74\" class=\"data row5 col74\" >0.408</td>\n",
       "      <td id=\"T_73414_row5_col75\" class=\"data row5 col75\" >0.000</td>\n",
       "      <td id=\"T_73414_row5_col76\" class=\"data row5 col76\" >0.000</td>\n",
       "      <td id=\"T_73414_row5_col77\" class=\"data row5 col77\" >0.000</td>\n",
       "      <td id=\"T_73414_row5_col78\" class=\"data row5 col78\" >0.000</td>\n",
       "      <td id=\"T_73414_row5_col79\" class=\"data row5 col79\" >0.000</td>\n",
       "      <td id=\"T_73414_row5_col80\" class=\"data row5 col80\" >0.000</td>\n",
       "      <td id=\"T_73414_row5_col81\" class=\"data row5 col81\" >0.000</td>\n",
       "      <td id=\"T_73414_row5_col82\" class=\"data row5 col82\" >0.000</td>\n",
       "      <td id=\"T_73414_row5_col83\" class=\"data row5 col83\" >0.000</td>\n",
       "      <td id=\"T_73414_row5_col84\" class=\"data row5 col84\" >0.000</td>\n",
       "      <td id=\"T_73414_row5_col85\" class=\"data row5 col85\" >0.000</td>\n",
       "      <td id=\"T_73414_row5_col86\" class=\"data row5 col86\" >0.000</td>\n",
       "      <td id=\"T_73414_row5_col87\" class=\"data row5 col87\" >0.000</td>\n",
       "      <td id=\"T_73414_row5_col88\" class=\"data row5 col88\" >0.000</td>\n",
       "      <td id=\"T_73414_row5_col89\" class=\"data row5 col89\" >0.000</td>\n",
       "      <td id=\"T_73414_row5_col90\" class=\"data row5 col90\" >0.000</td>\n",
       "      <td id=\"T_73414_row5_col91\" class=\"data row5 col91\" >0.000</td>\n",
       "      <td id=\"T_73414_row5_col92\" class=\"data row5 col92\" >0.000</td>\n",
       "      <td id=\"T_73414_row5_col93\" class=\"data row5 col93\" >0.000</td>\n",
       "      <td id=\"T_73414_row5_col94\" class=\"data row5 col94\" >0.000</td>\n",
       "      <td id=\"T_73414_row5_col95\" class=\"data row5 col95\" >0.000</td>\n",
       "      <td id=\"T_73414_row5_col96\" class=\"data row5 col96\" >0.000</td>\n",
       "      <td id=\"T_73414_row5_col97\" class=\"data row5 col97\" >0.000</td>\n",
       "      <td id=\"T_73414_row5_col98\" class=\"data row5 col98\" >0.000</td>\n",
       "      <td id=\"T_73414_row5_col99\" class=\"data row5 col99\" >0.000</td>\n",
       "      <td id=\"T_73414_row5_col100\" class=\"data row5 col100\" >0.000</td>\n",
       "      <td id=\"T_73414_row5_col101\" class=\"data row5 col101\" >0.000</td>\n",
       "      <td id=\"T_73414_row5_col102\" class=\"data row5 col102\" >0.000</td>\n",
       "      <td id=\"T_73414_row5_col103\" class=\"data row5 col103\" >0.000</td>\n",
       "      <td id=\"T_73414_row5_col104\" class=\"data row5 col104\" >0.000</td>\n",
       "      <td id=\"T_73414_row5_col105\" class=\"data row5 col105\" >0.000</td>\n",
       "      <td id=\"T_73414_row5_col106\" class=\"data row5 col106\" >0.000</td>\n",
       "      <td id=\"T_73414_row5_col107\" class=\"data row5 col107\" >0.000</td>\n",
       "      <td id=\"T_73414_row5_col108\" class=\"data row5 col108\" >0.000</td>\n",
       "      <td id=\"T_73414_row5_col109\" class=\"data row5 col109\" >0.000</td>\n",
       "      <td id=\"T_73414_row5_col110\" class=\"data row5 col110\" >0.000</td>\n",
       "      <td id=\"T_73414_row5_col111\" class=\"data row5 col111\" >0.000</td>\n",
       "      <td id=\"T_73414_row5_col112\" class=\"data row5 col112\" >0.000</td>\n",
       "      <td id=\"T_73414_row5_col113\" class=\"data row5 col113\" >0.000</td>\n",
       "      <td id=\"T_73414_row5_col114\" class=\"data row5 col114\" >0.000</td>\n",
       "      <td id=\"T_73414_row5_col115\" class=\"data row5 col115\" >0.000</td>\n",
       "      <td id=\"T_73414_row5_col116\" class=\"data row5 col116\" >0.000</td>\n",
       "      <td id=\"T_73414_row5_col117\" class=\"data row5 col117\" >0.000</td>\n",
       "      <td id=\"T_73414_row5_col118\" class=\"data row5 col118\" >0.000</td>\n",
       "      <td id=\"T_73414_row5_col119\" class=\"data row5 col119\" >0.000</td>\n",
       "    </tr>\n",
       "  </tbody>\n",
       "</table>\n"
      ],
      "text/plain": [
       "<pandas.io.formats.style.Styler at 0x2e736a22390>"
      ]
     },
     "execution_count": 33,
     "metadata": {},
     "output_type": "execute_result"
    }
   ],
   "source": [
    "# Calculate the topic distributions on a token-level\n",
    "topic_distr, topic_token_distr = topic_model.approximate_distribution(abstracts[abstract_id], calculate_tokens=True)\n",
    "\n",
    "# Visualize the token-level distributions\n",
    "df = topic_model.visualize_approximate_distribution(abstracts[abstract_id], topic_token_distr[0])\n",
    "df"
   ]
  },
  {
   "cell_type": "code",
   "execution_count": 34,
   "metadata": {},
   "outputs": [
    {
     "name": "stderr",
     "output_type": "stream",
     "text": [
      " 72%|███████▏  | 28/39 [00:30<00:12,  1.11s/it]"
     ]
    },
    {
     "name": "stdout",
     "output_type": "stream",
     "text": [
      "Unexpected exception formatting exception. Falling back to standard exception\n"
     ]
    },
    {
     "name": "stderr",
     "output_type": "stream",
     "text": [
      "\n",
      "Traceback (most recent call last):\n",
      "  File \"c:\\Users\\lch85\\miniconda3\\envs\\cap\\Lib\\site-packages\\IPython\\core\\interactiveshell.py\", line 3526, in run_code\n",
      "    exec(code_obj, self.user_global_ns, self.user_ns)\n",
      "  File \"C:\\Users\\lch85\\AppData\\Local\\Temp\\ipykernel_12380\\2026386901.py\", line 2, in <module>\n",
      "    new_topics = topic_model.reduce_outliers(abstracts, topics)\n",
      "                 ^^^^^^^^^^^^^^^^^^^^^^^^^^^^^^^^^^^^^^^^^^^^^^\n",
      "  File \"c:\\Users\\lch85\\miniconda3\\envs\\cap\\Lib\\site-packages\\bertopic\\_bertopic.py\", line 2109, in reduce_outliers\n",
      "    topic_distr, _ = self.approximate_distribution(outlier_docs, min_similarity=threshold, **distributions_params)\n",
      "                     ^^^^^^^^^^^^^^^^^^^^^^^^^^^^^^^^^^^^^^^^^^^^^^^^^^^^^^^^^^^^^^^^^^^^^^^^^^^^^^^^^^^^^^^^^^^^^\n",
      "  File \"c:\\Users\\lch85\\miniconda3\\envs\\cap\\Lib\\site-packages\\bertopic\\_bertopic.py\", line -1, in approximate_distribution\n",
      "KeyboardInterrupt\n",
      "\n",
      "During handling of the above exception, another exception occurred:\n",
      "\n",
      "Traceback (most recent call last):\n",
      "  File \"c:\\Users\\lch85\\miniconda3\\envs\\cap\\Lib\\site-packages\\IPython\\core\\interactiveshell.py\", line 2120, in showtraceback\n",
      "    stb = self.InteractiveTB.structured_traceback(\n",
      "          ^^^^^^^^^^^^^^^^^^^^^^^^^^^^^^^^^^^^^^^^\n",
      "  File \"c:\\Users\\lch85\\miniconda3\\envs\\cap\\Lib\\site-packages\\IPython\\core\\ultratb.py\", line 1435, in structured_traceback\n",
      "    return FormattedTB.structured_traceback(\n",
      "           ^^^^^^^^^^^^^^^^^^^^^^^^^^^^^^^^^\n",
      "  File \"c:\\Users\\lch85\\miniconda3\\envs\\cap\\Lib\\site-packages\\IPython\\core\\ultratb.py\", line 1326, in structured_traceback\n",
      "    return VerboseTB.structured_traceback(\n",
      "           ^^^^^^^^^^^^^^^^^^^^^^^^^^^^^^^\n",
      "  File \"c:\\Users\\lch85\\miniconda3\\envs\\cap\\Lib\\site-packages\\IPython\\core\\ultratb.py\", line 1173, in structured_traceback\n",
      "    formatted_exception = self.format_exception_as_a_whole(etype, evalue, etb, number_of_lines_of_context,\n",
      "                          ^^^^^^^^^^^^^^^^^^^^^^^^^^^^^^^^^^^^^^^^^^^^^^^^^^^^^^^^^^^^^^^^^^^^^^^^^^^^^^^^\n",
      "  File \"c:\\Users\\lch85\\miniconda3\\envs\\cap\\Lib\\site-packages\\IPython\\core\\ultratb.py\", line 1088, in format_exception_as_a_whole\n",
      "    frames.append(self.format_record(record))\n",
      "                  ^^^^^^^^^^^^^^^^^^^^^^^^^^\n",
      "  File \"c:\\Users\\lch85\\miniconda3\\envs\\cap\\Lib\\site-packages\\IPython\\core\\ultratb.py\", line 970, in format_record\n",
      "    frame_info.lines, Colors, self.has_colors, lvals\n",
      "    ^^^^^^^^^^^^^^^^\n",
      "  File \"c:\\Users\\lch85\\miniconda3\\envs\\cap\\Lib\\site-packages\\IPython\\core\\ultratb.py\", line 792, in lines\n",
      "    return self._sd.lines\n",
      "           ^^^^^^^^^^^^^^\n",
      "  File \"c:\\Users\\lch85\\miniconda3\\envs\\cap\\Lib\\site-packages\\stack_data\\utils.py\", line 144, in cached_property_wrapper\n",
      "    value = obj.__dict__[self.func.__name__] = self.func(obj)\n",
      "                                               ^^^^^^^^^^^^^^\n",
      "  File \"c:\\Users\\lch85\\miniconda3\\envs\\cap\\Lib\\site-packages\\stack_data\\core.py\", line 734, in lines\n",
      "    pieces = self.included_pieces\n",
      "             ^^^^^^^^^^^^^^^^^^^^\n",
      "  File \"c:\\Users\\lch85\\miniconda3\\envs\\cap\\Lib\\site-packages\\stack_data\\utils.py\", line 144, in cached_property_wrapper\n",
      "    value = obj.__dict__[self.func.__name__] = self.func(obj)\n",
      "                                               ^^^^^^^^^^^^^^\n",
      "  File \"c:\\Users\\lch85\\miniconda3\\envs\\cap\\Lib\\site-packages\\stack_data\\core.py\", line 681, in included_pieces\n",
      "    pos = scope_pieces.index(self.executing_piece)\n",
      "                             ^^^^^^^^^^^^^^^^^^^^\n",
      "  File \"c:\\Users\\lch85\\miniconda3\\envs\\cap\\Lib\\site-packages\\stack_data\\utils.py\", line 144, in cached_property_wrapper\n",
      "    value = obj.__dict__[self.func.__name__] = self.func(obj)\n",
      "                                               ^^^^^^^^^^^^^^\n",
      "  File \"c:\\Users\\lch85\\miniconda3\\envs\\cap\\Lib\\site-packages\\stack_data\\core.py\", line 660, in executing_piece\n",
      "    return only(\n",
      "           ^^^^^\n",
      "  File \"c:\\Users\\lch85\\miniconda3\\envs\\cap\\Lib\\site-packages\\executing\\executing.py\", line 190, in only\n",
      "    raise NotOneValueFound('Expected one value, found 0')\n",
      "executing.executing.NotOneValueFound: Expected one value, found 0\n"
     ]
    }
   ],
   "source": [
    "# Reduce outliers\n",
    "new_topics = topic_model.reduce_outliers(abstracts, topics)\n",
    "\n",
    "# Reduce outliers with pre-calculate embeddings instead\n",
    "new_topics = topic_model.reduce_outliers(abstracts, topics, strategy=\"embeddings\", embeddings=embeddings)"
   ]
  },
  {
   "cell_type": "code",
   "execution_count": null,
   "metadata": {},
   "outputs": [],
   "source": [
    "topic_model.update_topics(docs, topics=new_topics)"
   ]
  }
 ],
 "metadata": {
  "kernelspec": {
   "display_name": "Python 3",
   "language": "python",
   "name": "python3"
  },
  "language_info": {
   "codemirror_mode": {
    "name": "ipython",
    "version": 3
   },
   "file_extension": ".py",
   "mimetype": "text/x-python",
   "name": "python",
   "nbconvert_exporter": "python",
   "pygments_lexer": "ipython3",
   "version": "3.11.5"
  }
 },
 "nbformat": 4,
 "nbformat_minor": 2
}
