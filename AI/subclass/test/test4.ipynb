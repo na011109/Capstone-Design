{
 "cells": [
  {
   "cell_type": "code",
   "execution_count": 24,
   "metadata": {},
   "outputs": [
    {
     "name": "stdout",
     "output_type": "stream",
     "text": [
      "3\n",
      "1\n",
      "this is am appie.\n"
     ]
    }
   ],
   "source": [
    "import random\n",
    "import string\n",
    "\n",
    "def generate_spelling_error(sentence: str, n_mistakes: int = 2) -> str:\n",
    "    \"\"\"\n",
    "    문장에서 틀리기 쉬운 알파벳 글자로 철자 오류 문제를 만드는 함수.\n",
    "\n",
    "    Parameters:\n",
    "    - sentence (str): 기본 문장\n",
    "    - n_mistakes (int): 만들 철자 오류의 수 (기본값: 2)\n",
    "\n",
    "    Returns:\n",
    "    - str: 철자 오류가 포함된 문장\n",
    "    \"\"\"\n",
    "    # 틀리기 쉬운 알파벳 글자들\n",
    "    tricky_letters = {\n",
    "    'i': 'l',\n",
    "    'l': 'i',\n",
    "    'm': 'n',\n",
    "    'n': 'm',\n",
    "    'u': 'v',\n",
    "    'v': 'u',\n",
    "    'b': 'd',\n",
    "    'd': 'b',\n",
    "    'q': 'g',\n",
    "    'g': 'q',\n",
    "}\n",
    "\n",
    "    words = sentence.split()\n",
    "    if n_mistakes > len(words):\n",
    "        n_mistakes = len(words)\n",
    "\n",
    "    mistake_indices = random.sample(range(len(words)), n_mistakes)\n",
    "\n",
    "    for index in mistake_indices:\n",
    "        word = list(words[index])\n",
    "        possible_mistakes = [i for i, letter in enumerate(word) if letter in tricky_letters and letter in string.ascii_letters]\n",
    "\n",
    "        # 틀리기 쉬운 알파벳이 없다면 다른 단어를 선택\n",
    "        if not possible_mistakes:\n",
    "            continue\n",
    "\n",
    "        pos = random.choice(possible_mistakes)\n",
    "        print(pos)\n",
    "        word[pos] = tricky_letters[word[pos]]\n",
    "        words[index] = ''.join(word)\n",
    "\n",
    "    return ' '.join(words)\n",
    "\n",
    "# 사용 예시\n",
    "print(generate_spelling_error(\"this is an apple.\"))\n",
    "# this is am appie.\n"
   ]
  },
  {
   "cell_type": "code",
   "execution_count": 1,
   "metadata": {},
   "outputs": [
    {
     "name": "stdout",
     "output_type": "stream",
     "text": [
      "this PRON\n",
      "is AUX\n",
      "an DET\n",
      "apple NOUN\n",
      "has AUX\n",
      "can AUX\n"
     ]
    }
   ],
   "source": [
    "import spacy\n",
    "\n",
    "nlp = spacy.load(\"en_core_web_sm\")\n",
    "\n",
    "    \n",
    "\n",
    "# VERB (동사): 시제 오류\n",
    "# do, have, has, had, do, does, did, \n",
    "# 오류: She have eaten.\n",
    "# 정답: She has eaten.\n",
    "\n",
    "# PRON (대명사): 대명사-전치사 일치 오류\n",
    "# I, you, he, she, it, we, they, me, him, her, us, them, my, mine, your, yours, his, her, hers, its, our, ours, their, theirs, myself, yourself, himself, herself, itself, ourselves, yourselves, themselves, who, whom, whose, what, which, this, that, these, those, anyone, everybody, nobody, somebody, someone, anything, everything, nothing, something\n",
    "# 오류: This book is for you and I.\n",
    "# 정답: This book is for you and me.\n",
    "\n",
    "# DET (관형사, 한정사): 부정관형사와 셀 수 없는 명사\n",
    "# a, an, the, this, that, these, those, my, your, his, her, its, our, their, each, every, all, both, either, neither, some, any, no, few, a few, little, a little, many, much, more, most, less, least\n",
    "# 오류: She gave me an advice.\n",
    "# 정답: She gave me some advice.\n",
    "\n",
    "# ADP (전치사): 전치사 사용 오류\n",
    "# at, on, in, by, with, about, along, after, against, among, around, as, before, behind, below, beneath, beside, between, beyond, but, by, concerning, considering, despite, down, during, except, for, from, inside, into, like, near, of, off, on, onto, out, outside, over, past, regarding, round, since, through, to, toward, under, underneath, until, unto, up, upon, versus, via, with, within, without\n",
    "# 오류: She is good in singing.\n",
    "# 정답: She is good at singing.\n",
    "\n",
    "\n",
    "# AUX (조동사): 조동사 오류\n",
    "# is, am, are, was, were, be, been, being, will, would, shall, should, may, might, must, can, could, ought, ought to\n",
    "# 오류: He can sings well.\n",
    "# 정답: He can sing well."
   ]
  },
  {
   "cell_type": "code",
   "execution_count": 6,
   "metadata": {},
   "outputs": [
    {
     "name": "stdout",
     "output_type": "stream",
     "text": [
      "this PRON\n",
      "is AUX\n",
      "an DET\n",
      "apple NOUN\n"
     ]
    }
   ],
   "source": [
    "\n",
    "sentence = \"this is an apple\"\n",
    "doc = nlp(sentence)\n",
    "\n",
    "for token in doc:\n",
    "    print(token.text, token.pos_)"
   ]
  },
  {
   "cell_type": "markdown",
   "metadata": {},
   "source": [
    "영어 받아쓰기에서 흔히 발생하는 오류 유형은 여러 가지가 있어요. 😊\n",
    "\n",
    "동음이의어 혼동: \"There\", \"Their\", \"They're\" 같은 단어들을 잘못 사용해요.\n",
    "자음 또는 모음 누락: \"Because\"를 \"Becuse\"로 쓰는 경우와 같이요.\n",
    "축약어와 전체 형태 혼동: \"Won't\"와 \"Will not\", \"Can't\"와 \"Cannot\" 등을 혼동해요.\n",
    "복수와 단수 혼동: 예를 들어, \"Childs\" 대신 \"Children\"을 써야 하는데 혼동해서 쓰기도 해요.\n",
    "시제 혼동: \"I am\" 대신 \"I is\"를 쓰거나, 과거 시제와 현재 완료 시제를 혼동하기도 해요.\n",
    "띄어쓰기 오류: \"A lot\"을 \"Alot\"처럼 잘못 붙여 쓰기도 해요.\n",
    "자주 사용되는 고유명사 오류: \"February\", \"Wednesday\" 등의 단어를 잘못 쓰기도 해요. 📆\n",
    "동사와 목적어의 일치 오류: \"The dogs runs\" 대신 \"The dogs run\"이 정확한 문장이지만, 이를 혼동해요.\n",
    "이 외에도 많은 유형이 있을 수 있어요. 특히, 받아쓰기에서는 청취 능력도 큰 역할을 하기 때문에 발음을 잘 듣고 이해하는 능력도 중요해요. 🎧💡"
   ]
  },
  {
   "cell_type": "code",
   "execution_count": null,
   "metadata": {},
   "outputs": [],
   "source": []
  }
 ],
 "metadata": {
  "kernelspec": {
   "display_name": "cap",
   "language": "python",
   "name": "python3"
  },
  "language_info": {
   "codemirror_mode": {
    "name": "ipython",
    "version": 3
   },
   "file_extension": ".py",
   "mimetype": "text/x-python",
   "name": "python",
   "nbconvert_exporter": "python",
   "pygments_lexer": "ipython3",
   "version": "3.11.5"
  }
 },
 "nbformat": 4,
 "nbformat_minor": 2
}
